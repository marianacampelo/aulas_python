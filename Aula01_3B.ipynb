{
  "nbformat": 4,
  "nbformat_minor": 0,
  "metadata": {
    "colab": {
      "provenance": [],
      "authorship_tag": "ABX9TyPk5Sq45NHzJ+ZdfCRM2ADM",
      "include_colab_link": true
    },
    "kernelspec": {
      "name": "python3",
      "display_name": "Python 3"
    },
    "language_info": {
      "name": "python"
    }
  },
  "cells": [
    {
      "cell_type": "markdown",
      "metadata": {
        "id": "view-in-github",
        "colab_type": "text"
      },
      "source": [
        "<a href=\"https://colab.research.google.com/github/marianacampelo/aulas_python/blob/main/Aula01_3B.ipynb\" target=\"_parent\"><img src=\"https://colab.research.google.com/assets/colab-badge.svg\" alt=\"Open In Colab\"/></a>"
      ]
    },
    {
      "cell_type": "markdown",
      "source": [
        "exemplo um - somando dois números"
      ],
      "metadata": {
        "id": "7fk3aN9DFg3I"
      }
    },
    {
      "cell_type": "code",
      "source": [
        "n1 = 12\n",
        "n2 = 10\n",
        "soma = n1+ n2\n",
        "soma"
      ],
      "metadata": {
        "colab": {
          "base_uri": "https://localhost:8080/"
        },
        "id": "ChqfZyvnFtk_",
        "outputId": "f8282acc-ca5f-4261-c691-f0d9b01d4286"
      },
      "execution_count": 1,
      "outputs": [
        {
          "output_type": "execute_result",
          "data": {
            "text/plain": [
              "22"
            ]
          },
          "metadata": {},
          "execution_count": 1
        }
      ]
    },
    {
      "cell_type": "code",
      "source": [
        "print(\"A soma é:\", soma)"
      ],
      "metadata": {
        "colab": {
          "base_uri": "https://localhost:8080/"
        },
        "id": "FURZurAdGTpF",
        "outputId": "7f8b9cee-8f59-403a-f930-effa2fd4a248"
      },
      "execution_count": 2,
      "outputs": [
        {
          "output_type": "stream",
          "name": "stdout",
          "text": [
            "A soma é: 22\n"
          ]
        }
      ]
    },
    {
      "cell_type": "code",
      "source": [
        "print(\"A soma é {}\".format(soma))"
      ],
      "metadata": {
        "colab": {
          "base_uri": "https://localhost:8080/"
        },
        "id": "ouHH-XKFGnaV",
        "outputId": "2f905d69-35f9-4ae2-9133-40a4cf14ef97"
      },
      "execution_count": 3,
      "outputs": [
        {
          "output_type": "stream",
          "name": "stdout",
          "text": [
            "A soma é 22\n"
          ]
        }
      ]
    },
    {
      "cell_type": "code",
      "source": [
        "print(\"A soma de {} com {} é {}\".format(n1,n2,soma))"
      ],
      "metadata": {
        "colab": {
          "base_uri": "https://localhost:8080/"
        },
        "id": "biVIUPVdHl1G",
        "outputId": "46cdc756-2b8b-4f2f-94a0-42a8102fe0aa"
      },
      "execution_count": 4,
      "outputs": [
        {
          "output_type": "stream",
          "name": "stdout",
          "text": [
            "A soma de 12 com 10 é 22\n"
          ]
        }
      ]
    },
    {
      "cell_type": "markdown",
      "source": [
        "Operadores aritmeticos"
      ],
      "metadata": {
        "id": "bJockbyQIHwu"
      }
    },
    {
      "cell_type": "code",
      "source": [
        "10 + 10"
      ],
      "metadata": {
        "colab": {
          "base_uri": "https://localhost:8080/"
        },
        "id": "Ii9Ke7-aIPWu",
        "outputId": "8d3a55d4-ecae-4ddf-f1c7-0f54060164a0"
      },
      "execution_count": 5,
      "outputs": [
        {
          "output_type": "execute_result",
          "data": {
            "text/plain": [
              "20"
            ]
          },
          "metadata": {},
          "execution_count": 5
        }
      ]
    },
    {
      "cell_type": "code",
      "source": [
        "10 - 5"
      ],
      "metadata": {
        "colab": {
          "base_uri": "https://localhost:8080/"
        },
        "id": "8SVHrhZsIVxd",
        "outputId": "e52892c8-bcc0-44cd-88d9-9300640e864c"
      },
      "execution_count": 6,
      "outputs": [
        {
          "output_type": "execute_result",
          "data": {
            "text/plain": [
              "5"
            ]
          },
          "metadata": {},
          "execution_count": 6
        }
      ]
    },
    {
      "cell_type": "code",
      "source": [
        "10 * 2"
      ],
      "metadata": {
        "colab": {
          "base_uri": "https://localhost:8080/"
        },
        "id": "fCjiXoK_IYtc",
        "outputId": "6f1543fe-1825-498f-887f-0cd2a985ada0"
      },
      "execution_count": 7,
      "outputs": [
        {
          "output_type": "execute_result",
          "data": {
            "text/plain": [
              "20"
            ]
          },
          "metadata": {},
          "execution_count": 7
        }
      ]
    },
    {
      "cell_type": "code",
      "source": [
        "10 / 3"
      ],
      "metadata": {
        "colab": {
          "base_uri": "https://localhost:8080/"
        },
        "id": "xP18PaoVIeNY",
        "outputId": "0fc36211-e98d-4180-efbb-9764656b3417"
      },
      "execution_count": 8,
      "outputs": [
        {
          "output_type": "execute_result",
          "data": {
            "text/plain": [
              "3.3333333333333335"
            ]
          },
          "metadata": {},
          "execution_count": 8
        }
      ]
    },
    {
      "cell_type": "code",
      "source": [
        "10 // 3"
      ],
      "metadata": {
        "colab": {
          "base_uri": "https://localhost:8080/"
        },
        "id": "lPPI8SMIIgtZ",
        "outputId": "80b87d4c-ff74-4220-d108-e34cbb77e9bc"
      },
      "execution_count": 10,
      "outputs": [
        {
          "output_type": "execute_result",
          "data": {
            "text/plain": [
              "3"
            ]
          },
          "metadata": {},
          "execution_count": 10
        }
      ]
    },
    {
      "cell_type": "code",
      "source": [
        "10 % 2"
      ],
      "metadata": {
        "colab": {
          "base_uri": "https://localhost:8080/"
        },
        "id": "jLaNUzQuI85u",
        "outputId": "bcbe5cf8-fe3a-4878-c110-385bfb579c43"
      },
      "execution_count": 11,
      "outputs": [
        {
          "output_type": "execute_result",
          "data": {
            "text/plain": [
              "0"
            ]
          },
          "metadata": {},
          "execution_count": 11
        }
      ]
    },
    {
      "cell_type": "code",
      "source": [
        "2**3"
      ],
      "metadata": {
        "colab": {
          "base_uri": "https://localhost:8080/"
        },
        "id": "Nz2dqjqDJKfU",
        "outputId": "b1b168b9-149e-4c45-dbe0-a5ea6da2fe85"
      },
      "execution_count": 12,
      "outputs": [
        {
          "output_type": "execute_result",
          "data": {
            "text/plain": [
              "8"
            ]
          },
          "metadata": {},
          "execution_count": 12
        }
      ]
    },
    {
      "cell_type": "code",
      "source": [
        "64**(1/2)"
      ],
      "metadata": {
        "colab": {
          "base_uri": "https://localhost:8080/"
        },
        "id": "Q36S5nejJcBd",
        "outputId": "ffa716e9-1996-44bb-bfe6-a31611879ef4"
      },
      "execution_count": 15,
      "outputs": [
        {
          "output_type": "execute_result",
          "data": {
            "text/plain": [
              "8.0"
            ]
          },
          "metadata": {},
          "execution_count": 15
        }
      ]
    },
    {
      "cell_type": "markdown",
      "source": [
        "Operadores lógicos"
      ],
      "metadata": {
        "id": "3xcSlWPIJzlV"
      }
    },
    {
      "cell_type": "code",
      "source": [
        "a = True\n",
        "b = False"
      ],
      "metadata": {
        "id": "yDDkxBifJ416"
      },
      "execution_count": 16,
      "outputs": []
    },
    {
      "cell_type": "code",
      "source": [
        "a and b"
      ],
      "metadata": {
        "colab": {
          "base_uri": "https://localhost:8080/"
        },
        "id": "MUHZAquSKkkl",
        "outputId": "1fcd16db-e6b8-4a49-b330-43b1c7e81c48"
      },
      "execution_count": 17,
      "outputs": [
        {
          "output_type": "execute_result",
          "data": {
            "text/plain": [
              "False"
            ]
          },
          "metadata": {},
          "execution_count": 17
        }
      ]
    },
    {
      "cell_type": "markdown",
      "source": [
        "![tabela verdade.PNG](data:image/png;base64,iVBORw0KGgoAAAANSUhEUgAAAzYAAADxCAYAAAAZSiLQAAAAAXNSR0IArs4c6QAAAARnQU1BAACxjwv8YQUAAAAJcEhZcwAADsMAAA7DAcdvqGQAAP+lSURBVHhe7H0FgFbV2rXf99/+bnqv99qd11ZUwMAGAzEQRQnFQBCDEKRBuku6O4fpbmKGGIbpThrpnmT9a+3z7pmXYUBCUXQ2PPOes/vseM5au84lqDE/S1NeXo7jx4+77s7MyL+VH9tUTeOnSPNsTFlZmeuqxtSYn6f5sfvQjxm/4j7X+H/K567q9mPnpcbUmBrzw5hz7atngq1O50f2pwtfUlJiwp+vOZfn+yHS/SWYGmJTYy5a830KpsbUmF+z+Tn0D5uHqvJjmR8z7hpTY2pMpbmQIFr9WulZwnEm/dz6OxO/pzJVw1aN73zjrzE/jqkhNhe5Uaeynd2an6qj/Zw6+c8pLzWmxtSYi8/U6I8aU2NONqfrF3LT6ogL1XdsetWRLLm5k6FzMRfqOdzNT5HmL83UEJuL0LiPWlhxNxeqY1SX9qnM+eTpbNKpMTXmYjXf18are3mfqfk595+avl1jaszPz1Ttl/b+fIjC2ZgfMg3FdSHy/EMY93xeTPn+OZkaYvMzNlUbta7tCMSxY8eMFBcXo7S0tMJe15If0th8VJef7xudsX6sWLvThbFGfvRMNqyu3U118VS1q85PjakxP7VRW3Zvl7bvWrvq2q17+z+bNl017gthlJb7M9p7a3cueTnTMDYt69/93l1qTI2pMdUb9Q/3d66urQ6pru/Yd7s17v1PRvc2Ltnb61OZ6tKQsWFP5X46czbh3P3pWs+nX4l9ljOJz4aRsWGscb92N9a/fm267sbGadN3d6+ahjVV4/ilmxpicxpzqsYjY+3cxd3Y+1O5SWwjdL+31xI1aveGrU1pUi42nLvRvdzkv6rbuRqbjs2bxD1P7nmszlT3DDace9ynMu5hbNr6tXb2ed3js/6ssXY1psb8HIx7W9W1bcfuoEFutq+7+5fYOKxUZ6q66dq9D14IY9OyaVdN3/15qjPy6y7yW/XePby7m0RG7lXTlp0tbxtebu5+3OOoMTXm12TU7m3fstdV7axYI3vbn2SvvuR+bX/lR8aGl9h4rX9rqt67G9m7p1GdP9nJ3d2cym91xvrTb3W64nT5s0Z+7HO7l49+rei+qrj7U3hr7L11d7ez9zKyU3qn8/NLNzXE5jRGjePIkSNmZsSedKHGoUaimZK9e/di586d2LVrFw4ePGjsbCM6evQo9u3bZ9y+++47c71//37zu3v3bhNu27Zt5vrw4cMVDbGqWCN3+d26dasJu2fPHpO+4quaj6KiIleoczP2OSW61nMp7zbPSlt21l3PW9XIXmWnPO/YscOUgfKpe10rLtnrXuXr/qwy9l5xKx7537Jli4nD1oV7PlWGen7FqTKRnxpTY35uxvYXtVn9ql8VFBQgLy/PtPFDhw6Zvm6N+rL6yPbt2yv0hfqP1SnSM4rH9oeq/UL9QGnYsOo/6r+6llg9Ij/na+wz6VdG19JHyrt9NtlZY/25G+Vd+kDPpmdUn7b9WmL1qXt8Nl33l7meW88lnaH0lQ+5K379yl1hVL4qA/lRGbiXfY2pMb8mo/7g/h5VP9Ov+oX6pPqQtVOfkZ3VNza8/BYWFhpRH1UYq4/0a/WR3Gxflm5S/1N/tfrMGoVz1xM2DRtG8Vg95q7TbJ5PF9eZGvt80g2K12Iw4RL3+KszcleZ2ue0ustdn0mUZ4sDFUb51K+9dk9b4Wza7v6UT5Wf0ti8eXMFDrLl/2syNcTGzdgGbI0aWlpampEDBw4YMG9FDWvdunWYNWsWRo8ebX51L3u5q5NGRkZizJgx8PHxQWxsLGJiYrB8+XIMHjwYo0aNwsyZM+Hl5QVfX1+sWLECmzZtMg1Y+bCN1TZe5WXJkiWYMmUK5s6di+nTp2PIkCEYMWKEiWfRokXmd+HChSa/CneuxpaDnlnpCkBkZmaaNMaOHYvQ0FDznMqrnrVqWsqvAMOGDRswf/58zJ49GwsWLMDkyZNN+JEjR2LevHnGfurUqebZFZc1thMqH0pHwM/b29uUZUhIiFECil9h5FedV3b+/v7Gz9KlS42C+7V15hpz8Ri9dNauXWvaqvqIRH1BukD9xvYH6ZH169cb94EDB5q+o760ePFiI/KfkJBg+qjau/qi+o1EceglKj/STwonHaE4hg0bZnSI9IV+J0yYcNYDIkpP6dh0rShNpa2+m5WVZdKW3pIOFNiwprr+qRdzXFyc0Q0Kp/wqb8qvdKa1V1lFRUWZNGSkAySKUyK9lZGRYcpt0qRJRhcLGNg82he+LZ9x48YZPS1QUF2+akyN+SUb22dSU1MNzhCuUJ+bM2eO6Y8iEcnJyUaHqD8GBASYQQP1JRn1Q/VvhRU+Ub9TWL2TN27cWDFgo/ey4pO79JDiEq6QLlPcHh4eRp8pPvVP26etkb36q3SW4p8xY4bJp/Krfq64pBuEq5RnhbfG6oYzMdafns8OFqt8EhMTzfMJywjPyU1+lNeqRnEIH+n5pceUV+V54sSJJr96flte0mnSZ9J/VqeqvCS6l73IosVga9asqdD57v6EIYOCgjB06FCDNaXPlAe5n+mz/xJMDbFxGdtA9GsbqQC1wMSAAQPMtRq3Gonc9asXZ4cOHXDTTTfhmmuuwQcffID09HQTj0iBAMmTTz5pwIvCS2kovr/85S+466670KVLF4wfPx5t2rRBkyZNTDoCNe6dxb6AJW+//TY++ugjfPvttybsFVdcYeTjjz82nUZ5adGiBcLCwkxe7XOcjVF6SludRgRGeVaZ5Obm4v3338eVV16JVq1aGT/yq3Sq6zAqg2nTpqFp06bo2bOn6YwvvfSSKafrrruuQhk1btzYEDR3o7gVp35Vzio7xXHVVVfhs88+M6MW6uhykz/lQwpPiuKGG27A888/j+zs7GrzVWNqzE9h1BYl6hcacdOL/Z133sF7771nXlarVq0y4Fr9Qf1cukNkXX1YL9OOHTvin//8J2677TajM/QilN2zzz5r+lhgYKDRG+oLSkOi/qF+K73w1VdfmRdqu3btcP3115t+/Pnnn5t45P7MM88Y0KH0zrTfWB2gtNQf9SsiJpBiX6j5+fl48cUXTXrDhw8/QSdVp5/Uj/XyV7lIHyqM+vN//vMfPPHEE2ZQ6JtvvjHlpJe39KyM8qH4lCf7/Bq1lG6Ufu7Ro4chNno2+ZHeEsmSXf/+/U2ZSHdKb9SYGvNrM+oX6g963/fq1Qt33nkn/vWvf+Gtt96qANzx8fHo1KkTPvzwQ4Np1NfVzzQTIULyyiuvGGwggiKSo34sXCPcoIEF+ReuSEpKMvHofV6rVq2KQRbpqLp166J58+YIDw83+VG67vpI/VzpKx3pS+mua6+9FjfffDNatmxpcJD02pdffmkIhdVnZ6rTrLEYRHosOjrazKhLn0kvv/vuu7j11luNLpLOlL3y5W4U1uojlYfKoV+/foYQPfzww0af/fe//zUYSXpOOrx3794Vs0wKb/WYRGkI9+i5L7vsMoMBpe9lpMuUvsJJH6pc/u///g9vvPGGIUM2jur07S/V1BCbKkaVbxuBCIKIiTpsRESEaXS2sepXjU1M/PHHH8fvf/97XH311Rg0aJDpBPIjhv/pp58aYCKjRqcRij/+8Y948MEH4enpaTqO4laDFdnRrxSIBQy2UyouvdBXrlxp0tXookC8wI5e8OpgGlFRx1ZHVFgpharG5t3dWFAgI2AhEan54osvDEjRc0shCUj99a9/NYBMcSuc7dDKo7tRHBqNUMcVWFAHk0L629/+ZoCGlJuAmzq90lB+ZRSP7dgyshdA0bOLxKl8BJbcSab8KD0pDQG/Rx55xMyeKR4ZxVX1ma05nVuNqTE/lFE7k0gHiNQ8/fTTqFevnukfIjpqg+oPevnpRf3mm2+aWUoZgW+9/PRCu+WWW7B69WrT7zTj8/rrr+Mf//iHGfBISUk5QW+o32qmVSOC6m9KWzMnIhl6sWr2wwIWgQtdS8/YfiOjeKxRHm1fsf1Gv1Z/CLhopFQDNQI26pN6+eql/tvf/hZ9+/Y1fu2LuDoj/yJp0h3SGerr0jcaDFI8Gs3VQIeeSSOSStPqNAsKFLdEulUDQAJo+pWO1DPawRj9Ko8aEFGZqyw1MGWNezlUZ2xZ1Jgac7Eb9Rf1H/vuF9AWthAmkY7S7If6tFan2JlN2z/03n3ggQcMUJdOkR5T/xLhER669957DUHSTIve2XKXPrv88ssNyFd86vfqey+//LLRZyJDAvJVjXSb8qDZEuVBg0IalJBeFA7Ssi6RD+kGxeeup6oaqyetsXpERvbSl9LBIk/Sa9IdwnbStSJlffr0MbpbZae4bDhrZK8wwncqF82mSL/Wrl3bEA8N1Ci84tTMud4LdvmY4lNZKT7ly+o14Z8//OEPpgxUjtJhNm39SlQfwqMarNKMuYzikdv36bRfiqkhNm7GvRHpJahZBr3wRCA0q6COKj9qrGpk8icl0K1bN9NBf/e73xlFIMYsMCJFoZEJAQ51GDVqTZf+7//+L26//Xbz8lYc8quRSQF3jTzopS0FIzelp7BKU0RL+ZJdcHAwLr30UpOm2Lv8KD2BHeVJIySarhQ4UEe3ow4akZGbZobsWk+NyIgw6V4dRXE0a9bMPLdGb7S0TYqta9eupkO++uqrhqxpCZnypHKx5SeRUSfScwtYKU494yeffGIAispUI8nyq44nf+r0dlZLSkt5V5ryozwKFAnYCdwI+GhER6Lwem49vxSwSNN9991n8ic7KToRvpycHKOYRbLcy1W/uq8xNebHNGpnEr1sNbMrgv/aa68ZoC5doj6i9qi+IOKhfqKBBLVtuYt46IUv4q5+p7hE+DVwopfYCy+8YPqNe7tWH9TLT31EukcvSs3QaABGoEWDIPKjNER8NMIpvaJrEQr1F+kGhVe/kQ5RX1JflrvyoQEEAQzZqT9Kb0iHaVZJ8aj/CSRJb7Rv397oHaUhHSR9Y/Nry0h5kW6QLtBzKx3NYEnPNWrUyOgi+Zcf5Ut6w+oZgRCVgcCB/Eh/aKZGzyowIkIo3SidJV2otNT3tXxVZa6ZJekfGeVNcSpu6U/Nzqv8ZKz+qNEbNeaXYGxbVn/TtQYLtFRcsyfSQ5odFVbRQKxmZrQETf1LmETvfrn/z//8jxmsUX9VHOor6l/SH8I6encLC+ldLhIjPKV++dBDDxl9oPSlqzTr8qc//cnEpf6nuNyN7qWD5F9piCwpHmEnDVDIKH7pBi15U/rSa8JBwjXSUcqj4pab4pK+kLvcpCOksxS3MJF0tGavNOAkfSZcoVlvERv9SidKn0gXSme46wSVkfS6Tc+WSYMGDUx5iQwqr7IXiZMfla10jfKu5X4adLL6TLpag8MiNtJryqtIk3Sp9KFNW0vx9E547LHHjN5WWJW7nlW6TO8clY/qT26SX5r51RMbdRTbeWxnUWPUS13Ln7TUQwRC03qyU+OSH/mVPzUssXk1JpGb//f//p9RCOpwUhAiBmpEajwCF/InPyJAUhRSJopTCuOee+7B3//+dzONqs5QtcHZBq70FVbgSIpHcaqRKh51SikKzTRpylSESSxfo5ECNSJBAkHqIOrIyr9GU0RWdK88yp9IjcCEOpA6uF7wGrn4zW9+YzqkQJFGZuvXr2+mnJUnpS+xRuVj75UvgTDlWXGrE+tZ9PxSaAJCSksjFwJAUpZSriJ4ctdojEZeNQqhZ5KSlB9bvkpH09la5qb8qaMrfY3odO/e3ZAhjbCoTm3acpdR/Vct6xpTY35IY/WM7ed6eaud60WmdqgXnHSK2qGWOejFp6WbAuDqIwLff/7zn83IpJatyU4kQURfOkNLt/TCqq4dW/2mvqQZZg0sqC9pZE/9Ru5KX4MuIg8iXgIe0h/Se+pXmumR3tAgjl62mmmVzhDpkN5QPhVe+dPsjEZqRSKkxzT7pJex4tJgkcI0bNjQ9HXpG+VB+davykC/Vi+qr0o/aZZb6QlcWN0rkqh8Ki2BCwENxSt9rGeSzlF/l45UWUpPdu7c2ZSZlp8pvNIRIBIwssRGelt5k56RnlUcEukZGem6Gn1RY34JxvY7Gf1asq/+rPfljTfeaJaPqw8KF1iCr34jzKGZkTvuuAOXXHKJwQMWG0nX2P4rkqL+K0AvwK6ZEL3P//3vf5ulaHo3K11hDOEJ9VfpMw1uWN3lbhS/jNIXztLMj/Io3SL/ypsGWzTQqWWsIkua4dASN/VxLaOTX+kKLX8TWVm2bBmeeuopo/9EVpR/hRchUz41sCoCITc9p3CMVvJoOZrKRgRI5E8DPCpT93zr2t5r5Yt0kcVRdoZGorISPtPqFM3eSJ+pHPz8/IyelJ/WrVsb/Khls9LfmolWPhTGDgRLV0vfaiWRBn6UhrCU9KRmjjRIJtyk94XVtb8086snNmqEtmJ1rRemZkU0+ifwrtkXjThoFFKdQS9LNR7bILQ5ThvaxfgFzvViV6MSCNALX6Ou6qCKW51FL1fN2GhWQYzcviRFRurUqWPIhBqqQIvs3Y38Km396oUrcCIloA4oYCI3dXqNHshNBEJkRGDk66+/Nvm0edQ0qB1pUAeTAlMH0vPLn5SVOrWAkEYTJOpEAi0iTSJEImBamqYOqDJTfpW+8iFxN+pcIjbyr1kVKU7rT2BCoEVLczS6ojxrBFXATyNCUlJSIAJwmqpWmQtsaURC09xSrlKMstNIipb5qcxFbqR0pNw0WiMwptEXxaW6k6gelYeqZV1jaswPaWxblz7Ri1IvY4FrjaRZXaK+I1EbFbHRS18zl3JTvxU4UPvWi0vAW/1JekS6RvpKgMG+9K1Ru1a6MkpHLzalrb6kvm37rPqPXsxa1iFdIH0h0aCACIr6lgiRdJMGePSiVD6lS5S2+reWlOpeuke6Tf1PeRJB0otcwEIAQgMSGmVV/kXsbP9T/qrmV3GIEEmnipAIhNhnFNBQX9c+GoEigQ/NamlmWDrSEhvpHJEp+Vc56oUv/afnFdCwxEbPphkhPZ/yqnzqXgMu0jUCGzJK3+a1xtSYi9mor9n+pDZtZ3alD0RCNNsqjCHioEEE9SkZ4Q21f+kzLWsVsZG+UFwSi1U0GCCyoBkEzc4Ic0gnqM8pnAZxBLQ1OCo8cffddxvyoQ3wwkunMyI2wizquxrQVN/WMyh94RjhN+kzYRkRGOEXYSHpVKWvMMITIhRaDiedqLiELxSPcJAwlGa4lT9hEekZERsNdmu5nOylN1Q+WtEiHOiuw6oalZvduqDyEBFSWSm/KhsRO816azZG5EO6WBhSBEXPJd0mYqNtAhrg0r5JzeILwym/yrfeD4pf6Ui/isBId2qASYNSqjMth5O/X6oeq5mxYQMUcLAd3I4E6sWtmQo1MDVcNXq97NQw1BgURg1Co4N6sUshqBGpMaoz6EWskQKxczsdaEcBRGwECvRilQKREXhQY7MjtUqnus6hPCp9O1IhIqSRUuVHRumowauDCmSISGnUVEBfnUovZ3UEvajlT41eHUydXB1DeVTnFahSHHo+GT2fRjvVYfTC1yyK4hbREfBQx7P51W/VvCt827ZtjZJU+dipU4lIjspNszAig1JAAiMCRFIUIjYabdAoiRSt/GtpmTqqRrF1IIOIlUCbwJfKUWWuMpLCkZ3qUc+uehTIsUTMln91ZV1jaswPZWyfUF+1e1w0yiZiY410j/qDwLp0hH4FstW3NeKoWR69ZPVS02ij+qf6rvbtqY+oPSu8fq3RtW3bikcvYqWvF7NGYC2IkZvAhAYzpAtEQKzeEGnRTJP6rXSTBl00sCJSJeAgUCCdpMEZDQIpfhEQC5I0aKGXsfq39ITIkkiaAI90rXse3fuh4rT9XP6lZwS2ZC+jARHNRqsctQRNoEUESmBFz6MyUVrq89pQLJ2lAQ6VnQiilpeo/FW2KkuNumq5hspF+lmEUaPJKm8BMI1guw8guZdzjakxF7NRW5bYd7KM3pF676pPS/eo31hior4t/wLH0hkiNuprti+r/0mvqH+LqKj/672s97D6kGZDNQAiXaOBUfU1DXY8+uijZgBSaXyfkW6R7pEuU3/WwLN0g0TPoMEfYSDt/VE+RWCE0ZS+BmqEDZ577jljp2Vp0hPKg+KULpZ+0ey68IPsZKQTtaxV+kKDJhr40ECs9LnwnmaUrT5112Uyule8dgZLOkY6SQRN+VVYkTsdIiC9o4Fd4SXpOOlhPZdW2ghziWRKL0vPCqsJB2kWTGkLYwoXauWQ8JN0tQbmNXAuPKf9TdJnqi8Rq1+iqSE2bGwSdUh1FAF7jTaKfWsEUtOWAtgC2gIR80l49u93loQpnMCAXXYmOzV0AXiB8CuuuNx0DL2cZRS3OpRAi5aiCSyooasTGKBw772mwYuV2xkNa+y1VTzqaOpwltjwKUzDV1xSHnaaVyMaypft8Nq/o86uZXPqzKZjPFTLABTdq2MkJjmd5XLm3xIbKRp1NJWDgIY6xKzZs8yzvPpqI7Pe35aJ8qdrd6NntzM2UijpGc4yEPlVuYtUSYn27NUTX7b/Epf+81JT7gJCWruqWRY9k8ilVVCaptXzC9BoGnbWzJkmbilQPZeIlxSy7LQXQLNM6vyqU43UqjxU/jLuZV1jaswPbdS+JOpPmmXUi0ijiJoJtX26lP1B7VIjjBrg0OidXqTqJxrV1ItXs50i6JrtUT+WCNir/yl+9buqfc8a9TOBdg2I6AWueBT3kcNHzK8GaERKpJvsPh71EekEgQ2RKoF/9S0t8dToqoCJwim8lmnoZX0ZAUvCxo2mz+uZFEYDIhqwENkQQdB9w5cbmr5s8qwyYFru/VBlIt0pPWBP+RHYkH/lSzpIekPxSgdqxFjlqplf5Uejy5pt+fe/L0PHjh2Mfw0YCaCpLLtTb4jYaPRWZaL4NWMsXSOgokEU1Zc9Rl7ETc+k9N3zWWNqzMVubJu2oj6vvqJZD51EKnKjPqFr9Un1PwFyAXDpABEbDVyINJj+TJG+ER4SkBcY10CG+rsAuYC53ueaadBgi0iCdI8GT0R6LJ44lVEeRa6Eb5QvhVUfVRijS5k/YR3FJzygvmvf9xb8W2Kj57GDOiJIWgGivEvPSb+KFIjQyU4DssJ30hfKs/SzsKLwnp1RVhpKq6qOkJ1EaQq3qEyVF8WrMNJP0qUiHsIpIjEif1oaLGKj59K1dKd0lIinylMraBSfiIrqRDPxuheREbHRs2omW/Wg8hJeFQnUM6sMf4nGjdioEqqIqRgr1ZgTnN1vLh4xL9PyMr7cD/HlWoqtWzZj5ozpWKwjWFeuRMzqVZhKtv8IiYBe2F98/hlyc7JNGP5BSHAQ/Hx9sJfMu6y0BCXFRSbcW03exB//8HvccP11KCzINy/uo0cOY47IwP9cgnvuvgvLPZahuOgYDlEZTJ0yGTffdCNuuvEGTJk8Gfv37TXxV+TVXvNXafv4euOqq6/E735PYjNlEkqYdinzX6T0mefLr7wcjz72KCIiI1B2nB29jCSivBQLFy3AbbffhrqP1sHqmNXYmBCPB2o9gGuuu8b4LSopwob4Dbjv/vtw9bVXw9fPh6kex3e7vkPHTh3wp//7E159rREO81nmzZ+L3/z2N3ilUUPk8xmLS4tRzPBKr1z55L8Spcv7ffv34tPPPsVf/vYXpn8rUlJTTH6pArFt+za079AeLzd8GXPnzUXfb/oYUtXivRYo2FSAnd/tQN9+ffH3f/ydYONtZGVlssMW4J13mrKT/45KcjCV5V5DbK4j2VNdpSQnsXw98Gfm98orrjB1doSdWGW9d89eliEVoBQdFYuK1chpjfV0jqK+9FNIRR4qzYm29krtq7K9Vbqfh7GRuMuv0bg9fxZfRK0//hj/vPRSNHmzCdL54pduUNvUb2JCAq7my/VPf/wThgwewvbJlyRB+vhx3+Ivf/4LbuFLduWKlchIS0eb1p8wnn/i4YcexsIFC3GUBKWy3k82avMzCVSkxy7li24uAYXpByXsB0ePIUgg5ZprUeeR2tiwPs7Eo7RFfDSgc/VVV6MxwX9yUpLRj3f9907qtxvg4+1jwsesXo27SGxuuP56xK1fb8IePHAATd9+G7/ni7Znj57YTbIhQvFH7bl5/Q3k5eTieJl0GkmZ+XVIju2f+bl5aPbOuyyPPzLtxiyvdONXcaeR5HTp3JlE5SWSD19MnDQBf/jjH1CXek8ERDqrS5evCA4upd5uh+92bkfcurV4of5zuOaqKzFyxHDs27vXHDsvcKTT1zQbZQdR7My5gIcIp51dE2ARyPi1GrUuqy3cxWni7q4qI4nzLnDca8zP0YgQCFyrrQt8a6ZFgxdavqlBDhEaAX+t9tBqFvUH+dXAowYeNBCjWRfdKy4NLKiPaMZZAN7OkGoAUmE1UCPQrlkFrdLQyhHNhGj2RYPBGkhRH7Z5czeKW0buGhDW7Ini1/4U2zfLiC3mE59cT/z1PPu7ZmrlprRFJiZNmkhCdi1JxjMkDXl8xiim/Q/zjBrYVprSBVoKptkN5VHpigRpgFZpamZFhEMDK5pZUTlUnYF2N8qX4tA+YQ0I6/RWPYPs9SsSonLW8nmVseJXOpoJ0kC36kWzNxq8EZnS0jgN9IjAaMBYxE7PJjKqAXIRHhEvERuVtfzp8ACRGQ36qC4Up/KrPFSX55+vsdrEyommCrGxCokiIG2lmoDGVMRrL1xhLyYxBIUNjgRj/9498Fi2BMMIlLdsKsQxgvdjRw/zBZpMMPIhLv373/BY3TpYumQRX9j7GK4cfj7eWLp4kQl7nMRBcRYdPYKIsFACjgdx6803ITsrw6Rz6MB+TJ08Cb/9f/+Le0lsFi2YT5C9y7xsP237Ce6/9x60/aQ1EjZuQCkJislb1fxSRJAWLJyP/1zxb/z297/BsBFDceDQfrqUG3IREhaCf/2bgKf2wwiLCDP2+ldSVgwPz2Wo9fCDqPVILSwgyVm2fCnuuPMOQ4R8CQ6OFR9DemY66pD4/PXvf8WIUSOwi3ncsm0zviJI+N0ffofX3ngV23duw4TJE/Cb3/0Gz7/wPJJZRqV8/uLSIpNOSXkJU6SCOS7yUobCzQX44KNW+L+//B9uue1mrI5dRf8kY5S4+PW48547TR6mTp+Kbj26mfw3eLEB3eJM+v0H9se/LvsnmjeX8kg1hOytt97EAw9or5IflSyV1cTxBF9X4O47/4v169YgKXEjHrj/XvyJBHNAv2+wiUpIgDA5MYl1e5RFSYBUTCXJX4GryvZcjZg/J9fFGYl7X/opxOTDPETFU1Q8VoVNJQiRXaX7eRgbtZUfJNKLwNjnrEZEPhYvXIin6j2Jeo8/gXlz5uLAvv3UP8U4TNLdt3cfQy5eJqhWW1WYvbv3UCcNxZ//9CfccN318Pb0MvH4+/ri2aefwVVXXIk3XnsdIUHBKCYRqpqmFbXx6VOn4or/XI5//O3vGD1ylIsMESwwfU8PD5N23dq1sSYmxgnHl55Ii9zuuO12PPlEPXgtX45JEybg9ltvw40kNn4+vqYfiQzdd8+9Jv5FJFrfkQhs27IV77zdlDrvN+jRrTt28GXc7euu+MPvfo8XGzRAWkoK01Dm3PIqIOPqmzlZ2WjS+E38/re/Q6OGr5g0RMSO80Ws57/phhsItm7GkqULMWjIQPzP//sf1H60LrZu34Y9e3ejZ8/uJHF/xWeffoLcrHSsjAzH641eRoPnn4WPlyd1qXPcs0ZgdcCKZmw0qqkZa4ElgQSBLi1t1cZpjYgKDNiZ3hPy/SsR/VhtoTeeFaeL6691EQDVL0ET7a0aqDE/PyNQK9At4C+wrJldrSgR+BXo1rWWnmqJvfqJgL5AtMJoSb3IiAiArgWcBZS1zErLxDWzq5UWWi5qZya0OkOzxupnmiGRnWYQNEstkK5fkRHFb8mKwupehEp26ouadVbfFQHQLJBdIidiM2/+bFx/w7UkEk+bbQWKQ31XsmjRQtx7791M/372d2/6nYO/E99pVlqzO4pDs03333+/sdNSNs02q2xEwEQUtFJEy/a1VFUrQ7REX0tZFbY6I3uVrw6k0pJZzSSJeOhZ9ExaUaLZLy1B1soezUCrjNwPTdGMjey0LUAkUtsJRA61mkgrbvRsIniKX3YiWprVVjlr9kozNSJsis/qM8UruXiMNJDVJhLdn2iqLEWzmstNrJ3blY3KsbXG2lxcUk7yoBmQYyQjkZERaNumDdq2bYPExAQz2lhEwpOelopePXvi1ltuNjMC7T5tixXR0Vi7JhY9unfHV506mtHKPXt2m3hUbofZgDU62rxZMzb+ZBwgqVm/fh26srH+5c8E9zffjE4Mt3DBAvTv148dvxn69OmNDXFxbGyKg6XsKn+NXtrromNHsZkNuh+BukYcNMqgZRYbN8ab/H733U4T5zXXXM2O8wgWkDzt3r2LDV57gsoI9hPx9ttv4aYbb2QnaWXycMcdt+Paa69h552Mbdu2mtmQVuZjnFfg/fffQwSVmJ6v3aefmtHed999h4piBfp98w2uuvJKNGqk7/yEm1mTEnZQpWNGXfkMSlejoiqvJk3eNPm6//774O3thR07tmP/vn1YExuLunXq4NprrjHP0rNnD9xDZfj000/B03M58vJyMXz4MNx7371o3qI5pk2fhlFjRqF5y+Zm6Vou3XfyuQeTkN52260kO/fD188XhSSn3bt3o8K9xSzvafZuM4wcMRJRkVGsnyMoKy1nfbkBwe811uPFJpUjplYV2D5s3Y1UIUHnbdwT1LWVE27cxWWqc7rY5BRGsw1bNm/F9GnT8e47zdD640+oJ2ZiucdyjP92Alo0b4k2n7RFSHAoiotKCLyPsu/FomOHTuwf1+J2kosxo8dQB2xGfl4BRo0cjccefQx33XkXunT+GqnJqWaGxUnMJTQlxaVIS01D3z59ceMNN5rZF/lPTEjE/r372Q8PYED/AXS7CXVq14XHMoINEq7yMs2kHEdsTCxeaPAi9dat+PCDj/BBqw+M31tuvsXkfx/jyEjPxBuvN8b1JF9dSV4CA4IYbg0avfIq/v63f/BZW7PvRZtnueLyK1H/+QbUCyv5nAQqbs1OZVRCUrN92w6EhYbj1Uav4tK/X4pnn3kOSxYvMeWn9JYt9TDPfcON16Fvv974qgvjvfoqPP3cs1hFnZKVk21mc++55y7m9z1MnvAt+vXtjfeoQ0aPGkW9kk/gtsMs5dNSXI2kCgRoeYfWzctOoEybeQUWNNopAGJHOH/tRtVlu7db9dGc7GJtKv38EEaxnUpqzJkaAWsBYi0jE+jVMleBdM0ACHiLLIiUaEZTS5rUL7ShXWRB/UFLonRCl5ZYaUZBMwRa7q3loVq2rsM9tGRN8SgNERYt5xIZEVnSsist8dKMhWZPZScQrqVtWlYvAmXJjfqeRHZaXi4yo1kV619LwTQbsXXrFgwbNhS3ELNpaeqyZR7EJzpcRbql1JCIl15+ybh/+mkbfPJJa0MYpN9Gjx5LAnLYPLv242o5mmZSpBu0LFUzM7KTjtC99ghpW4CWsqpMRBaUX4nNr8pJMyyaAVZ+lJbIoJaFaSZYS/1F7DS7pT1BmgVSmsItIjZK224HkLv9KLtml7UETjpMz60tEVrKp5knESfNmKlsFZ90mZYKawZIBy1ov6ItW8nFYWz/PlG/VDXV77GxYd3826jsSI3k1NFePMapVJgKVkVrvadGATT1pwaqBql18NFR0WbPhjqe9t6kp2eYUTyNZGjaVC9DxeF0Puf41D179rLh+rGx7TNxie2rg4/iS1Wd3oNgRms3/fz8sWLFStOxNSKhePRrjTqGbXcaPcnLzTNk49sxYzFy+Aj4evsgJzPLzEIcPngISQQrMwicZhFwJMRvxKEDB3G8lDVWVo6D+w8gPDQMYwmONKqqa40afzt2HOLjNuAIO7RGfWNWrTZ2C+cvMHEX5heYkdkRw4Zj9sxZyM3OMWGHDh6C+QyfmZbOsIdQrnT4/GZ5CUWjq/t270FKUhJmTp+OMaNGYzTJhdLatXOnSesAy0dxTvh2vIkzLSXV5G0R085m2hpV1nOo3EP53H4BAVi2fDl8qVQysvncUho7d9AtDGPGjcX4SRORzLI+QhKYmp6GGbNmoXffvlSgww1I3EtQJAXHYjVKTr+lJDm/RCNIodFS529lH9av06T415BoN3G5nLdRNNWJ+aN0qhE1dHe/F6OcxpgXa4m+k0Wyv2IVFi5czJfucnh5+mDRoiXmPiUljf1cLxztbTuEFJKVxYuX8kU9AiNJZPz8ArBp0xbqJp0alm/CyF6/qansh4ddH+Z1y8th2smvv3+geXFLfHz8kJOj77lojXcJX8rs8yRX06bNQFJSigmjviFRnwkm2RoxYpRJx9fXH7NmzaEem0Kgst7kVxIREcWX5kTjnpiYbJ5z+vSZhoAtWbIMWVk5FXmYM2cewYO+jC2i4PRHGT237L77bjeBTSzmzp1vnk/xrFmzjnp1n8nv1i3bjL6eOHE8QU4s1m9Yj8nU0XOpjzcTROzVYFLcenh5e5Jk+SHQ3w8LqNsFJgoKN1E/FGMPdY/2BukABgEF6WgBMI28aq261rtrtFYAQaPKFqxIP7vr6F+dcWvrbpeOsRZVHKrcnqNRDC5dcUo5/1R+XUYYSN+lOWJG+IVphHU0G6D9MMIjmh2we81GjnQwkGYyNQOhd4sAtZatCTtp1kZLxBSPNvDHbYgz/mT0q5kCzdIIB+lUL2EizQxpRkZLu7QETv1Ry7FStWS91Oln6nsiYMf4Xt/Pvq0ZFc0caRbi22/Hmf0p+fl5hgAIf4kUjRv3rdEb8RsSaX/ELIKRrtm3b7/Zpyw8p3xq+ZkGLyZP4nOvjDHpCGs5Jyl+S6K2xCxDE+bTM02YMN7svxNRUTx6FuVXflReDmZzyJijM8rMXmH5d3TWRJOeylAzWyUlxWbfsNykd7T8T6e3KU7lTyRL+kbPpPJVXShdEUjNMGnwV2mpHkSCBg8eZOJX+alc04mDFK+WAOqQpbXr1pq6VT41u6W4lc+fv6mu/5+c7zMmNgouQFRVqo/24jNlBOH7CfoleonrJS2CIuB7mMBaDP4ACYI6xEGShyMiEbSX/wP79ZElncSh0qBhgZQS4KudiNzoha3OJL8VYQhYDh48bEYeRXyKizXFys5EMFHEF65mE2w7c29vhjQx7DHm78A+5pfhDzOeQ8xDqfJA0KT7g7zfR1BxlPGVEgTYNlCuWQqG3U3QcIBhi44W4eihI9i1Y5cJJ//yV8Iwil9+yorLTLxKQ3Hu2vGdSUt+9/JeaZUcY8cQOGH8EpueROGVjuJSfr9j+CNMU/kwfvh8ikPpHWOcxxle7sqP0jXl6Sqbg6yHbTt2Yueu3TjIsiwVyGC5H2P5HWKd7Cb42EM5SrJTROVUzM6+n8p05+7d2M26UNkeZbqljLe0RCMp2uTHJJSPH9GoCn8aOVtio/sKx/M3Nq4T4tONzYm7VEn/YhS3y+qE3VfjC+ZXbfYA2/iOnbuwmSB9J/vkXi1LUx+i+2G1U/apY0XF2Mf+sZuAXkB8P/v/0WNFJj65H2Rf2aO+Rf10VLpDxVgl3RLqo2Ps04fYZ/ayn0kURr/F7AvqQ+pbu9iflc4h9jXZK37lR9cHqPeUR+X5yNFjJq7vdu0x9/Lv5LXE5FVustNz6Pn2UefJvlgDHfxVunoO3dvnlTjpUd/wGWSveOTP8X/QXB+hLrH+pY8PHNjLF/Mx+i9mXg5g9769Ri+UEkzs572IyqFDzJMZbFJ+D9EN1A+MnzpDhEUveQEiAS+95AVsdC2gIDe79MwOdgkQOPsITy7rX7qYv+66wt1YT9XJeRtFwnRP0hsu3VEhp0vMPUM14i6lpv+oL+xln9jHfqMDdpy9uQfZj7QiZd++PcZd9+pT2rsrQqS9tcXF+h7Xfuza9Z1ZjaGVIvIn0C6Rm+I8eMgJ66Szl/1OeEvfadE3cJy0lL7si4qpA5kHxW1W17DdKT+yUzzyq3hsnk1e6NdJj3pG+nKf+v4Rvvu1n9r1uDQKs2XLZhOH+rXwnXDZIWEPs6RNy9+OMY49fHZn1Yvu9VxKS+GOHNUslPTpHuom4jiWw/HjzCfboX6VFz2TU74lxr8tP+07PlZ01ORZIn8qf7kdO6YDXbS3j3nnc6qcJXKTneJRPlTWurZ5VRpOfnebpbh7KXKz5WrdVN7lzJ/8K17l1b0tXHg5U2P9n76/nxexOXW0F6HhQ5hGT2OIiF62fMlq5NDocIpdliER4TmqFyyvZeRuRh5d/mUMuVFYelGcEluuFkw7aahRqtOUmHsTF4GESIwxLr+2oCuuWQkC/iISIhW2QsoI2O19eenxCnJgRW7Gju4iMA4hYbrypnAuf4pH7rouOlpsyIYTf5khNUcOHTXXClt0hARJ4IYkxubD9BX+ipQUE3DZPDn37FAiFSZtghCGs6I0LTkyeaBfk19Fp3zxjwBREYGhrgWmBMyOihyykEtYuAePEOwRTB0hCCmhn6MEhyKnKmtbxiUCVczDhTCuIv0JxKE0zq8p0grRvfmrwjCia4nLUXIepiKKk+LSjXKgOrVic0Q5we/FZVxPcFpRNyhi2ytWW+R1Kf/oXmK7n64ryAvdRXJUQhK1dUM2GF7tWmLjU39wK8kKkZ3cFda6qw8prOmWFBEtueleaRr7KvcKr7RECEx+6cHYM24NNNhnUjgbn01D/uUm8iV7G6eE/520aKd8mWehpeyUpvVjysX1vJLSMqf9lBZT97hARTFf1hVCcGBnWDSiWcbro9QXRyhSVUXs/yIwGmXViKUzusoyoojc2BFXa2w8sjtGICGXX5uYWjEvC+fuJFM1gJXzNorEtByXWN0hkf33JWbD10h1IqBbTtLggFy+M/jraBP1B43qFxmiIdEgguzkVqS+V1ZcEY/CGf/0U0bQLDuREe2DlT/9FhHQHyvSRzy1X4b4h3ZHjohIMV5XeENq6F9xyL4ifspRgnnZiQDYOATQbf4NmKfIqJlqlry0hP2bUQinGRxAd/sMIkwywlxHjyp/x6indAKiE58IiNJSXkQkJDZ95cWUDf3o2WycEksqbFoKc/jwQfNsCic7udnnU1qK4xD9iBQZQuN6PqUtsc8nUiIipTwovzZdEUJb7nJTXuVP6VoCquc1WwVccarMFe+JfehCytma04f/fmJTEcaBRk6zcq71r8KT2+XFJgZE81cgWzMLWj5l7tnIKzaV81qbWUvlxmtrZ8OZe5dozbjZlO527x6P81vpX3ZaU27i5r0262qJlglDN3NikECJ/Ags2LgoCiN3a8yLWUDA5UfuOllJL2Ndm5c747JhtIZf9yaeymiMe0WeXPd62Ztw/F8RxnWvX4nsJcqDez6tP2c9Pf0qMZebcee9kwcnjgr7avzKKG8S44dSrnD0a4u1TPExv1Y1C9Ao/45nbYg+yvDaX6OyFdHS92wU8pcotlROtDVG5WFIjRXdS1zu52sUj5UKoxvlyUqlB3tV1cfFJO7PUFXULiXVhZOUsH8WacZA7ZX3CqPfU4Vxj89eV03TxmFF9zZ+e2/9VPVvr228yl+xAL9bmloKqvj0q/uqcdtrKwovP0eL+OLmr8Io3qr+JNXlxYrCOLmSvtCLnPqD10rd+cc8Mm4BHIEAgQETB/9IZTvwjaI8KC76dTeys27uYo3iVohfmzil5oAga+deL46fk22df+djbJx6J0mUB1uLcrNyKmPD18jpxBCL4ypf59oBvA7yE8gWkbHuFmjbsO4i/3IzQJxiAXRZuRPGiKv+rB9HqzBdA/id/mzdJTZuC9ytvfJj8uLmX+kY8G9mcOimoDQGY7AfV6SlA44MKXDajtwdkbvTpiwR0LWIiuK1fszMreva3EvPuPy6i0NuJC5/bn4U3tq7x1EZb2U8jh4SVnJ3r4xLzypx4rX5U5k5+Mo9rp+HuEw1Vudqqjk8wPVzglTe2H8VjnIzUml1UYnAN990hjAIxOutJ3s1MgFsgWUBbgO25cZ7vpiLSAgcOycOs7eEvyJFDqlxxeOKS/dm34mNx3VdRr/6lSidirTM25fhJDYu2Zm4NALhdCxr1Cm0XELLJOy96bz04/5y1r38aDRS14pH7taP7KuOVGqa1ukoTry6lh97L78ysrP+ZORm43IXGRuHfhW/jPwrTT2H/ZXYNA3hcZWbKSMVB391YIGJl2FsfmwrPUalJsBl7qm8dGJdOZUSK4OB+bwaFTEER+FVtj+CuBToTyaueqzWyK3a/J4mzJkaReEuFcaxqPzn2NiU3YW1clGJ8myfp3o58ZmrClu3EXuvfWLWrqhE7bjSbxnrSse7a8mV3HVv3WyYqv4r0650s+H1T9fu8VQVG6/xR1EYG9Ye8e6ejmZN5Ndey9a5d8JJrH977dydnLbcrLtEszG6Ki2R/pDe0SixZlHkRzNLOn6efhjG5NyAHYV06kn1pZkvq5NkjI5y+XEXo5tc1zLST6br6PpXJ/rntJmqfdSx01/d6R1hRXUue8VwrkZhT07RsT+dqcx5jZwopk8YQsBaE5nQe9CUqeve9FVe096pbVvr6jdOuBPj1Gyy8IX6o3NvyAd/TRwUJ43KMI69E4+Nu1Iq43W/l3/NbJzK3WkbwjgugkT/6rMWY1T6t+3IyZP1Y43uLabRtfSDddevu18Zd3cnHcfo2v3eXee4x6Fri63cjewVpmqc1aUvIzfFI3eJe7jqjNy/z8+PbpT8D5QFN2KjGFVIFD2gRIXCSj2ugjYPXUUM+HaJy+qiFT16dfaS6twsAaoqriKs1q06ORu/VaWK+bEa5o/d4E8V/0n2urWkRiKSo86uzn2qOCgqYmPkj4r6JxEp859AjmuURv3X9tGqhgq/pEhLCvWSYBiXOC+y6sv0jI2Cu4vLOLd6hRGs8wWoFI9Rz6ieSumovQ+6FnQ6lTj/nDgutFSXHys/dM7sS1/i1Imbu8vOjsgZcXM74f5UdhT38BXXVfxUyOn8WTs3t4r8ua7d3U4IUzW8daeIQGkpi8SWgW1B7FwVxObYscOuMDakXBWefaBC6MI2ZmdszC91+anELJdzE/6vEP4nkGD8jKQ6FaRlLaV016/cjLjcZEx8blLhx+XPLG2mvbuRm+J0ltNQlL7Cu8JYo/jc43ePW8bEzXxXtZdRXE6+XRYuIz/GjfWjXsvSrEJd6M5/peUEtmXSJxpkq3RlTihuCZ21UVhlyuopXZ8uPrm5h7H+a+SXL+ob2nPiLE+VTnEfoHXsTmy5lWFrzM/DuNdnlXo5hbU1bsTGvfNT2BCMJqsQ+XF+XJeVN/LKoFqSVSM/vtiXlV5cvybRviMdOFBaxFeqyoLtzuxFcl3TixG14urEECXTrs9WFO7cRen+VFLRRyVul25WNHxGllBpqdY0F/FOkOV8QQiNSd8lLqMriVI8XHTM1ItJnX5KSMI0wq4RPzOSyJfSKaWsmPX+00i1+amRH02Om2VmVXuzFQETuZPYHNXJSwI0zsxQZUtz+TUvKfVn3tJYH+dlbCS/ItGPLX2JStjSSdVHSTHrodwSG9WN6sjxobDnbhTa1qd+T4xNaqbiAJ8T/No2ousa8+swam+k3yTZ2suivSXOXhfbbmy7sOLepmzbqZGfTlQfVUX2LmOryUoV8z3EhpeUbdu2mw2XRaXHnQ2XlGPUE0eLtYGSwutieudtjVwoUXn/2oT6R6LJGq3208rBohKN+jvux2h/1CVHeH+CkPwc40vv3EXhLz45yvI5UqSDFXit8mJZsMvSjWXCzvzd7j0sTzqwzxeXHGP5Ekjy+ochNkzMiisu/dUdk+frhGSVYPPgYZ1KcxCHDuxBefFhOh6lo4Tg6GIUjVbXyAUUtpXyo2xmOsxFy3GP8JrkhqAGvK/wV1FHspPInf7OURQWWnLzKxPNAjvLlDTApHtbzuqzRyjsw0aOsNhJckQo2dfV7yXnZ2wsp9BNtHaW7WiA5CiBrfaDSJgXtg8781cjv2zRAJ2pf+mDkqO8duq+nHrBEeqK48fcREvei11u/NX9Ce41cmGksr9Wiu5t/VDnqOtXlSqm+qVobj6zsnMxeuwE9Oo/GL0GDkWvwSMoI9FjEGXACEcGUmhfIxdGerrEqYtfj/QZMgr9h43B170H4oNP26NTj2/Ql3Y9Bw5H7yFqk8PRbdAwI12rEcdt6DmIwjFupnOxSXf2zQpRnx08yvTd7v35XN8MxKjxE5GUllax76Hqv/MyhtQQ1LiIjdUwgjmG2NA+Nz8Hw4YOwPRJYzBmcG+MG9wTY/t/jRG9v6J0PqWM7NPlJ5Pq8mNleJ/OGFYjP6gMdUmFXd8uGE4Z8c3XGE4ZShk2oDsmjhmMvt074pNW72L6xFEYMaAnBrO+hlIUboTCUEaasF0p3Ri+G+M7tQzt09WIu93wb7ob0fXgnp2NDOnVxcjQ3swPZRjD6N64uezc/cjdynDF6ZIRjNeKddP1yH49zK/u3cNaqRp2eB/rr/q4B/X46oT8VuSNYXTv7m7TcPzRf9/uLPOeGPZND1MOim8ky3E062EMy3Zcv68xeWgfTBz6Dd174tjB/eztleji/IyN5WTdpINmtu/YjgUL5mLosIHoP7AX+rFdDBzcA9/074I+zF9f5rlGfvnSp29XShfWfS8MHtoXnTp/jq86f4lBg/uiP/XCN/27sW10YxvpjgGDehh/g4b0MX4lA/keqpELJT1YF11NH3Wks5vo/mv66YVhwwdg5KihWLdurdP93aWKqebwAMeXvYpYEYMXXn0TY6bPwfj5SzF+4XJ8u8gL4xZ6YewCl/B6zAKPGrmAMnb+r0++pYyZtRifduuHp157B6279MGoWYswdt4yfLvQE+MWeWLsouUVMuYEkRtF7facxPuilTHM/5gFzrOP4/04Xc9dgjEz5+HDz9sjKDIaRdq7ZHq+jHOlvRHnZSqITaVOMYTG9avZobVrVqBV8zfhtWAK/OePR8TiiYha9C0iFoxD1OLJF6VELqmRH1IiFk+qRlxuFLUbvwUTEbhoCr54/w00qHsX/BdMQtCiyQheNAmhiyYibNEERFAirTAOJ+7JCOf1qSSM4cNM+Ikn2CtdE5buVnTvLtXZ2/vIJVMc94WMVyJ7l0RW+D3RXmLCGHt3OdFPhb9q4jZpU8Job+8r8kWxZSJ3Y+dyr5QpCF3Icp0/BcHzJlEmInTueITNHYfwuWONBM8chZC532LRt0Pw+XtNUbRvr+n8lpKcu5EGUQzSHvp19Io12uheUJCHSZPHUcZg2fK5WO41G0uXT8fiZZOxxGMaPDxn1sivQFTnCxZPwLyFEzCd7fG9Vm+gxXuvY8q0EVjAdj1vwXi6jcf8RZIJlInGfgF1hhG+hxS+Ri6MLFo6iX1UMtFNrN0UyjRMnT4GX3drD18/L2evlLr/iSqgwpxAbOyRvOaaIvURumINHn66AQLXbERESjYi0vMRll6IEEpw+ibKZoRkbkF4do1cUMnagohfmazI2YbItEIMnL4IL7f6HL0nzEFQYjbC2RYjMjcjLGMTQjMKjYRIMh0JNr90Yzs9d9nKeLedk4T9hBKSsQVBLItg02c3se9SUgsQlpSNsPhUfNypKyJi15ulaVZHmG8z2ZvzMYbYSJzILCSxxEZLQ1IS1uLzj5pif0ECjuStQXHuSpTnRqMkKxLH0k8jGVEo+omk2vy4ydEa+WElLRJH0iKqlcN0O5S9CvsyV+JAdgyGdGiBpk/fg92pUTiSE4tjuTE4kBqOQymhOJISgqOpoS4JY7yMg25HeH0qOcxwVtztj6YxHEXxnlpCjBxmeocZRnYHk62dc29F91YUr8Td7mzlENM8XdxOPirddG3t7LX7/QlxpEfjaMYq1s1KHEuLRhHroDg1ghKGohRKKu+zYlAQE4ivP3oXKHK+fyY1cH5qRaHdNYglN45oM/jWbYUEprMQvSIQBZuSkZ23HmlZq5GRswqZuauRnr2iRn4FklMQYyQzdxU2JAbhq67vo0Pn9xC73hfZ+bEUx91dHPs1yMqLRQ6vq7rXyI8nadlRSM2MqCKRFNmzTqlPYtYGY/DQXggM8jZL0syJb1ID1SiVSmIjR6snXJfkRAiPjcejL70O//XJCCWpCcnajMDsrfDP2Q6/bErOTsoOBPC+Ri6cqPx/bRKS+x0Jxnb0nrYUj7/TBp2/nQO/lEIEpG9BQAbbJH99SbR9JBmV4m1kC6+30u1cZRtl+zmJryTtJxKWl1/2NiMB7K/BlNAskp40h9x82r0fVsanmH1J4jPq/+Xq+G664JyNQTJCNE5UFpI4sETHeR9EavwqfPRWA5RuS8RRKrMjST4oSfJESaInylL8TiP+KE/9aaT6/Lgk2ZHyGvnBBGmBQHqQI2kS3rvkOO1KMkKxP4n1krcCIz5/A2/VuRbFbEvF6SEopXu58RtAUVyUdH8K79MVr+x5fypJpX+JDSs7E94lqb44foL4oDylUmRnwzpufClX2Lvc0q0wvgwrzJd+TTruflz+TpIqfmx+K+zoxy3ucubluCt95cXJr7fJY+V99c9RnhKA0uQgtvMAlCXxPpHuCXyuBE+KF46nBKKUJGf3hhB0bNYIOLqf+qT8ByI20h5SUO7kRqKT84qQl5+BufOnYOXqQOQVbiShiSFQXY3cwtXILohCRl5ojfwaJDcE6bnBvA7D+kQvfNGpMdp3boKY9cuQnhOGzLwIZBVQ8sORma/7MIaRhBv3DLrXyIUT1UdmfuTJkhdNWUmyuhIbEsIxYPDX8AtYZvq/DhiyR1pXNScuRZPecIm8SnWExcThiVeawHddMoJS8wkgt8A/i4CN4p21w4hP9g748vfiExEz5p+/vpk7CP52wp8ie0foJ5PELYsiez0ngaEJJ7uT4jtzUVh/12+FPePXvREBUuZJ+ZH4mTJ28uSEUT4lbuG/R1RPVqpz/7mLX8Y2+CYXoufUJXiiaRt0+XYeic0m+NPen88UQDFlyl9TXicIyzF3N+ta9bgLfrl7+Lub9b+bpGkPy5R2Wd8x/HeM5ztz7Ud3+fWRf/rz469/FZGdX44jJl43N+Nu4qcwTkdOdD9RmGaO0nXFa4R5yFJ45XE387YHQbn7zK8/3QKYd/1WjStAomfic3uRyKiNq02p7wZmbkNgeiECk7LwSbe+iFqXgENFZSjRWctuOsDIeRnF50Sivw78sHDkOBVSMTKS1qJV42dRunkDijJCUCbgmCmwKXAlEFi9HBfY+omkPNmLojy4gKDsbL5kT4HrV36PS6wbiRuSCBKNEFQSuEscEE9gTIHrVyI7x57puOIF43NE14yvwj+vmY7AtgGkCqM8K10jygt/TV4taLVuP28pT2KZnyQkv/xFVggOCVjnRGPUl03QpPa1ZtavmISmlGVRlrSccUg8zC+SPasR2qfQ3Qj9UmR/XGGTaJe0jGH5Qk2ReLCM6S5JWeq6ZtmmEtinehDw028K46Qd9JvmErkznXLmA6nLmK8l9Ce/HsZOYSTlJgyfj3kwQrcKqcjjiSL7Mneh3zKTliPucR9XXpWG8meE1+aZXXGZ/J8Y/wnPLELkTghFetgPkKLnZfsjwS9K8Mee+GC0b9aQHf4wFYCO1z1fleKuRaoSm3KUHy/Bps05mLdgKlbGBJDQrEFaNoFRfjRSs0ORkh2E9Lzgn0Qy8gi0JQLc/M3Ip1g7l30aJYMgW8A8zYByAvR8XVeXb7ewJ0jo90gV/yZdpsX8ZBbI3clrhisd51fp/3Rldy6SlhuINJPnUMTGe+Czjo3RqVszxMR50C7cKWcjTpmo7FNzgikhbCfO77lKWm4o25uumQ8TN+OjyN64ufwpHYljH4Y0Eiq107QcK6743K5TXXkzYWjvuFs/isPxe37iHldlfE76jnu6SZ9lzd90kkHl27ifq5h2yDhPEuUjkoRzFeISwtCrb0cs91pITeDsCdZ3e9y/CWRNBbGRyqhQOq4LqYvI2Dg8/tLr8FmbhODUQgQRbAca4EQwReAkIOhvQP5FKAS8gYW74U2g55Om5yJoFIAVoSBA1jP6pvEZM3cTTO41/v1zSS7StyFIIJPPXm28LqkEsyeLwgZlfodAlR/v/Vyi8gykfUA685OxEyHMT3DeHublO4d8ZTBfcs9gHVD8ee0I03OTAIa1Yu38KD7Ks+v+YpMAAvPA9C3oP8MDzzX9FF+PngWfjXksLxJt1qEfxV+E0BBA2rG+RGRMfSgOkpmlqVvhxfLyIznwYr36ZO1l+e9jubI9p9Mf24HKzJflLyKxPG0nlrOcRW5EJKuWnSWY3qwbz7St8GX9VLjxWm7+IiskF44of4zbLaxD3JTfbfA2sp2ywxHWlwfzpHx6Zait7EVowWG2ExIz3ovYVMbjxKU0VA4BGfxVGeQ4aQaafKld7zSzrj5JmfikR1+ErV6LYn3X4oTvVf0QxonLxmjvrI3WxKclrEebdxviKEFIaXowjhMwlQmkC5ynEqz+DKWUgLdMoDeNYC6TwC5dRMKLgFLgln4ElOkmuxKCyjKCWvl1SISIC0GhkUDaBTKcALgjGg0/TtFvWWoA7ST+vHbKQ6DUgGUjDog8nuJPYVjFTUCsUfnSVD9DEo9nMLwALcGrA7yZzzQ+A/MjKVO+BHSNKP6LUXxQwjI4lh6B0V81x6u1b0BRzgoUZwTz+QS6BcoJ0F3PX84y0rXAvMC4mUnhfVkayUC6B9uhU2emXFhWhgzQrTxtKcrTKRkkJfSHDMW7gL+8p99Sgv6yjKUoTl7MOmX8GUqb9cGwyGT6TLeUdVZGUnM8fQmKk+bTnnnI9KT9MsbNtCglyluWH/OhPCkvEubN5MER5ed4GsO47EuZnxIjyymML51pMb2yKiK7Uj6TqXdT93pO5oFhkEk/qcx/EvPvitemqbRAN6Quoejatj/F4YjThigpviyLIOzeGIQ2b9VnVyexERFRt/9BjCKqHCKxEetbJVu25mPOvElYvTaAoHwVQWuEAUgCuA7I/ClEAI3gT8BVoNAA63CTp1QXeEvNCUdSpsjFCrpFm+sMjVgXRPKaIP2k+Aj4KiTcTfi8OZLIKqJykLj7dfKUlBlk8pO9KYr3IjlhSKcoLQP6RRQMWZC45+N0crb+f1hJZX5T85l+fgTWJQWiXad30LF7K0SvXY6U3EhKGFJY/o7o2oqbnfycg6QXRCBJpIXPn7U5gvfMD/OSUcjyZ37kJ5VtIJllLUllWun5UXSLJtFRvUSy3Flnik9EQnHSv+o9OSuIdaS2wXhpJ3enTeleYeTPvW2chfC5HcLLuHKjXHE67dS2VaWXqZmuTZFMV+2G14Wr2Ib4TIyjsvzOXpKrsZOkst2m565EbFww+vTvCi8f6iXilNOpk9MSG/1YYuO7pnpiI4AeQEAloHaxiQGUBH0a0Q8QUckUWRAwJSikXTBBY0D6HvikilAQvGqpU+YW+BMwBsqvAHI18VpxSF/14k5sLKnxdSM2wfwNZhq6FkhWfCI2vkxboNsSm0py44BpiYC5SFEFuXHZ+9Gfr9Kr4v9ikUCVu4vYPN+0rYvY5H4/sWFYiY+Ebdeb7VYkwVvEhoRGpCY4Zx/CSHb8U1n3aSIFrAfa+cgPf31JMEUcTL26iSUUy0lqfJg/pz+wjNmOtHzNO4Ok2ZUnOwtn82PFzkhpNlDkxsf8OnkXEfVh2xSx8WFde6fznuJrROFVp5X5cCc2Ki9DbBifiI3am4iNZgADRKBIbNr0+AYRseugL7BXkpoKTXCexomrMkb9tSOsIjblLmLzCo5dRMRGYNq5FpAjSCSILSWBEeExMzfMf7nAnUAfwePxdJIIESGNapOkIFnikBuRmEoC49xbe0tuyswSOJWHAx6dkXEJ88J0ygnqRY7KkpmXpCUoSlyKY0lML4txZZMwEcCXJhMEE8A6xIZEgIBfInIjoG8Av5HK57wYxBAblnOpi9iM+qoFic2NOJazEkVViI0B8QbgK5yL2JhnFsGTPcvJRWxKSWzkT8QUmYyDoL+UoL6MxKaEUkSQ75AbkppklneCJ4pZJ+VZlEy1CdU546SU0r04aaETl5aEGQKxgLKY4UlamLfiJJEUETQvHE0kQWG+REAccqK8OFJOUd6Psy6P65kM+VC+HUJTQkIjcciLe1k55EN1rzovYdtRWspTaTKfWcSKcYHxmDzx2RxiwzZjyE1VYkN/DG9mK13xOv3BsXOITbBDbHCEohmWH8gYPXUqYlNgiM2qdf4kNisJGAneCXTT8wkQDbERKbjwkpylEXoRGpEVgliC2SSC1KQsjdoLOBJsG1Abhcz8FQRyuhew1Uh41fjcAalDUBzSIkIjcSc0LrHuFf4dEbFJJgiXpBBkJ1FnmJmMAqfcKkhNBbk5kzKUH3epzs+PK6msa4fYRJLYBJHYvIuO3T4gsfEksWDZihQY4Cww7i4WUFe1P3NJNgCfhIBlmEZSk5wbyHsRLbppJoR5SmS96z6DBCGZ9ZuYxTRZ92l50RQSG/pRGxGRSJZflmNmIduP4jRg32kXKSQ58qN2ksw4Uk9oG2cpIjUsM0NmKoiNSJXTf0Ro0uiWSYKmvCRl+TPNQPYz5tmUqZ7blt/ZiUhNcn71bqlsp+nsy7FxIejbvxu8fakHK3p99aaG2Gj/Ri5JBsFrcM5ehOTs4i9Ba9Y2gluCxNSd8EraSjIjwrONYHcb3UUoCBJJGqqL10pVMuMultgYEOwiNT5mGZJDdoJZxhLjzvL1V5p5uxGYS5G9RuvdiE1FmpQTiI3LTm4iNb9WYqPwASw7P5ajl0iHiKmITNYekhCWB0mCb/JWBPE3ROVJguNPP1oC5s1fH9qJONi4rFhC4SPikL+X/cIpW790kRj60RI1kQkjCkN303ZcYuvOEBKHlOjXiVekRjNFu0lomF+2UT8RLRJttdUg5s2Gt/k4W2KjGZvINXEoKZOqkDlBE5ynceKqjFF/lY6jli56YiMgSzEzNQSRmqU5rpmS5EDeE1STlJTzXqSkJFFLfTR670fiQqCsvSNahpYid4ahH4khPUl2RseSHM3IsEwIGJ1RcofYOPkgqGR4kaJyk4dlhsSUaJYhk/FmCHAShBKgajmUgKfAfinzYcWQL/tMF5k4xEYkMuA0xIbPbkidO7FRGTqzDpXERjMdDkmwxMaUaY5m1ZaZmYzjJC6lBP7Fmk3JIHlgWRcnaEYlhPfBOMY0ilQ36YGMV+RUM3oij8vYJlh/GaxPkZDk+XRbyrwzLMmFcSPQPZ7mj2IRVLUH2jmEQXkUAXMRB5N3V/7NMymvyr/zbE4Y1inbiyNqOxLWtfaBqU0yH2Wqe+2/YTs5TjKkJWzH1U4yFZ9Dahwy5ZAbh9CI3Jye2GgJpIjNnoRgtH27Aft6DbFxCEqEITbp+RG8JmA1y5DCDNFJzhKA1G+4EQHFRLanxAwtpxIhqQaIGrEkxRIXlxiCY++tH3dRWOaNwFHg1fwKWLKti8Do+iRSIzmJqLjnxRXnz0B+OmKjeFnPhdGGuGxk30rWUkISAc3WpOVHIWdrDNbxHZDI/p61OcrM3iSJxOaQTOSL2DgzJWZWT2QomwQ4M4DtmPGwHWtZmzOzFm5mTjJEOFj2IqnVlcUZi6njIIriEbFinlkWlfVP8mHabAjT1LU/Evl8mm00xLyi7M5ezoTYrNkQgm8G9ICPP/V3Ra+v3vyqiY3Ann+elhFpKRpBJ0FtAAFpQPpWEoItJBbfISR7r5mdCRJg1f6ijM20J8jWaDkBcsVoezWi/Q2nEpWZlgbp15dESuJDsW5myRDj13UACU9AroD4LhIbiiFWtDfkRmCV4VxiAbedrbFulQDcAcLW38Uk50dsdpjZE6+0rXRnubH9GkIjsM+69E/TpnqSSfoVsdFSQNkF0V+wCBDbvMqvatnZcvVjnQST2HinbmVbYl5EhJmOyI5DbFxhDKEhYbLCtiWiqXjNbI7ajYlTREppOuTKi2QmNO8ASe9u+JJ0heQ67dJPS+YU1pUP0+5cxEZL976P2LTu3hdRNcTmrEQzNAZQCyAL+BK4GnBIcFfKvJelhBHARhIMhhLAajbFmW0xS5q0N8aQE5EUF+A0z+oAREN4kkRuNKvjEoJR+Xf29LjAo0sEZM0IvEiKZiEIupEpOy1p8sKxZM0qML0MpitiQ/vydBKBdH8jZQS22kRulspVec6LQb6f2LDszoHYWJKgZXyq26LExSw3xpPnT/LigSME9cdYJ8VJDE9Sg6xVDBeGo6xLHVhQnBKEYwks42QdXsAyNku9SFTTtDSQhCZ9Ma892CY086L6oRtBrIhQidqQIbsO4XXahutZ5de0H4lDcJz2IDLkPIvEIcFWSO7MkkVHNANYynwU81rE1uQrU+mQ0JhZID2/Q2pUDiJOstMMkUNq9HsmxCYEnzZ9gX29htiITDgEhcBXewrMciKBV4d8iNhkF64iAYrERrYnzd44IsLjANfTiztpcZfq/EqUJ5WHS1g2mYW0J4BNzg4wBCclx/l1CI0DaB1xf66q8VYVd78XTn5SYqNyZ7rJzEcSy8+QGrM8TTM2kWyPmqUJR972GGO/MTOI+aVddhSSSGrN7IsIBPORWSByw/zk0I9r35AIjsiN3DR7In9mX5B5drc6Pa2cXGYOedGyR93bNke/huwwTbZZLVtMyrLkN8jVThTWlue5yfcSm1wXsRnYA74B1G8Vvb5686ufsfHJ2krAq70RAprfwXNjPuavTsas6DhMC4/D7BWpBICb4Ze6BT4phfBNKyD43UFxQKIA9KnEbmKvTgQ4Aw3IZB50gIFLrJsBpsxfIMlOAMVf5If2Jl65ifRUmZFxlwog7bp3SA1JHEGtrt3dLxY5X2KjfVM+OoCA5NU7ZQsJwlaE6eCAlK2YE52EycFr8K3fSvM7b2UyvNgWwnJ2I4TtXKTDEJgqeXLIBMuW7ppN80zebGbc1Ee0xyYwb49ZolYRpoLYsP9oGVymxJ3cKD5Lakhi6C5i5UMyE6p9XiRbfiROISJmqdtIshXeCWfEjdiYslAZnI7YdOvDPr7eWYpmzAma4DyNE1dljPr7yyA2hsxkiBAQbLrkaPwS7IlZhM0RS4iFZ6IgZC72xC7FsUQCUI2QEwiWJgkYMrwB1g5AtYDVgFY+uw4VMGJmdQRKBU7lLuBoR+gJwg0Qd5YfFad7E6hqOZH2gdBOoFz7NQhMketPey3FIjilXdmvntjwxchw1RGbSnGITbEODmCZFSUtAbIJ2EkSD9GujC//YrbXUpLXbVFLkO49C8mek5HqOx4FEXNwaCPbcuYK1kUkilmPRQzjbLgPJHFZSiLEdpDpagdMXxvwSxOZDxJZnfSmk9wsudGMnz2kopKsOG2isg1VQ2jMwRKSk4lNSSqJjRERYvY104ZFkPjsLCv3MnCWKorMqxxFak5PbGRXlhqMvYk1xKZCCHodgqKZG+VHoFT7Z4KweoMHotcsRXDkXISvXIw18b5IILnRDE5GfpQhN9WTlGrSOWNRWQgMawlaIBIz/XmtGQGCSYJoAdfUXBGbAHN9SjB8Qn6UR4eoVc4UVRfmx5efkthouZmIi/bOpOWHMR/WTrMgKxFH0h/O90TIqrnwCZ2K4BVzsGqDF9YmqtxXmLaiNqt2ojar2RGRzsxCtRs9k0M0VE+azdESQqeNMz21cUNQTiOmLk+uTzMTRPLkLHOL4K8rH4ZIBVYQcaUn8pueT9LG/BhC9SMTm7TcFZXEpmbG5vQiYuOduZXgk+C14CBJwi6SmhT0nbkMb7TvgWdafYnPRszEzMiN8EzIQ0DaJoLcLQjl8wrsCij7EiCeSvy0afsUoqN3g0RQRFR4b/b6UPxpLzsdbayZIT8CeR1frI3nAbkCpASuJGIG5FOcPUG00zO5QLZ9Pgumrb0P4/s1ExudqqblhH7pW1l/OxFMgjM1eC06jZ2Dj/t/i/aMr8PY2WgzZBI+7D8O3ScvwsLVqQg2e26cMhaR1DI/u9RP+ZK9SExo/j5DOiLy9zNPO7E0Ps+ZXTPL01RP8q9riciMFZEaiqknh0BVkBu6a3bGn/GKhPmLjLHvhdB92YZchJE4OfVPMaTGESc9Xn8Psfm4W+/KPTbGnKAJztM4cVXGqL8XP7ERgEMGATOJjciKiI7k0PoFyAmYjFm92uGrN57Et+3fxcalY7ArZiFJhwP+nI38isMBhM7eGYkDOitmaURqdM9wzkyNk67AZiWhcUTLooozPFFEwKlZG0NqsgiMKYe1BC5TS44Y3ggBNPNeqkMFRLYySHpop31AJz/nz19OJjYtT0NsXDMb1RAbp2wtqXFAvYmfZamN/EUkIyVpy3Fg4xIUiaBsXo3ssNlYPrwj5vRuiwV928N3dDcsHPgJJn71LrxGdkNe2CLWSTTrKhRFSsccLx3CvIpgktiQkDqkmO2IbV4zNYyU6YXi8EbVo2ZWSETkXqW9qH9YUmGeib9WZOdOcFQ+znJHRzRbcyCepJf5UnqlTKckmc9r8qK4LKlxJzYOqXbK8vuIDfObVkNs3EWj2mbvAvOjewMSCyKwgWUVtnIe+g7+FK+99Ri+7Nwc3kEzELvBF4kZJD8FmsVRGIk7iZBUTccCVisCsZKq/tz8GiAcavbWCNiK2CRQJ5gZATODI3/VhbeifNj8kcyctK+nujA/vvyUe2zSCxg/y8M5ICAU8RkkH0ozJxor1nlh6Liv0WtgG/Qf+TkGjPoc/Ud8ju79W2P0pN6I3ehLUqHliVqyqH0sDoERuXHasOrIqTfNnGj2L6tQBDgCCdRLausntgF3qb6sbHtySAyJDfOcmq3DAfgMuhZxoiRQf2nZpPbaaH9Nal4A8yUCzronaa8su7OX7yU2OSvMHhuzFM2POqai11dvapai5RCk5utkqd1mU77Xxjz0I7G554XG+Nd9T+DjAROwaE06AtO2mI8dhmVsRlDqFjNjIwLim731lOKXI3JTvQhYBhNkB5Kw+IsEGSLk2AfRLkTAPCkf82KTMScmCcuSCOBzdyCY5MaP+QgkuQkiUDfkRmCe9eIAYkcqwDKf09r92omNdyrrjnUeSGITmfMd5obHoUn7Pnim5WfoMGoGJvivwpTQdRiyJBjNewzDk80/RduB32LxyiSWtcrZITTah2PEndyQ2IST2Pgms52w3BfFZmJyyHr4iIjkk5gwXw7ZkH9bN25i6siZkXMnN3IL4nUgiU1k7m4E8Tcqby+Wx+VgrHcUlqzPMvVvn9sQG5OGK1+s79MTm5oZm7MXEhuSBc3a6NAAc0+yUJzogU0RszG5Wxs8ecPf8cUrdZHkNdGAyMOJXgSq9O8Cqc6eGmf03OzF0almFeLszXBArAu4EmA6m8kFSL0MkamU5RQPFBOAaknaMe3TIDjen+CN9ICJ2L5qDgkMyU0m09KJaZkBKKHo1xAbuh0nSTv5OX/+Uj2xuYnEZlUVYiNC6SI2Av78rUps7EyYpALM8xfZrNsUp3wPkiiWEbBtjl2GwZ++gXYvP4RFgzpg47KpyAmei/WLh2Nilxb44tUnMK5TK2QEL2R9kDwQ3JTogIfUYLYZxe3Ba5IXkgMtVdMpdjr9TkdX716ziPENI2FlPdLNHvIg8lDZbixJ0SEQWopYKcaveSYrCq94+BxGAhC/bAy+W8O2S9BcSsCifT3ljEsE15B1ERyXiPA4Za3ZJUtuTk1sNPt0ArGxp6L9UOYiJTbOwQHOiLdE5CY5OwRrSGI7dW+Bv//nEjz74gMIiVqE5MxoJKRphHy1AZnfT2xc4PWE0XlnZN9xrz6cAbOaQSIg18b0jWwfYatmY/WGJcbN2W9RfVhHZFeV1EQ58ismNkna9M86F8HRErQMEtQg1usXXd5DkxbPYujYzgiInAnvkClY6D0GPQe2ReNmz6Jrn9aIXL0I9lQ8HRygk9A0G6M6MsdDM3+6VxtS+84qjMZa6noPv/GGCFVXHifWYVVx6s+ZqdGSM/YZfTDzBHITgqDI2YhLDkDWpmj6VT4CkVGouNXHftwZm1SSQp2K1ndA95MPD6i4qDRnSGzegN+6ZENstHxK38cQqRHoOtVSqItCCPa0f0Ug0osA1YBTgr6ZwTF4osn7+Pf9T6DbpEUI5TOHEySH8PnD0woRqj04Aqx5BJqaeaF4pxTAMykPEYV7EKxlZSKBtNdHI0PzCChJRvQRSdnLXcQlIvs7BGtpVOomQ1aCSFpCKEH0F8a8LViZiHbDJmPE8lAsics08Yj0BKQRoDPeYEpkvpY0CdQTyAt861stzK8Z8XeB5gpiwzgF9g2h4/NfbHK+xEan2fmz7sJov3h1Et7+shceeOlttB86CUtiUlgX2xEi0M84xvutxOtf9MTdzzVG+8ET4LE2g2lvY718h3DGJ/HZqA/W7kSY9tcw/qgCEpuEAnhvyEPnsXPQacxsktNCYx/M/AQxf4GsKw0OhGTvYl2q/5BoqR3SzVv9i23DfGtG+62YnyD680vehDDmKZL+wpmHVSRKg+f6olnXwZgett6QNS1b9GHZaKmdZojMd2w0U8T2/X0zNlFrN9TssTkrIXgjkDOj2wTHBiSLHPD+QLwPAqcNQ/07r0SPli9iW6yIRxiOkqiUZgYRrAYYKdHHJvniKE4NIegMx9EEAV8B4AgcSCBgzdQ1y4NAt4gAViD3SLIPjhDEHyVxAUHIsXRfgndf2i2nX5KezEASlggczQjHQYLp2MWjMH9QOyT7jjezDKUZJE18MZbyJXVII/l8OZZmE2xrRsccMlDds/68xTlpjuWVHMhyicSoTi3R6BGH2BRnhKCc5VaxyZ71ZkA425YJR2BeSWz0K5LhElf8ml1BpsgC6zGd99mh2LPRF6NJoBrVuhZTe32EratJUjJWoTwrinnwQ2rANAxu2xTN6t2HST0+w461JB+ZoSQWYUDuKtazH44mLqOQkLIui0RuCWSKSAaO8DkCJ3YjOWqKEpLToyQhZWwDh5N8cJT9QgTJfJ+Hz1bE/nKM7egQ28RhlkEJ67aYbaxE7cC0MRHXIBPmGMOI7B7hdaLfBAxu8ypyQuewXZL8Me0SzbK4ysGc7sdfh9g4xEViSKQhL99HbES6gp1T0d52O+75hzKnITabt+RjtojNWhexIYB1QJjkpyM2Ao3OjI0AaRABqg4FEFjVYQGhGDOpO/522SVo9Obj2JAchuyCtQSWKw3BSc1eYYBmRt4KR/JXMs4oJKSLlGijuQ4dIAhk2xQYziCw1tIgpam9Gjp5TZu7swoZD4GqTtxyQLPjX0vdHLcwLPEei8GjvoRX4ERjr70/2kiuI6iVVvamFQTdik+j9AKczqZ1BwDrUASBYSs/PbFJzdNxzyI2zdCBxCaKZP7HJjbOkc7aXxOKBPat3G1rERPvhzbt38E9D1+HsVO+QQx1SP6ONUgkAdL+msjYZejY/UPUfvJ29BvyBcmur9lzpbLP3bKKhDja1FcC+7tmTbREUXWmut9IvTFqQjf0GtDGHDjhEGgdHR1KtwBznUh9Ib8StR0dz6z2k60P1xbG0K8lMY5dZn4M25zannOwxVKfcRgw/EusWLuc4XUIBsvP7K/RDI9me35sYqMZGxKb/t3h9UOdivbEy2/Afx2Bn4AXwZY5qUug2TVaLTmJNFwMIkCoEW2CPV/ttdByIpKK+RHr8FzTD3HZPXXRa+pihBNo6tk9YpLgvSaZBGcTlsfnYlbEBkwJXE2Am4dVhfvgn1xIYJuHeSsSEJBCspKYj7nRGzGf90vWpCE6fw9CCKz9kgqwaGUSlq5KQSDDiKR4kxTNj03BnBUb4U933/gcA+Bvf/Z1tB00HpODVhN4bzVf3g9MKcT86HgsoX/FO5vxh5DgaK+QN+tHJ6w5S5kssbHkxpkR+LUSm0DWtS/rJYRxDJvnjesfeQYPv9wUs4JWIZhlGsS6Eck0JIF10GfqEtxY+3nUe60lpvuvNGktXJGIBVEbEcV4Q1JIMBnfzPD1pp6jSXS912dhgmck6r7RCo3adsViEib/5AIz27ec5FRtQjN+i2PSTPvxoF1IJslWznYs35iFZfEZrM94Q4KCmX9v+vdYm47lrOswphXG9jI7OBYvf9QRDzZshtHLw+CxIceQo0CdqmfaNAkMRbNAfiRI30dsotfF1xCbH0gOJfnDb9pQPHv3VejXpjH2kLAcI9HYE++NLasXYHf8chwkycmPnIf8qIUoiFxM4BpDkqPnX40d6/2weQ1BdO4KbFq1CHmRc7Fp5QIcTA7AMb6MDhEwbl2zDFtil2DnumVAYRRBrxf2rluIzSvmm48iHkzlyyh4Hvq3eQOfvfEoIucMwu4NXgTlYTiY5Isd65YiI2wq41iAzTFzcIRgtCxTo+zVP9PPWewR2tqkL2IzsqOIjZairSYRCSWxCXARGEtWRGxIQgnInf0pFrhXjdsF2EWKRBrTPUk8+MuX/3rPiXjtkVvxeu2bkRI80xDJo8khJBzBhmgeIDkJnjEcbz9xH1o8WwfrPCZjd5w3ckPmYEvEIuxfv5yEIwAHNnpiy8r5yAmfifK8aOwl+Fm9YATavVILX75Rh3WzFDvXe5KwRGBXnCf2J/qRyISwyueaZXCbYz1wKD2MzxqJPWx3W9ke8lbMxQESp2LW9RGSme1rliA3cg7tgnCE4CUlbCZ6ftgATerciPXLxjP9JSbfxwmIjmvPFcupJEn7sZxyOHHmxymniiVppyE2OjxgV3zgBT/u2RKblWv9COIE/Ag2c1zExsxqVA+EL4wofeXDPS8OKZg44xv85Z+XoEmz55CUsQKZ1IfJmSsRHetNokMSkR2DVev8EBq9mL8+hvSk5aw0pGddYiD9BNN/BFbHeSFsxUKsiZcfEZFVBhCvTfBBBPXPOrahfALtdLa3leuWG1mf6M98RDPu+Wj/dTO82qSuyc9agmt9CyiF4HbNRj9EU++sZttdsXaJmSUQcNZMVAWxYXpmlN8K7U4ugwsjVYnNZ185xCZyjQeBchQB849HbMzemgLFH44NaTr5bA1mLhyNu2tdhwcfvYXkypvkh2Rl00okkHTqpLRU6vuZC8bg7gevxXMvPQgP3ymmTkNZl2ErF2J9kgjKKsRT/8eyblUXIu7xKSFY5jMZ9Rs+hKYtnzd1GJ+i/TBsFwl+iNngjcIdcawzD7otYDgPtpsVKNgWh4S0CMTE+SEqZjk2poYjZ3Ms4/c3dR252hMJqRFsU1EIDJ+Ld957jm3zGfiFzDZxar+YTmQz+3pIPJLVFirK7uzlTPbYxJjv2HSD9w+1FO2XTmzM92H0dXgSmzCSg4Xha1H/7Q9w+T110HPKApKVbEwLXIFP+/Jl1a4z2g+diPajZqDxF73wfIvP8MWgCQgl4JwfHofPB47HU00/wTdTFqNVtyF44f0vUff19/Fux2+wMDIewYkFmLA8HK17jUCLTv0w0SsSnhuyMCV4NT7oNwqvfd4dY5eFYDz9NG3fB3+48T482/IzdBo9AzNC2UFCYtF78kL0mDgH/WcuRYseg9G811CzFycodxeWMv5AfVVf9eMmJxAbgVs+/8Um50tsggj8NXOybE0qPu41DH+78V7Uf/cT+PA+VLNgmvnSqWnym74NU/1X4ZGXmuLaux/FN5PmY7LfCrTqPhSNP+2G6X4rEZSQj1kha/Be9yF4ukU7zAiKwVTfFfiA9f7ba+7CLY+/jJ6TFqDPlIX4ZuoCvP1lD4YfjE7Dp+KNT7vj8SYf4YUPvsSAWUvhT1IzKzQGHUdNRoMPv8CQBd58tmzMi4yj/0l4vnkb9Js8Hx4kvh0Gj8dld9XF3+54GK16j8DwpcFYvD7TzPT4agaQ+Q/I0Ql6u81JeqcjNjo8YEUNsfnB5HCyPwJmjcDz912Lfp++hR0bAkholiFs+jcY8mkjzOjzIYKm9cHIDu+gy7vPoff7DZHgPRMHEqKwev4EDGj3DgZ3fA8e4/ug7yev49NGtdHxrXpYPPwrAsUg5K1cDs9xvdCt5QuYM+BzHE4NwaaoeQj6tjOGtHkVS0b0QFroEiwe3RsvPXg96lz/Fwz94m34ju+BHWuXI3rOQPhO6Iqg6b0xd3AbDGr7Iu364EiylmBV/0w/Z6me2GjG5lTExlnKdXpio9kJKwyXriV+nijPCcK+JD/MGvglal9/Kdq+9iS+I3g4nM60STw1+1JMElSUHY7MqOVo1/h5PHjNPzG935dIIwGa1v0jDPqgEeIWj0RpZggyg6djcrf30L35s0gJnIn04LkY+tnbuPNvl6BxnZswb0gHeI3viYApfTH8iyYY26kZFg5pj4GfvIrPXn8UX7/3Mkn0QOwi8M2P9cTCUZ3R68MX4fltN2xhXReuZjsY0REd364HX8aRQVC8aFw3PHT9H3DvZZdg3sAvsHLuUOyIWYJSkiB9zNU5RKJyxsqWR6WcCbHxdRGbIFzo455/vsRGaVPsMrEKciNSEIEpswbij6z3Ju8+j8Q0LbsJwsz5o9Ga7aFDlw8xcdpQdOraGm81exEftX0bSzynY31COGYvGIvPOrRAt96fYuS43mjXvhleeeMJtPjwFYyZ2Bf5WzcQEPpgwvS+eKvF0xg8siNBbAjLxxPfTumDNmxXQ0d3Jnidh9ETeuDxZ/+L2+7+F9pRP02bMwQr1ngxrcmYNGMAgfcwDBrZAX0GtkFQ5Cyzp6OS2LiTGxfB+ZUSmxTWa7Lqt4DEgGWwPiUYXXq1xpU3/AVNmr+AhIwoZBSsRnpBFBKz9SFP5oXE0j98IZ57+RHccNs/0GfAF/ANJsYb2hEfffo6Zi8cSbKy2pCMXgM+NfW20GM8fINmo3vfT3Hl9X9CvefuwcDhHTBj3hDMmD8UH7d7HS0/eon13Bdtv3zLzAa+/3EjTJk5BClZK0lS/TF0VHe2meamHaVkRSEqdhFG8V3R6pM3MH7qAARHLmK76IWb7vg7br3rMgwY1ontcqght1q6qFPZRHJ+7BkbEZuKpWg1xOb0UjGKz19fAkEtVQpP34pFYWvwwtvv48p7a6PPtAXwT8jCRJ9QPP3W+/jnzfeQzLTFh31HoUXnAbj7qVdx+6MvYU7AaswLjMVbBL2XXHoD6r/TlqBxKF77qBNuqPUMrrjrUXzSfRgC12dhQfAaEqTuuIPAd8B0gtrEXMwSmfroS1z98DPoOX4uyVUc2g8aj//c+ziad+mPMUuD4LU2HaMW+eOJN1thJonWklXxaN1/FBq26woPAvzIzQewLKkQPiRo7qTGET4zwa1AvwG35vkvLjlfYqPDA8LzdmF22Dq80LIdfnPZjXi7bRdEpW1CMImp4tE3iswxzenb4RGTivokqb+99Hp8PXwyZpNYvvDe57ipTgMMnrEMkWlbsGRlAlp2HYhLLr8FU3yiEMz8dBkxFf+47SE83rgVZgSuwrfLgvD5NyNx7QNP4LZHG6BFhz54q203PPZqC/zrvw/j2Xc+wryQ1fBdm4L2g8fi3/fUxmcDRiGE7cJvfTq+HjEJf73xbrz/VR/EkqRMWBKIWxjPzY+/iJ6TF2BmxHoSss0I5rOpjk17pvjwGZzlh6chNt37IHpdzVK0H0oOkdj4zx6OZ+67Gn1JbLbFBSIvajHmD/ocje6/HE2fuAWTen+M8T0+xhdNnsaTt/6LJKcVMkKXkXAMxvP334TH77oWgzt9iAFftECbVx/Hw1f9EW/UvhUbfOZga1w4lo3rjydu+TfaN3kWRzJWYm98ADz5Qmv++O0Y2PZdZER6IWTOt2hZvzZeq3M7lozqgfTQedi+zpvA+Q2M7dIMBTFLEb1gKNq+cj9JUzsgP9wFTqt/rp+rnExs3iOxuZnEJqYaYqPn+z5i4yI0tDd+tByLQL5IQH5TJDbHLkXn5i/ixj/9D3p+/Bb2pAbikDbfpwWQ3HjiWNpSlORGYNP6IHz1/hu4mv4GftkSeauWovd7L6H+Lf+A37iuOEiCtIP1MbhdEzx9y98ROXc0vosPx6KRPfHglX9E8+cexOplkxHrMZl23fDivVei4f3XYASB6/Av38XHDR9FXbaBT5s8j/jgRdiWEIHxBLfP3vUfDO/UgvXrhV2JoVg04mvUveHPGNu9NbYnR2Jt4FzUve1SPHHrPxA2ayiywubicFIgyjJCWP86gY1lWi3BteWk8jk9sTF7nkhsdm+sITaOVCE1FeRG9iIDkZg4vT9+9+dL0LTli0jJjMGqtQEYPKIr7mKd31vrRvTo0wG9+32Fps0boVbtO9G155eIXOmPMRMG4r6HbqHdHSQ4rfDlVx/jxUZP4pobLsUjj91F8hNhQKyI0013/A3vvl8fiRkiHiswYVo/PFjnBoLfhmbUfrnfNLz5zjN4/Om7MXxMD4RELUHUam/0/OYLAubOZqZo9qIR+OKrppi1cLCZtXGWvJHUGILmIjcVS9J+PkvRLiSx0fHO+iinvmMj8rJyvTfeef9l/PXf/0uC05ZlFst8raBflpWWdLENJOdEIWZDIJp/+Cr+deXvDFkNjVqGLj0+wd0PXoP+QzogiYRo5VpvfN6pGR569GZDXLWXbOzEfrj97ivxxtvPYu6i0Yb8TJ87FLfc+U/G9b/o1ucTfN6xuSG8N972T7zG945/yALEJ0ej78BOeOr5h9C7fwfEp4QhLtkPI7/tzrZzO77q/rGZJVzmPQV33n8FHn3yTsY/ju1igVkSl1XIOhaJy1Lb/nEPD6hYikZi84N9x+aXS2wIls2z2Bmb7YggcF4cFosX33oPV9z9MHpMmo3IrE0ISsrCe5164ob7SVD6DCcRWQ/P1Sl4+9Ou+MdND2CO30qsStuKwVMW4zf/vgVvftIFvnSXdB8xDTc/8hxufvg5TF0ehvCEPLTvNxa3130BQ2Z5YEXODoQSXDft3BdXPFgP3xCsRhM0D53pgZvq1keXkVPhuz4D0Vnb0HfSfPz5pnsxar4ngjZmYtGKDRg0z4sgNd8sofLSd1TMt02cOqo8hcsB9wL+v1Zi4526BZEFezEjOAb1SA7/95/XocWXPbCawD8wucDEE6qN/tkkNkzLd0MOXmn5OS75vyvQceBYeK1LReN2XXBj7WcxdNYyrGK4oMQcdBgxkX4uwzT/KKzJ34Vhs5fjGtZjo487ICprKwlQIcYv9MG9TzXEIw3exOg5XlgWuQETSVDqvdGSBLoOeo6dhhUZhRjNer2cxOZzEtaI5HyEJ+XR/3L87Ya78O5nXyNx8154r0rAHU+8iHuefwMLV2w0SxlDc5hnipajaaZGz+AvkkayU0NsLpwIsHpNG4x6d16Ob0hs9qZE4nBaFFbMHY4WT96Bto1qY+XSb7E5LgCxXtPQon4tdHynAVKDFqFglR+a1a+L+g//F36zxiE3JhDZ0d74uvnLuO+y32JEp4+wP3M91vrMx1N3XoPWjZ7A0ewYHMui0l84HK1frIX+bd9BwZogxAUsRNs3nkWzZ2shlgD5WNZqbF7tiQ/r34s2DR/B5jU+KM6LIZnqiXVLR2PfhuUE8BdfmZ9IbKIcYvPwuRAbR9xJjfGjAyII5I9pr83maOSToHz8yuO46reXoN9n72FXcgAOEsiXZzD9JA8cSV6EouxQFKwLQucP38K/f09/JDaHCCQ1G1Pvuv9D0JQ+OJASgJK81ZgzqD2eueNfWLl4Ao7krEes5ww8d9fVaPv6Uzicsw4HMlfTbgoa1roebz56G4JnDENm+GJELZqE1m/Ux9P33IApA7tgW2IUlk8agAb3XYNhBEX5BKTHctZgredUPHrj3zG6W2sc25KIvblxeP7BG/DyQzcgK3IxDqdHoCQzHEVavpbsxbIhMXEdnOA+c+N8I8eW+ZkSm+ALfiraz5/YuDb0n0Rs+uH3JDbNWzVCOus9PWctAeVM1H+5Lp5/qS6v52DNhgjMWTAJz9Svg+YkzcHhyxEYtgzPv/goHnvqAUyYOhwx68LgF7SE4LUB/vrP32DAkK7IKliHCLbbB2pfb5YrpWRFY9OOBDMjIIDc6M0nsHq9H9bEB+KTz95Cg4a1sWDpRGTmrUNYtCfebvYy3vvodaxc44u0nFXwCpyGkOh5DqA1m8/tczrLksyhASQ2zrV7OVw4+SmJTcamcCTl+PM6BJmbVhhi81rTZ/B/l16CASO6IaNgjTn6Wd+5EQlSXpLZBuJSwtHmi3fxryt+jzafN8OGpEgSzF6464FrMGhEF2Tmr0HB1o0YMLQT7nv4eoz6tg8yctfCO2Au6/8etCQpUh1mF65FdKwnw12F627+C7z8Z2JFrA+W+87ES68+gbsfuB7DRvVCckYsJk4bhmca1Eb33l8iLollRmK6yHM8ye096PD1ByRTK7E+McS0k1fffJLkQvHHInvTSrZhncwWYPZw/djHPdvDA37Q455/ycRGG7h17eNGbJaExeClt1riqnseRk8Sm7D0fERnFqJd70G4icTm8wFjzL4Hjdi37jYIv7viVkwjYYkiOJ6yLAS/u/xWfPnNaATQT4yAdkwKXv+wA/5y3d0YMHE+QjZko/PgCbiVZKfnuFkGMPslZKHZ19/gX3fXQfcxM7CC+RgyfQkuv7suOgz+FoHxWYhK34x+UxYQND+BO598ES2/6oVJXqFYvDoRUQW7zTHGIjEBWc63UcyX881HIGuIjcJrFiOyYB/mRcThxZbt8L+XXoMmrTuSRG5m295kDg3Q8czaoxSazd+4bLz4blv8/h/Xo9OgcSS32WjWsSduefQ5DJ29FBGp+QhMyETnMZNxyRU3YopvGKIzNmEkyclV9z+G+i3bIDy9gHaFJL4ReOzlt/D8Wx9gSegarGZdBa5Lxwcks/+87X582O0bBKxPwah5HvjXHbXQaci3iCSxWck6HzRpLi7VjE377tiQtxNRSbm4+8mXcXu9l7A0JgmBzL8/xVf7tzRDw+dcThKn5YcB+bu/l9hUHB5gAMMJmuA8jRNXZYz6+8smNocJWAPnjsQz915tlqLt2hiKo+krsGH5ZHzw7L1mCVlG9FLsIghPjliMD1+pSxBbDxv956Awxh8tX6qHd198EqlR/tgaH4XSwiSEzR6DWlf+CW8/eT/2ZMYh1m8h6t11LT4ksdmfuZLkKRSxS0fi45ceRO+P3yBp4sudhOjTN5/Du888iI1+s7E/ORL5KzzwxWuP4Ykb/orPmKYHX5pJ/rNQlhuDgwna8H2xEpsAEptgHE0VsXn/DImNvu1SDbERmXGJudaMTZonjiYvx/GCSGxZ54POLV/FNX/4Dbp91BT7M7Tvyc8cCKAPohalLCbZDEFhfCg6tGqCf5HY9O/YCvsJJkd2bI6nb/4bgqb2xR4S4J0bA8yytidu+QfJ7iTsSV2JVR7T8MRt/0YbEpu9Gaspq5AYMp91fxeJbF2khS3C4cwY7EmLxeRBPfDo7Vej8wdvIpskOHjeWLzCZ+/7SWMUxPjgEMMnEPTUuvpPGPBlC2wm+dmbG4+n7rsOrzxyMzav9UUxgerRNJZdksiJ6t8TZSn6SKcOEHAduGDKwJa5yMuZLUXbk1BDbBxRuu6kxvnQojuxmTJrEP7w10vQ7P1G2JiyAimZaxAQuphAtJ6RFbGByMiJIzidg6effxhN3n0R4ezjq9YEoeFrT1OegW/gYqRlxRHsbsS4iUNw9fWX4pXXn2Z8kWakv/YTt+LtFs+b/RTao+MfOh+PP3M3mrZoQHdfrE8IxSefN8WTz92PeSTaKSTVKxn/B63fwV3330Cy9BxGje+NsBVLkLdljdnAbk5NI/h0RNckMxJzItqvk9gk5QQgIdsHaQTqGYUE5Bv9zYzNn/95Cbr1/cIQm7T8aPp1lqwl5+gEtUisSQjCe61fxz/+/Ru0bvcOiWwoRo7ri/sfvhFDRnYjsVmLDL4n+1Bn3FPrOgymXVL6Knj6zUHdeveQFL/KOtTm/7VmdueRx27B3Q9ejfjkCORuime7WIcxE/rjtruuQtsvWmL9xijMmj+B5Plx9OjTEYnpzqESnv5TUZf6pu2XzZiHYLPHS23nhVfqIHZDIHI2rTEESN+30ZHg6mM6qKKy7M5evncpmj3u+Yf8QOevjdgsDY3By01a4rr766L/zEWIzChAFOWz3oNxCwHr1yMnmw38IQSe7fqOxG9IbGYFrETwxmxM9Y7AJf+8Hl1HTcPKzK2IIuAMScjBp31GELA+jEHTFyM4PhtdR0zBPU++goFTF8EvPhNByXn4oNcQXPPwU+g3eQFiCEaHzliKy/77CL4aNonpb8G6TXuxnCSmx9gZuPaBx3BdrcfwyCtvo/U3I+CTlIdQgnKdWCdi43wA0iE25kOeGTsMcNd3XBxyU1l3F4ucL7HxJ1kJzdUG/0x80nMo/nrtf1G/6YfwXZuKEJJUnUImUuBDYhNCmRu2Ho83bIYb/luHJHOhmbl7p0N33FTnaQwjsQkl0QlOysLX46bgksuuxsiFnghNzsb4pX64ptbjeLHVp1iRs8XYTfMKRt2Gb+GFd1vDa+VGQ1wjWGf9SFpuZHytuvaFZ8xGjJi3DP+5pzZ6jJth2k0U+9zYuctx2c33oBWJzaqUPESwvdz/bCPc/XQjLIqORxBJmQ4bCCJh0T4rf4q3CEzuHnOU+fcRm8g1cea45+MkGlU0wXkaJ67KGPX3l01stBTNd8ZQPHM3iU2bt7B9XSABdzRS/WfjkxcfQteWLyJntRcO5a1FCglOixdqoQ3JhkbPdyWEoemzD6E5yc2OpFXYtDYIRwhwEv3n4vGbL0Xjx+/CoYJERHvNQr17rsHHjevh6Ka1OMwXdcyyYfjghXvQr+2b2EoylRrlgdav1UPTp+5FSvACHM1chdLctVgxdzR6tGyIZ279N56/4wp83bQBEjynm83vAvzVPdPPWU4kNiIP7sQmjMQm0ADwaomNPl7pAuanIjblKQT36d44QmJTlBWMfSnhmPJNZ9xz+b/x0av1sdMcDhGCokT6TfdBSfpSEptQZMb4oXXTl/Hf6y/HzNG9SUhJur5qgfr//Re8J3TD3lR/7EkJwvwRnVD3xj9hrfdUMzuz1ncmHr3lUpLSp7AvaxUJ0UqkRS3CW0/eznZSB9krl2F/ehQOZK2F/5yJaFjnbnRu1ZhE1gveUwaZgxNGdmqB7XEB2E9Am04iVJdEdkKfz7AtORr78uJQ7+6rUP/+a8x+rcMEM4eSA3GM5aEPt5qPcxpis7yS3KS5vmdjyvxMiA1JMslSDbGxwnQrZmtEak4mNtrD8vu/XGJmRjSSnpUfj7AoL7z82lNm1iaSOqNgawICwxfhqefvx5vvPm+WiWnJ2nMv1iaBeYr3fkhlu8jKi4eX/3zc/9AtDF/PLEWLivFArbo3ktg8R3AcY8Q/dB4ee/pO2jVA5CpPrKPe0BKo51+qjSVe0wgm1yC3MAmLls3GOy1ewx33XIt7a92AD9q8huDIeWbUXscNq4xPFNmR2BiCU115/PjyUxKbhCxfJOX6Ir2QYD03DImZkfiqR2v84/Lfoel7DbGRfU7EJpXpJGjGg+1TJ7XpOOgXXn0UN9z6Lwwa3s0sIxw8ohseeOQmDBzWBemsj9SsGPQb3MksFRs5rg/SsteQ7M5Gbb4bPmzTxMyupOeuNvX78GM3464HrmZ7WmlmdkRsFnlMJUm9Hm0+b4F18ZGYNW8C289j6NarvTlMICUnDMv9prBd3G2Woq3dGGxmgTRj89Jrj/I+iMQmlsRGHwwNRfZmEVmWF8lZZdmdvXwfsUnPXVnxgc5zX4rmMlIZ+saFiI3f+hQCqBOJje8vhdhoT0rOdwT/2xCZvhlLQmPxUpP3cOWdD6HXxFmIytxEkrIJn/UajBvvrYsuIybBPymXhCQL7fqPwf9edRvmMkwwgejswJW45K9X4osBYxBG4hNC8BqcmIdOwyfjivufwOBZHvCNy0THIRNwyyPPYQjJS2hKvlnS1PLrfrjy/sfxzaR5WJ21DcPp9/J7mN7IKQijH4l/XDo8V23EDJ9QvNepB/50w3/xr3vqYKRHMOtGR0cL3BPAukiNmcGpltho1ubiEndi89w5EBvvNB23vAMR9DNw2mJcw7Kt27Ap5rHudDqdiK1OEvMXyU3diuHz/XH3E6/giRfextTlwSS9eXizXSfc8ugzGLvIC5FpeQhLzUHn0RNxyaVXYPRiL6wk+Zm0PACX3VkLDVq2xprCHWwH2ZjuHYJHXmqMJxu3xJLIdYhIKUA4yeygGYtwx9Mv4bOBI+Efn4YRCzxxKdvd16OnwmddGlaxHUxa4of/u/JmtO7cB/F5LIc1Sbjjsfq477nXsXjFRnOSX6iOiVb9U0Rs/EhyffjMviQxIjb6mGyQKQf6M8RmqyE2OhUtcs16FJeVo7xMQOH7VMbZGMVDwuS6svfuxCY1Ic4Qm6PuxCaFwNO13v9ik0NJfvCdPhj177sWgz9vhh3rSE4IKEVsPqpfC12av4AsAsr92auRudoTHzWqgw8bPoKEgJnYRjD6YaN6eKnOXcha5UvQHI7yTfFI8J+J+vdcji4tXyZAXoNVPrPxYu3b8H6juthNwHw4fwVilo9Ei+f/i54fN0I+QV1K5FK0e+tZAuJ7EOczE0cydOJaEHauD8a2NcFYNqovPny+Nu79+//im/dfw+GEUIJafTun+uf6uYpDbPQ1/xAcSXOIjWYjRGyKqiE29jswIjgV5MVFagyxOUF09DEBfKavmbE5zPIpzlmN0Nnj8OTtN+GNRx9AaugClGRHo5jkoJjkoEizO9nhWO09E42fewTP1b0PkV4zsD9vFUZ1eQ8v3PMfLBn9FQ7Rz4HMCCwe2xUPXfM7rFo2ATuTwhDjOQUPX/9ntGn8BA7mrmLdEqSsWISGD1+D9+rfi+wVS3AwMxr7MwlMZ43D64/fi77tmpHMhsNn6kA0uPdKDP2yKQrZtvYkhiGN+at15e8wvldbbE8mIcpbjyfvvhLP33sVctkOi7JXopTAuoTlVJTsxXLk86ZrlkbERt9oqiQ2djmaiI2OfDbHP/OZK4iNawlbJbEJQdu3SWzKRWyoW9j9DSc5H1OhTKwecXSJzPcRG+cDhAJKF1qYrtInoUkloXFE+ZGbltlEYursQWaPTbP3X0FSOus8Nw4hkZ5o1PhZvEqSq038OqHK038aiUctvPNeA4StWEZi44dX3qiH51+uDd+geWaWJacwHh7s8/c/fBNat3uL4VYYYvPwY7fgtbefZHqrzLKmwPD5hti81bw+4/claA3Fp+2b49kXHsKCZZMIomOZlzVYv3EVIlcGYOTYfgTBj+D6W/9GoP4+Vm/Q0b8CtpqpqSqy16h+1bK4QCJAnK9yd75j89lXzb+H2OhevxZQW/uzl2R932WzgH4wNvB9lrttHcZN7Y8rbvgLHnniv8TUnkjSAQv6qKY+wKm0SWzme4zHA3VuRp16d8ErYK5Zkthv8Fd4oPbN+IZkJjU7loRlHfoP7YL7WLcDh3Ul+VxnZvEeeORWtGrdmOA/0BCbgm0bTX3fcc8VJlxW/npKHBYum0xS9F907dkO8ckrMG32WDzToC66926PxPRotosV8A6cgYcfvRWdun1kiI2WKT7y+C1o+MZjvNdHOnVSnso4CMnZ/tCHQjMLdYR2JRk5WzmZ2Kj8HDHEJo/EJj4E/QaJ2HhVqoFTmBOIjSAI4YZL9BeIWLMOjzd83SE2aYUOOCYZ0KlbvgRKdi/HxSj+BLHhBbsRQfFNLYAfSUhs3i4siViHZ15viavuroM+E+Ygis+9MmsrWvcYjGtIPDoOm4BA+o0goPyw13D8v2vvJKj1JxnZjnHzfXDJP65F2x5DDHiNYXzLViXhpVbtUfe19zHNT0cLb0bHoZNw08NPYfBUzc5shefqjXjz069wba0n0Gf8TESm5KHvxNm4qc4z+HrkJARuzIDH6nj0nTwHE5YFIDwxy0j7wWPwl9vuwxfDJ8CXYQIyt8JL38URwCeItaDeITciPBRTb3K78OJOVM5WAklcTkdsfEVuWAeandAJcCI1ltiI2PmnbmEb3oqw9G1YELkBr7ftgqtrPY2Pe49AmAgB68U7IR/RhfuxbG0GXm/XHXc9+wY6D5+C4PhMhLG8W/cYgMtufwA9R0/BOpIMn9gEfNJzIH531c0YOXcZNhTuwlTPIFx+10No0OwjrMklgVi1AVOX+eOJV5vi2bfex/xgdlKG9Y9Lw4c9B6HWK2+jHwlOeMYmDJnniStrPYV3O31jjneOStuCPmNn4NIb7kbjj9pjDYmO35oUPNCgMW557AUsjI7H8vUZCGEZiPhp1ik4f6/5npGWoum4Z99sh/Dp+zmG2JLoBGTriPEMfNS9FyLXxRliIy2gf2Xlpfx7esVxZsYBHk6sMo6WsTGXlR9HWlI8WjdtiGMFJFcZoeZ0prK0IIq/A6bOQewHBc9HnI9oVi+lLndkEzRn+ONYggeKkwQEfUli/BEycyieu+ty9P7wVezcEIxyvlSSA+ag1fMPoHOz+siKXoYDGkWLWorWr9TBxyQ2aWELsJ1+P3j1KTR8/D7EBS/CUZYJtsdj3rAv8cK9lxEQf42DGasQHzAPjR65Dc2efYjxrMHR3PUImDYYzZ+7H12ZZnaML1KjlqNt42fw9tP3k/RMx474cOSs8MaCYd2xbV0oDqbGIi14Kd546Da0fPJ+HCCoMR8K5XOdiwjg/jRCksI2U5QSjMMkNiM6OcTmqIhNRhjKCCzMvg+KqVfzscvKZXemPgnKHZG7QHyl6Ps+xQTyxXQ/xrSK0kKwM9YbIz57F49d8xdM7t4WO0leQcCxPyEIRSQr2+N8MFIf4nvqLozt0w45a3ywJyMak775DE/ecRlmDOqAQzlr8F1KNEZ3+wRP3HaZOSK8pDAB0Ysm4vm7r0LrRo+S+KzA1g0ByIpahjdq34IWT92LzLCFOJoZiaNZq9kuupPsPAyviQOwN3UF/KcOxiu1rsc3n7xBYuONg+krETlvNB655o/o3/YtEqIYHM5ZixcfvB4N7r8aySFzGc8K7Evwx3ECK30zqTjJC6WGBLqLysW2fxJDXbOsDPljHaj+da9v/WjZ3nGVcWowdm0gsXlTxKbI6fKUH4zYVBX9kNhs2Zrv+kCnH0EgiU2+wLWIjWZNBHRdoPeCikNs0vSRUEpybhASCQb1EcdULdliPifO7G+WKr329tNISFuBwu0pBJjz8dpbz+HlNx4nUfM0xy57BpDYvFwLb1GPRKz0xOp1gXj5tSfMrI2X/xxs/S4Nm3YkmQ3jteregGlzhiKrYC1WsjzqPX8fGjSqg0TqnuxNcVjiPZWA9Xa8ybiiYn0MsfmsE8n3q49hsdc0xKdGISBsCcZPHYbwlT4kRGsRvsoT99e5EQ3ffAwRMfqIp76ZI3HN0Oj4X5fo2GNzqMBPISJVktxoEpsQPlcLdOj6IYnNctq5ExsJCQnBsxE3gnKukqYDARivvmOTpBMSN8WY5WhfdGmBv/77EgwZ8zXzsBL52+NIDn3YRlcjLiXMzOo8zProO7gjNiTr8IVYjJrQFw89dhu69f2MBEVLzGLQ45v2uJ/6/5vBX/N+DZZ6zyYZuh8tP2qMuKRQrEsIRO6mDebQiXsevIlkdy3Sstcbojp55mA8++L95uAIfSNp9oIxqPfsg2j/1SeGSKVmx2Di9CF4sM4t+LxjS7MUTbM0derdSmLzKOMPwoq1y8zBEfrYrEiNZmtU99WVxZnKicTGkppgI2pH+vaO9vf0HfA1vP082OUdXOGOJ9yNG7GRV/0r45VE1yI2aw2x8SWxCXQRG7+sXQRN3xFMiiA4H+q8OGU7PBKzEZS1GWFZWxBJAKgZm3GLA1D7paa44p5H0WHQtwiKz0Y0ScxHvYbiapKRTweMITnJR1ByAVp0HYw/3fogOo2aCv91aZjlHY5L/nIlnnuzFcNlmdmZ/tOXoeGHX6HrqNkISCiED8Fzr8kLcAPjeurN99B+wGhz8tWjr72LP153B976rAuWrliPYQTK1zz0BO6p/yo+7T8C0wMj8cWQsXj6nQ8RsjETgQTG30ydh4defRvDFvsgLHcbwgq+Q1AuSYQAsAH5Dvl0ZnC0PG2P8+wE/j+FVEdYzlT0EUtLbJ59xyE2vhXEZmslsaFfpWVOBFO6vNdMjUhNIMlCRPZOrMjfg3Fekaj/YQfUfvNDfDliKrw2ZJsPYc6OiEPrfmPx+Duf4L2ew7AkNhVhJL6hCZkYQgJyM8nmE280Z9sYg+5jpuDFlm1wyR//ieYde2BJ1FpM9wnDzXWfwWX/rYUv+o/EkGkLMNc3DA8+2xB3PlEfg6bNhwfJjvbkvNbuK7zTuQ/mr4hDZM4OTA+JQa1GzXF3/bdIuEaRyC5E8/a9cMnfr8EDz72OBSGxCGCbeuXjDiS0fMF17INB832xaE2aKYdgEhoRG+0n8ua9f65DbFR2+oioQ2z0EU+SuKT0KsTG0QOlPyixcWaBnLhsrM6dJTYfG2LDPBCIlojUpOuL8edObCQCY84HBc9OFM4C3lOJPsYpclOS7IVjiR7mGlTEyAzAtpXzMat/Ozx/57/QrWUDZIQvxO7EUKxaPA7vE1i0b1KPdgtQnBeL5KA5+PjFWmhV/37ELpuAbRuC0OyFunjmwVsRtngSCtb7o2CtB6b3/xgdmtRGavAMc9LUplU++Prdl9HgrmsxsdtnWDisJwZ/2gx1b/g7Xq59M/xnDUdS2CL0bP0G6hFId33/FXh82xexHlPx+RtPYcmoniQ3wShc6YuObz6LAR83IVjXs4kEuM9YnIUQ4ILA/0KLQ2wCUJQahEPpURhOYtPQEJvVJDYkaycRGxEYzSjweV1txZKaUhIZfa/mRGEdJy+nP9W52iRJDMFSyvJx+KZ5fbxb+7+Y1/8rFESTSCRHITdyMRYN74R2rz2CwZ+/gbxVS7A/PcKQlICZQ9CIBOWT157ErCFdMXdkL3zQ8HFc94dL0LnFy0gIWIA4nzlo8uh/Ufe6/8OM/p8hZNZQxPvOxsv3XY8X7rwGUXNGYsc6TyT6TUMfktiRHVogh8SnvHADSc8itG/8JF598DqMIijxGd8X47t+hP/+9RI0f+puRJHkbIrxwVfvPId7CbCGdXiHdsOY53k4nMwyTCHBYXmBYMXpDyo39Qfb9p3ZrlJDDkVoXOVPN6fslhsRwS/Rcc8ERW2bvEg1UGy6fGXPPw+jCCyWcRf9GGJTUEls8i2xCeGvyIXAkgVPF1JCkLEpwoj2VMRn+BvwW7BzLXK2xiI+PQTd+32Cf171P3j9nacJHH2Z51jMXzaJpOZJPN/wYQRFziVRW4llPpPwNPVF/ZfrYInnNALPMDRq/DQefvQOjJ8yyHyYVN+66fB1C7zf+mWsIaBOJKnekBqJ90l4737oOnzduw0Bcx904e+lV/zG2E2eNYxExQvtu36Am+/8N95t1dDYTZgxhOEaY9i4XtiYFoW1iSF4q2V9dOr5gdkUn0LAmZonIRDP1ywESQUBqhXn+asHsz+mOMRGxxCL2Iiwidi4ZmyYV8efBdCuPP5AxEakKTmHYD0nnMRGedHxziux2Hs83vmgPh5+4mb0G9aBZRmMTd8lYxX1fK8BX6Bxs+fNrNLaROr475IYJhZzl47Dk6zvl15/HMPG9sLoSf15/ST+etlv8M77ryEwYjl8ghfjyedr455aN6F73zYks4PNsrUHa9+G6276tzlMYk1cmFlq+MkXb6Jt+8aIjFlIYrKCYWfgtSZP4e4HbsRnHd7HuEmDzLHiN9z6TxLmxzF/6XjTnuo3fBDX3/Zn8xHQcVN6kPQ6hwaY475zSeB0XW1ZnJmcnthoeWEkYuIC0GdAF3j7W2Jj8YWDXdzNScTG8eRoDv2NjF2Hx192zdiYDdYCjSQ2JDQ+htQ4xMb5TsrFJX7ZOxBSuAsh+ZoN2Ixl61Ixemkg3us6EHc98xquffgZAsiO6DJmOnpNWYAXPmqP6x9rgEafdkGvqQvRcfR0PNn8U1xd93k0JTgdNtcDE5cG4JL/+w+eadIKL33wBYHr12j4SWe07DYE8yMTCKq/w/KEXMwMX8e4O+Ge5xujwXuf47OB49Cscz/Ubfw+2vQbjdlha803TJp06I26TT7AmwS3k/yj0XXCHNz70lt45t3W5tjpdzr1Qcseg+CxIRNheVputQneBP/ON2v0nCJwqiOH1Phn7DX3VcviQoldBnguYjb3k3j2n7EMzzVtg66jZ8I3PtfsL/ElsfGj2KV2Iq1ajibRvWYzIvJYBtpkT0Iakb8boaz/cb5RaPXNKDzd6gs8zHJ+8r3PzHXjTn3Rc8ZSLF2fyXC7EE4yEE4CvIiEpGHbjrj5qRdRp0lLfDF8PD7uNxy3kbS0HTgKM0NXYdmaJHzQZwjue/lNNPu6L0bM98RkjwDUadgEtz/+PF5v0wEvftCObaMzPuzLl4d/JIIzNiOA5Mk7IZvxjcY9JNYPNmqB5l8PROeRk1HrxTdJjr/Etx5B8GVdd2c7uPvFJnjugy8x0jMMy0i+g3J2mmVmPnxeT5I4HYIQmK/DEE4mNoEkNj4kNh9364UoN2Kjfq8Zmx/GWBTiXFXeO2ikjEAkLWmD2YtQVLAeJa4ZGy0fKj/PpWjuZOVspbr43EUnR4ncmBmbTH8jss8LHAefUZ+je/OnUP+/f8eH9e/G1N4fmm+JjCfQaPnMHXiHL7WpvT5E6MwBmNG3NZo/eSveo/2iYe2R4D8DHzWqh1rX/wvdP2pMQvIievJFOOarJlg64jOU5UQQrEfgUHIYfElU3n3sDoa9FwMIWCZ1/5Ck5VF8/X59hM0fhsK1nghiGl+8+Ri6tngOfpP6IMF3Cjo1eQLtXnkYHRs/ht4kXn2ZRlrATGBTLJ+BQJXPcdaSItG+FJGbCysC1sf5ki1OCTL7RUZ00nHPld+xOU7SY5eiKa8OSHfAuHOv+hTB0QyNM+Nwgmi2Jmk5AT9JDYnNsY0ksawHMO5skot5vdth4Puv4qvX66HrW0+he9OnMKRNIwRO6oFta5ahhMDqYFoIjmRFYfMaL7NM7J0n70SrBg9iWv8vMOrrD/DBS7UwuktLJAbMNieZzR7Ynu73o0/rVxA+fwTyYrzxdr17UOfav6HPx6+zTTRAL9bzVNZ5/PKJOECwqTaxPyEYvuN6oN3LD+HLV+tgQueWJF2f4ePn78Wg1q8iZsEoHEmNQOyiMXjpnstIjp9GsE5oS2Bbzo9iOw7mc7Fskj0rykwHLIi4qry0fE9tpCqxEekRASzJ8EBJugfLzQvF7Me7dCraWy+wqx9lfy+rQBbnZRzVcbLo52dLbEJJZvyQlKNlR6FI1PKjXG0yD0Vg1GyMm9bbAN7rb/8rnmtYC32HtCeA7YvOPVvjqRcexKPP/BdderUy3535utdHeIpAt0HDuhgysgfmLxbReQjX3Xwp3n3vFXzyWVN83O5NfNm5OSbP7G/2QyRmEMjnrGScvVH7ydvw7MsPksC8Z2YOXn27Ht5v8yqmkeBGr/XC1LlD0eitJ9CSbU/Xi70n4cN2jU2YJi2eRatPX8Vnnd9BQOQcZBSuJEETqRGhYTlXkBqWtfa3UCpB6oUVZ6bMIRXrkoJde2xakdgspZ0IjPypPiTKp62rk+M6W9GeGR0IkEaip3pOzApB9pZVTDeS5TYLfQZ/iqatnsMzL92HV5s+gRYfv4xPO75jyjsuRUA+CukkHYlZ4QiPWYJ2nd5mG7gdDV59GN8MbY+ufduaWbwO3T6Ed/A8rE0IY1tpQwJcm78fYMGysdi8Mxn1nn0Af//Xb9GhS2s0a/WKOdZb3yDyDJyAvG0rkMo8xiX7YvzUPmaZWUPG2aVHa/Qd9CVee6sePuv4rjkCPDkrEuPZRmvXu4EktwFGTviKpCuCfSoM+dtXsZ+FIYFkvbqyOFNJllQQG/d6sMTGzth0hbcf9bHr3wkKwM1UEBs5Vnh0zRfrbxSJzRMkNjo8wBCbDILMrN0Ekrvhk1GV2DhLgC4e2Q7vrC3wSi9EAH/DcnYgmMA3ICkfYelbEUWQGEmQGE5/EbnfEXgWwleb9LO2IZL3jt0meBGM+ibnIDApBwvC1+CSS681e2wCEnKwJDYZQWlbsKpwP9ZuPYrIvD3wSik0wDqcQHNG8FrMj0pACIFoKMH30jXpCExhHijRBSQhyYVmeZR3Qh5itx1BdOE+cx2YVADPtRmIZh5CCVY37C0zwHYp3TxTCd4ryATrxo3YBJgZGy1TUp39BKLZonMUh9hsIrFZiuddxMavgthsoR8Rm0py405sFDaY5aOlet4sf0/WsR9JUmjed/AnEVxKYrBofQamR8VhXmwKAhkuvGAPw5DI0z04h2mT2Kzath++qfmYEbUO0yPXInrzHsaxHYvXpyJIs36bdiFmx0GEkSwvop1PSh5Wb9qNCR6BeOSVt/Di+22xMHod21g2vOMz2JbU7kg8+Fy+KfmI3X4IIcz//FVJmB0VjwjmOTJrK0nxOvhtzDKzimuZh5UFu7EwJhHeibms060IY171sVnvjG0kNmrb2iu0CwF8vtMRm9YkNtEkNs6paE6vLy/7IYmNu/rRXwtvRGzKSGziSGxeIrFZR3Ckb2k4o8Ya9XUnE2cjFnA7p16dvVjAeyop1tIzzdQQAJYQ9Opr7SBoEdk5vJHgLisMe+K9cSA5AGVUyMf5ktLvET7foZRAlOVFozQnEkd5LzmcGoSD9LtjvRfavfE0WjZ4FPH+c1GwajkKVy3C8fxIHOcLEvwtzQzDUb78kB+DvPD5SAucjt0b9EX8KOxO8MGeZD8cyabfrTEo37QSW2IXY0vMIpTnRzMPTNN8HT8Um1fMx/54HxwSqN2yBnvXLuWziSiIpJytOJvtfwoxM0UkNiUiNjrumcTm1YdvQlH2aoJsEZvKPTaqW3t4gLPHhnmvqFfN6Lg2y1cIyZBmcpII9NkuWdg4vN4Dx+IZF+sN6eF0j8KeGC/kBs5CQegc7IpZioMs11J9F4b1UJQRbA6UOMJyx+ZYHEwJRW7kQmxe7YE9iUHYnRiIfNbx3qQAHEplve1Oxf6UMGRFLcA2xlO8aQ1yGf+bT9yJ9xvURmr4IuykX31PZ/8G9hESpuK0MBxMYFvLjMSR5CDkBM9EXhhJUmoosG09tq9agn1xPijSPePby+sDTHc/wxzPiWa+VpOk002zWyyT4vjFLBtLbpz6dSc2mrmpSmxKLLGhaPammIRy18ZA5zs2xw+zv5dceGJTsRSNxIYg6ackNonZQWaWJqNQRCCcwDUSeTtikbN1NcFvBPK2r8OGNC1d0uh+DHK3xSFr01okZkYjOTva7MMp2B6HvC3rzdKy5IxVSMuONUfgNm3xMt58p4HZY6M9N6vW+pDQrMWOvcnI3hTDeGJQsGMDCnduQHD0fILruViT6G/sYzdqdigamYWrCXbXI3frWsTQbj37Uw6vs9lmEzPDEUcdFaev3lPHaHlVRuEKZymdZkZOQWocYvPTiLO/RuTG7rF5l0TgfRKbJbTTLAH95Qe6xJIbB0ifr4jAamZOM3TpBeHYmMk0mGb2lhWG7GzatZ52ISQtixAUNRerqL8zWP7aiyNSo3K1ZZu3PYYEJxgRsYvoz5P1RCJRsArr2c83Uv+IsO4+nI20vNVYTX2wge+GvC3rWP9xuO+hG3H3AzewPQSa/TPr2N83sL9mFYazXnWogS/bB0kv+37YigWURUimDslnO4hLCkQ861sHW2zayfymB7KdsI5zQ81+mh37NtDOl22I5C0n0AwcVFcWZyrJDC9x6sD2G+feEFS+3/TR2r4DusHH39O921dr3IiNy1RRFlEx61HvJZ2KRuBGwFw9sZGdZnK09OkiEs3YbNqLoPxdCBZBoIRojwJJRiRB4cqCfeY3mGAxmM8XQgnLJVjUsbosC+3JCCRpCcvdSXdnKZtG1C/58+Xm2zPxu46Zo3j1jZFAxumxPtvs8whmHKF5uwlqdxHEiiDtNb+SYJZlYDrzQBIQnr/PHG4QvZlAmYTIM7EQyxM127CXZIbANakQYczT0vVZWE7y40E37RsKol9LbBxSYE9Hc8SZsXEjGxdSTH7OTaonNjkkNlqGdnpiI/EkofEVCShkeZNYai+S7sNJFmUXSBIRxDagX2/Wm/z7iOhmsz7YRjzTCs3+lLDNexGxdT/bkI5X3oZ569LMtWaNvOhn8cZsBJAQRZOkBLJthJC4zI2Ixb0NXked15tjHkmKyE5IxmbW9xaEMM5Q04a2mWu1NR1LHZi+zSyf89mYg4Bkkp6tB8zMjhcJThBJWQj9R2/eT8K1w/nQrPbYuOpfe2y0FM1HZcB26U+/lXtsTiY2paVViI2bDjh340RSSWV0b+/KUV5ehvSk9fik6Ysozl9rlqAJLCGd5MYAJwuozk6cpVHVA+EzkcoR6uoFfFlp2ZlGt5XPYxuXoYhkR9ciZkdJLlBIwJgfhbKsUBQT3B5N9SfoI7gliCnPCTPXknKC32MEzMcIzvcSyL5DANvyOX1nhkB6ZxKOEGAUpwfhGPO1M2YeASQB4xoCT5IlkLgofElGEA4leZEceeNYVhD2JnpiNwnW4TQ/lGQzDb6QDiV5Y9+GZSAbMhvFjySSxPGlfyyJz6u8JFug6r5/5eykurL8scWkq8MDzB4b5zs2rz58M4lNDJ8zjHUiYmMJq+pPQFwzbKwjhT+B2FQVhtOyQ5ZtmU5QYz2Up/iT2LKsSFBFbIri2Q4IKpAVyTZAwE8SoxnHwxuX45BIrmZ6Mkm6WN4HNnqT7LD+CV7LCBh0XcL2UZ7L9rQ91hDN/RsZP8kKdsajiCCndPMarF4+ES88cB0+fPkx5K9hWe9gfyVRhdzZZ7R8U7NI+sgmshgX3WQnkfshpltKYqVr/R5lHo8z/WLNJCX6Yv96krH1S0jSddoZn5lk7gRiU9H2HVLoLElTnasMHZKopXwl6cvZFpebaxGb3QlB+LSpPtB5iFJs5my0gOS8jNVLVUU/JxAbf7N0y/kqeih/BXJPJBsXUkRqRADMKVkEqnEsx7Xsk/FsK2n5kQSyYcjfsY7gdg0SMgm8CeT0NXp9uDF3yxoC0NVIIwkV8EzLWUXAucrso4hLjMAzDR5Cw9frIWZ9AAq3JyAzX6eerUJyVgRWx3kiLiUA61jnijt3WyyB9QYDoFPYZrRpXaJTuhKznBkOzcRkk+zKXnYiX5qZ0ayDji8WOVvPOs/fGYs06sITSY27VA9iL4ScHbER8Tg5jnMVHfOsX+UhrSDUkBwRW83kJFIfx/EdoVmuwu/Wm6WIKuNk1oVmabSMLa0gjNdh5lckSQQpa0s0sjZHI4FtZyP1dfaW1YYMr0sO4D2fM5f1sznG1PnO/anmcIj7HroBD9a+Fes2hpnv36RS7+RvY9vJJdHJ8mYaQSQmJKmsw5zNmnmJRhLbnki0rrM3rUIi09L3inQMdO4WfbtG7iEkNX4kxcsMsUkgwdGxz1XL4WwkmW1FciKxkbAeqR9P+I5NAHVSZbev1pxIbNwVhStUdAWxSTuB2PiI2BhS4xAbZx9EJYi8GETLlTwFYPlcPiQoWq4USgAdRglJ1+zNdoLPHSQgtMvdY44K1jHAASI/tAvQKVsEnwKloTmMMzkPnUdNwyWX3YgPegzFglVJZt9DZOF+Q1iCGJ9OptLIuk6vWrohjwRJ4ffCX1+JT9lK/wS45ujpHfBK2QLPZAJZ/gZm64QzxkG3EObFn3ZBTDuMxMuPZElLBEMEaJk/Z8bGGbV36kZ5diTQHB5QDeG4QFIdYTlTEbEJIKDvp6Vo77TB11qKRtAfSELhQ4LgS3IhAO/vIq4iNc5Rx5IdBPwkM6xnHTQQrBkOEk7V//KUTbRnmalNqNz4q7Dhmw8gbNN+E0b3fqy35fS3YEM2lpH06D6EpCioYC/jVBi2GV3z14Nx+jN+EYtF69PRd8Yi1Gr0Luq3+hyzI9YiMo9hme8gEitDaEimwpg/ncznQ8Icpr0yqm+2tRDGEUy/4XksAz6/D0mOntmX9bw8Ic+0XR+2RUNsVN8sZyNqM4z3dMRGS9FOIDbHST9KLxSxKUWGi9iUUBGXEzgeF+AkID/OF6czQnxuovBVgfeZihNHJZGpKsUkDgfWLsDReBIFvrBEckqTvQhsl+MI7Q4R1JZlOkfoHiF4KeGLzF4fpRxO9EJpBsG4IUEaSSd45n1BxCx8/tpjaPnMA4iYNQwHkwjWE/1wIN6DYDXU7OMp4wvlKAHoIaYlOcp0y7MIrnMCUcrfI8xfSVYgyvgSPSbSxWcp430RQbykhGV7UASHYLuEaR9lXnVtZsmYj3MVp+wcQnlhhemS2BS7HR6g454dYqMZFdYP/UlUrw4w17MS3Juwsrfk5mTR4RDlDFuc4EmC45CbMoLEUtYLSAzKk0lwSBbKkkhcE0hclCeWu12meDRxGcoZB3JDcJzlDAKa8swQHE7QvpQAQ4AOxJFUMG+HNnjiCMnRMZLZI8z3MQKKkvwVWL10HJo+eSdaPPsgwueNxG6meVjklHk6SilWmmxvRWpfbFtHGGcR67ZU7U7tT8+s+mUbk7vanQiNRB8WBYE/CLrBfJcmsq1liKQ6xMaZ/XTavd1jo1/dm+WAJPEqR7N3Kd2TZe7Jfqx2Fkhio+Oe7YzNT0FsVpHQ6OvoIjYC7Q5Q+ilEoDY+I8CMxOcSXBZ8t4aANYqgV4QgHGtIfLXHQ8uW4tguBMhFJuJJRhNIWFOywykRSCRZj08lYM5dicy8WHgHzMKzL9ZC/YYPY96SMdiQEkJAquN4I80JV5t3xRHAiiQRgGaKUGnJUATjDeJ9CMHySnOvX/lzlpUR2JLAiHBpZim9MJLgOYD+nP0QBSQ0WZuj6C5CY0mNJTb22pHqyuJCiENqVOeW2GgpmoiN21I0M1PjvhxNYS3YPjG+sxF9dFNlkZgdYEiNCIrKSUBd9Z21RbNdoSxT1kGWlibSPkf7clT/svNnewlE9la2ARcxSqI+2Uh9YvajaOaE9SSiqXp1wjE+tpWN1EXZhTGIXO2BB2rfiIcfvc0cEa7jn9PzotmGSCCyGU+uHwlNENJZBskiXWx3max/ERzzjRpKCsm29tBoRkdHeCdQhyh8DvOvgwNy+bt5l2YV/U0c1ZXFmcrJxMa6sR7ZL9JyV1Qc93xW37E5QUm4SXRMXPXEhuLtIjYnHCl8MYlIRL5G6nc5hILPIWITSvAfki4iog3n9EdC4k+RHxEQ/QbyecNJSMJJMrS0aa6+LzNlIZ56ty1+e81duKXeK+g5fRnmrE6FD8lLIMspIm8/weV38E4jgdFMEElKkL6tkrfXEBZfxi3RrIskgG6RWw4bvyHMp+yCzVI2zQLtQjjDBJDc+BHY6uOcAQTUAQSy/tmVs2fOpnvnec0GevPccv9pxP0wgLMXgvKMLfhmpgeeeactuoxxTkULIGjXkkIf/tpZGok3SY1EREMkTyRE10uSCrBcbVmzbxQREh33LdG17ERUvFimHixrERg/7VdhXYfk72d9iECSfLJ+vFlfXmwburcSxPpcTpLqQVIqQjY9Mh6vfdEDlz1QD/+p9RSadRuE6WFrSZhZJ0xDs3i+mv3jM6pt+aWK7IiEklSzjkV4zFHOzLN+g1i/EXyWyM0HEUh/QWwLass68c6XhNwnlXXP9hnEfAbm8VlydKgC26Cek2Xop6VvOc7hAZbYuC9FO37BZmyqEhttWiZYIsDSrwOifgpR2nbD9MmCwgiz50KHB5SkeONYIomM7EVyCGAkx0kmSvgcxbTXtbGXOxW17I8xrAiK7gV680ImYmKnN/D4Nb9Dnat+j7Ed3kVh5DyAL5oypqUDCvatnU+gSuBZGEYQyXj54izRUql05iFpGUkOAa3KjmmVi8zwOY4R4OoY4nICE32sUjNKxZqtyQnDofVLmacQXoeSmJ1feTtkknm6wGJIKIGgTkU7lO4QG3vcczGJTbk7sTHLplSWJH4kN3bj+4lkxgHxVsqSWVYsN5GaYxsJ2lN07YeijVqi5cRRyvIsIcEQIdcsXlHCUhLcRWavSXmGN0mGBwkI6yfBg9ciGiwrEhFDKEg2zLJJpmX2uBCIITOUhMcL+0loNywfheGfN0a9G/6E5277F77t0hKZYTNIYtWeGAfleAafK51x8hckt+UkJoc2LGZanuZwC9mVaPaFAOTwxqV8fqZFcCRiVCLSxnaoGcdi5rGUREzHWyNVRzqfeHiAs7fGKTMtWQPbDFgWZq+T/Jh9Slq+J6ITjD0bQ9DubR0eoD02P9CBJDaSqqKf7yU2AkoWuF5YydwsohJGcBpgDg/QCH4y+71ZnrZJAFYj9TpcgHlkfkV6craSvPBX99qcrZOo8reRVGhvS24UfINn4Kvu7+Peh67CnQ/8Bx27NYdX4BS6OR/HFCDdyLYbz/6RXkgSxT6fRqKSuUnfUHFmjyQiMebebHhXOel0M8ZBYrOBuieBeVZeNGug/Gv/SPbWFQxnDwuQiMjYa2d2SmLJ0IWWVCPMA8vJ2WOj4561x2YZ7SPoR+DZ1o8F01Wl+ri/TxwSIzLrLElz6lZl6ixB1IyNmZlh+Yq8Zm5aybJcYUiKSGT2Vp3aptmdACMmHup0kUnVg+psA+MQMRJxU3iJmV3bHIOAsNno2rs1/nXF/+LqG/+MXv0/g0/QTLaHCGQwD5pdySwkmSDB0THoWUxT/USzm5qZSaIeSna1HdmpHSXzPZGlZZRqM2yLG9jn4/huSaT+kl0Gn6u6sjgzYfwkgpXE5kSpOO75XL5jY4y7onCFiiKxecIQm1QECwwKeBG8idiYGZssd2JzkYnAIIGhvmMTKELD5wrlM4nMBJPYBBMoBvP5gmkvACn/3gSr8hske0oAgaRv+hZEbdlPkvMdogl+12w6iBV5+wxpCSL58RXgTBMZYjymzEQ+NAuxw5AcfV/Fl3nQSVYSnwwCc/56EvAG5mrZHwkJiY0XSYzuRXh8CX7N7A/dQummWSDN1Hhn0J5A2J1ImJkOimakNAOga3eycSFF31M5mbCcqbBcSGz6ktg8TWLTeewseCfmsyxJLvRdluxtMN+uoXhTvHIc0bWOfV6cVIgAEUSRQ8WlGRXNcLFMvOnuxTQ8tPRLM2oiu/Qrd4m+bePDNuGp7wQZAkNCy7rXfUAOy58kQvZLEzcZt2ASIN0Hsv69WVchjF/7o3SUdGQ+CQcJimb/RGBCRGqZrj/jC2SbkoQoPrZRzdL5sN41i6TZuECSLk+SILWNYBIotQX1Px+G9WM7C8wi6aL4s52pzYmgebsTG/6K2Phns60kZ+Cjbj0rDw8we+tIREpLXNfna1zx8e+piE1a4jq0feclQ2zKzIyNi9hQnBH2n0IE0rShvHopIrkoJegTYDxOQHmMYLCEIFKb0LXRvOI4XAJMM3qdIgApEuSJYvor1rdCtCeHQFOERfEJlBYLLOavwLG0cALcFWZpkUjNwbhFBLA6pIBEiQRG1wc3LCSAZdzaC0Jic5xSrg8s0r9G8A/FL2MeCDr5IjMkLIlxa8aALyvNPoAvp6OaueEL8vD6Jea3upmYMxXVW/UzKi4RGD4fqS5OidxE1khWnMMDWuKVh2+sODxAR0FXLkVTm7LExt/cOzMSAvBWdC9x4j66gWWjGReVYSLrnCBRIpKksizZyDI07ix7s9+KdUtwj0ymmcFfI2o3smM50V8x/ahdlGmTPtOQvZkhIekpZxoiS/qOk2boNLtSmkEynB7BNrOadivN7F4Z24sONyhNXU5xDjlQGrp3DjxgvrJIuvQhTbaTIxvZhnhfnOzYK01DenLVDlmHSl/2jKM8hfbmOzXOPiMRPqftO+RGdja/0CwWAY7K1+5LEtEpTw3Bvo2h+Pytl4AyEpvjOr3oB1ArjkpxCf+4RegQm3zMmV9JbATyU0nc7UcbK8HshRVnFN4BuXZJnMiAgK9G4kV6dC07jfgnkrBKnCVVAncEuiQViZr1yQoiwYkh0FxBkBmG3C0x5jlzt6w25EckSEuFcklEtKQpk8RJ+zsSSKYFrjVrIMkgoNXSKGeWQCCZAJJ2IlUiNnIT6VJ+9CFJ5VMETUBb1za/leJGKFziAFf9Vid0Iyj+MaQyD9FYnxxiiE37rpbYkOyaOlDdqE24Exm362riPRNJIvETQXUvGxGTJJan4lW5q3w1gyaSlblpBcs61NzLXseBS1TmKvts1qPCJ2QFmrhFGI0/tmt7+ppm2ZKyROBFTEKxY28ScjevRcG2Ddi+N4V9IMosLdOesxQtbytgvlh/6cybZmPUjrTkLFntge3EITGhyCRhMSeekdjoWOeN1Ef6OGfe1tUVJCiTfs3paBX1Wp2wbE4jzuEBtj7c+6nav0Ns1saHop8hNtSR6u9Ot6/WnHaPjX6iYjegboNX4b8+FSEE8Pq6uUCeL0Gbr0AVReBKoP9ilIrZEV6bWRuCSUkQRfdV/Rm/Lv+VbgTdWZrJcZaumWVsBJlBufvgxd+A/APOfqR0lhcJ4XIXeHZmAipFH1M8E/HLci01IgB2hCSJebJxmPjc8qv8aTZHMwJajqRr9+c5G3FP52zl5HydrYj0bUbvmcvMzNhXY2ebWQw/EZhcEhgXifGieFKW816ie2+m7U2ycq7iw3KubmmdFR19fioxy8M0U+YmujfEhe1DxKSyLitFgwbmBEL2L58qIjtfNz+aRfXXARGZIjWVonL3ziWZIfkz9c5fX5JAn4x8+KRkolWXboha7xAbfTBTvb6kuIgg4XRq40yNo0jcic1xAhxHylFaVoqEdavR/v3GKMqNNUt0SglWNertkBsfAtOfQgjSBPDOQY5bqQDKVUWj/gS21YgOISgmSCzny0KzLMXJDhh23Ak2CZaPp+uELk8K46pIjwBTRMrknaDSRQqtCMDjxxbVm4tAXHAhWSghUSnJ1uEBzdDwoWtQkruKZCDEPL9mH8CyF4lQWZgDKkjGDKkwdSIQ7wD5CtEyLMZ9OjF7UEzcFJIMpInUWGF9ueS4EcZvhHG7xMmThP5VvyILilNxm3x5MP9eJCokMSmBKE8OZjsQARWBYJtgfOWM++zFPm9VYT5PEMZv0nLEmZHhs9MNqUtJaJjvJOZXBE15N3HQn5m9CsW+DWHo1Ow1EptjVADOBzqNnI+xcRj95C5MgnpFH+icu2CKOfY4qyDGgDwBtkSSeoHDyqVH1YkFUz+GuANoK1VBnJtomZRL9CHENCMEvvRfIQSeaQTSlcL7Cnf5dT4EKmKT6Vo6pnRFVgS8BZQt0TqVKH8WaJ8swS5xgHxV0UxTJcE4WUQC7KzRDy06elrxp5HYxKWQYHdugc+/amGIjbPMTn5EEqwwr8bOEYf8nRzv9wvLTMJyO1FsnbsJ/Vd8P8eKAfpVw1pROLnL38nikEqHxJsPp5qZO5KoCtG3hlQmaicSXVt/bB+6ZjqVbqcS+TtZqqtjd7HE7yRhnKcmNiJ/JOcFq7AmPhh9+ttT0Wyvr96cTGxkXCH0ExUbh0cbNPr/7P0FYB1HmjUMz/+9sPTu7uzu7E52ZjbJJJMJM5PjgANmDtgxc2JmiBljhjgcM0oGMaNJZjGbmR2zJNvnP6fq9r1X8pUtsOzAtHzc3YVPPVXd9zldhMCkFISl7TIrSOnrcYC+cutLspBNw4luziaMP0c4hmcYSYl6YRzjU35OT4oD7zh2WeGDNHw1TOog4x9CuElDhvwJrKThKvilHaCuRAKPm96CYA0RkqFeBtj5Ml6goWw3SKVxa840oGn4O7D+zN8Nj7xOmTx+5YPS9c6rvHBkqwjsELsDGDV/Nd76uCt6T5uDFdvySR73I2An0xexoX4ccuMQG92rR8YXYSkz8o4yjdKxmvKpx8cXAgjNf7kWdDc9LdKtCJCFu04Jd/rM38ArTyFQMGHVFizsvDcLtR/1ZqmNqqeuJLFpO3AIErZsxSUSm8tmNTQSm6IC/n+910ZZD/v60f/FiQ1JlCE2l5G8ZQO6tWyEc2ZORISZE1AkQ45G52UaS/qSXF4oXuVgiUZlcPU6cBvDJWCMQn0Z11d9DStL8TfGpXaCB43JK+n+bsP0Cg1jA2MAy8i2PRhXaBT7gi/D/GbiGrJREiJp18FVGselwW3slwYR0exQFObHYUb/Fmjw4t24vGstikiUNWzKkgaRB5JPtSuSG+su8sI8XEa8uXajJLHRfXFYIqL6LAkZ/v4GVw1c6btgSIm5VnzVveRzyWjKKyiOVqpjfbN+1UN0NU1D30TGbLqX2RYqAqVpZbo+HDndxMaFK6ZsyykjzyI3rnZt46n8+jARjcPrQ9BVG3Sqx+bKTRre6qRhiI3nk4mOK1eLsHfvDixY9DWJTSjy9iQhI1/Da+LNV2UZ+N5f0W8tPEbztfAV3mN0Z9Lgy3LDLl1tEeUD3v7qAYhAco56i0TcPEay7h03D0G5Ft4Gpm940rwWtmfINwFwjNprDfSbAfU8qXdKO/yv3RKELr0+RI/+rRC/0Z/5Kgzlo24M3OUQcbDnkj1P5YElLUznhlA4X/AV1sLIRdLmC2aoW7G2EW16YzSczEIExCE1BPVvCZBID4mNrqkLDzl24BXHHa8EbqAvQ8gYzhdMe2A+qYSbGJryuupG93lxWL85zE1sPE+978NNbJz3hTlcFzppueeX3qmD0M1piMrcg3D1TOSp14LGOw0lLYsbSlhi8/OFhjlpUQAHzuICmquhCeDeMBPJXXEEkZpAGouaA6LhXpoboa/xfukHsEpD9jQcKVcrr502vVsrRQ530Bg1E7uvD6eXozjUQ3OccjhwfcF3wfmK76sXoLIwPQiCV363CiJkq9N3Y9j3fqhBYjNg1nwEpe6m+0Ea76wDkpggLwRQvwGaN0NCoDkyQTtPILDCUD2SKJSC1ayn0qDeImeVOgfFCCPvvXvgjI5ZXqd3RmXwRqDA8pTsvXF6cIrVl/LWnBq2Wa22Zva60dC0nD0IzsxDu0FDkLh1G4nNZRQWFvKZv5kbdNpUPGmJ2GgCsd0G+GJhEbZsWo+urRubDTo1DEsrORVkhKIoPcgYrBVGVmVAozWziuAzPy/kBNnhQxrKlEsjVkOZ8mkoarPI1OXGqLxMA9IZcnSZRrcmt1/VfAf1TpAU3RaY3g/KXBp8xSkrMq+f9mUa1xoidTYjDJN7f4D6z/8PLvKH8FKmFnUgSSARtD0qTIfpXVWPoJOuaS/edaQ0lR/9i0FuDkrGIdRmygWSJSML0zb3kk/pumTSfRYJTBbJgnGXDCGuvEkq6HfFTNQnWSsn1ONXvHfJgdxJ6lieUmHiU6ZsP4YVgbPxrB/P9L+sYY9ZMTixNRK9mtUlsTnPR/8mDW91v0z0Xwliw/fWnr35psdmTZJ6bDSJXl+j9aVaqz/JACxJIG4FZIzSwCszipMdrbKVWYywlB2Kl72HBi6hieg6y1jUdfZeDUsLZx4eEnUtHMO/IpBxKiP1WmPWDRm8VQDNA9I8Jg07067/3fp9jL6ftUPi5pUuQ1tlU9nt6mVG1zTaPeVWPVxLHsqG4vVXOhTOF3yFdVC6XOqFytrN+t6toWYRhFYzYz3TXXNrNAzNkB0Hhuxobk08kWDvWXYLb7LsFadUkBQZGXzDyOhFdEoinfENKINZwMK4u/Rh5HTm2Aw2xEYLkVzvbVKsx8YdUC8g10soYf1GvFyjFkKSkhGZvhPhNMrDaEhq74xQrSSWtY/YTyNp388a2rhRCNUEbdd1EMsWSARke6B7QX423F5e76XbHnMdxvhhGfsRknEQq0hsQrTiGaGemmhN5hYRYjr6ch6oCeElECxoQQAXQkpBcBbJlb72m/O10CIHFiRZLtjwP19E5h9DFAnMKBKb95p/is9mLUBE+h6zRLJZejlH5NJC1+qlEAk1BJSEU3N8run9KhcsqfUFrbRWKnzUr1OPWlnPgXXz1KF6dTTfSvF9p2fDeNe74Kl73ps890NLlEfyPoK6CNXqcdm7EZKei7b9B/FlvxWXii6joMD21Gh/GT3913txlO1wDA8nLYfYMA/eXWSe27dtRucWjXA8ax0u5cThQno4LmZoCVtt0hlSIWiokZlwX0Eovq90ywqTf6nQvIdSoOF3uWE4m+KPouwgM4/iUqp6cTQvQ6tZBaKARm4Bz5cMgg0JLEwPIxEkIUzTKmsBlURghVBg5CeRKAVaVro0XCIpK0jXHCPf0DAzX2lahJjJ+IU5ETiVHonpg9qiSfUHcWHHWlzIijJxr1B36rUqcqV1STpTmrwvUlySFZOGoDDpTDPd6tVC13ITlIYgAkqQgJcbrrwKjCyaH+TIoLxt2rovIGEw9U13zSHSktYKU0RiW0g/LRRRERQQNj9vODIpL50tHHcP1O5W4xJJTCFJloaOmngmbVfbTNFcrzgc3RKFbh+J2GiOjXqDb9JRrLfGQ2zUG3zo8D4sWT4HiRu0j806Q2zsKk8yvjTBWcbTbQDJlbO0ctmg8BYZImbmy3qJr+RlQIbOMi41V0JzjXitr+I65+5LhJYP9kk43HB6XUqDZ+jZtRCpuV65NU+kaqDls6X33H3rkZSsVdFaQLv6ayha1u4EOwTPEAVBBrTuvWDm4VQMdlGAqoKGFJYG+audk5iQpGnBDNtj4+m10bwYD+L5jCQQicQae892URze4UuHni3fMpUFCchgnQiZu7TXj6Br+SldLXOegLUbw12LB6xG0RW74W9ph485NnxJ0PiwABLXbsDLb72HoLVbEL491wxHC9VStmk05FN3IUwwbjKUfp6Q7GFpHuheCM7YjSAiMHM3AgiddS/ILyx9F8LTdjINImMn70n8qIuI1D1MhwQofT9Wp+3HyuQ9CEol6RFoiIeadHYZIhQiIuUFEStvaLPO8BKQmwiUO0yJcGaDT+NHg5YyhJJgGWTQoHWDRnQFEZp+e6ByBW7NwcgvF6JO808wZOr3WJ2UjmBtUilSSYIZpjOh+xCRTyKUBFT7CQVn7L1tCHFBz06YC+FpexHhBd2bunPVn9qD9ksqLT1Tx074UuDkq3Qj2QYiSJ70ISKU7S80NQcte/ZFfNImFJBkFDrExvSnmMe/kodePaIwttfGnEVseHOZOHupANu3b0Wnlk1wMC3RTP4+nxFNROFcWgTOpYZWGGcrCV9plhW+0vPGmVIRgnM0uo9vX0mjPJz3wTi1LYC6CMWp7SQddJP/WZK+M8TZzHCczYjE+fQokoto+kW6/coP5mcQUW6cFUhGz5JYlAbJdj34ilM2ROBiViTOMP+dSQEY368N6lV7BIfT43EyLYp+1A3J0wXq8jx1fDZVm6EyHs/nUsOMbs+RENqz7umutscw51K9YNzkpzBOPKfOeV8BnGV6Z4izTMfCutkz2wNJzhmSqh9Zxh9Zv2fSYuhOOUgmzho/1ttNg5XlDPMy13Q7KxhZHFBGkjvJ9SMJkK7Pu/wk5xney+0CZTyTHIWda4LR5cN6fOwv8dnXBw373Ff6MMRG7xVBqdpE1WOze08+5s7/ElFxK5CRp9XD4szE6K2ULyVHG2DK6PUNXwbyTUMe5ciLvw5ovF0H6Qyj4Tha2arsUPh4s5mj9sXZni2Ss4byaBlpGvQ7Eoxbck5MqdDu99qQs3REE9KrL8ifhKo05FYdjNxG9gTEbwhE1z6t0GdIJ0Ql+iGZZZbc3pPvPXWla4F1UkHYPYi8CVw54MTPZ537AuusNKg+tTeRIfKs/2tB4pXvBbaNDOrHA937Qol4PpBu4Fsfgs+yeCEtP5FQ21zLeyGRsHrUHjZ5ezZj3cZIjBzzGQKCAnCRtsplGRKlHD6IjUNqhKtIXLMeL7/5DgaMm4JBU77GgBk/YMDMeeg/Yy76T5+DgdN/MBgw7bufIb4vFf2JftO/R58Z36O3MNOedd+X7v2JgdO+xaCp32DAdItB077B4KnfYsiU7+k+h/HnoZfrPHjmAvQcNxt9Pv8Kg7+Yg75Tv6YOmQ716cDolnB0KgxyMO0HDHZhEGUbpPxd0LUwmO6CwnunMYD1ZDBjDvMRWHcVxfS5TGsu060EplUMA0hkBlDfH33SH89Uq4MPO/bFoElfo+9k6nImdSgYnbLuqMe+BtS/yszy92P8iqI/9T6gglDcfsy//zTWATGQbWLQVNYjMXiKB4OIgXQb4IKJVwqMPF5hS0NfhtNcpH5Gh/P57C5A/1nzqBe246mzUffjNojhM659bC4XFuoFwBfGzRqKZkwZojixkYu+316glbMteRtq13gFy7+egOVT+mPZxN5ELyyZQHzeB0smlh+LXVhUQSye2Jd5VwyKKywqBYsn9cOS0jC5H+aO746Fk3rBf8YgfD2sE+aN64GAL0dg/vieWDyZaUzpg4Vu8J5xFk8awHIPxJIpA7F42oDimF42LDIYWGEsnDIACyb3LxWLpw0qHVMHsVxMpxQsnFx62guJRWwzi6cOxLxpw9Du/Zp44ZG74f/9VMybNBBL6b+CeloxpR/8mNbyqYOxbOpn5uzPez/GWz5NGEQMpvsQQv7CUC/onn4mnMIPMFB8N5TelEFu+F+DgW5YWZiWgdLp74onGeRGf9bJMup26bTPiOGUeySW8Xr5tP4m72WUZRllriyWThtyDRw/oxPm42dAuZUv5VpK+FFOf8rrR11avdCNsq1g2ZZMGMB2PAL1X38JVwovmjeB3i4FfBFU+r1SCrFRj83uPXkY//kwjJ7QD5NnDMakGTzPspj65WBMnDmwVEyaNQiTvmCcqsKsIaXgM2JoKRhG2YdiyszPMIVhp8waXEYo7GeM+xkmzhiC6V+PxLCxPcz1jG9GYxzbl5PHRKZdOoaUgHTojUGYSL1NnEUdlgT9PmcdfM48fcGm5yvPykP5TuCzM2nmMIyZOAR1G9dA449qYwzfCVNmD3PJ158Y4ALLYGDltnVSMfjWU3ng6OZaeNrLtVBdTzJtXmA4Nxw3lm96aWC5pzPv6czHQNfe8BVHUDzBqevSULwcxcH6cmHiTLbHGWqTcmf6rvr4nO+kUeMGoXX7FlgduNrrqfd9FCc2CmkIDV8YWiFJxCZxLV55423Ub9EO9dt2Rf0OvVGPBmXdDn1Qt31v1G/fCw3a96Rf958hehg0aNuzGOoT9Yi67XqiNssm1Opgz3UIuStewzbd0LjNp2jY9lPG+xSN2nRFk9bdiB5o1LoXGrbvh3rt+qJJl4F496Mu+MvTb+CxarXQsF13NOrIvNt3c6OB0M6ioQuNvNC4bXE0ate1GBqzbiwcf086DdqzrO2Vn0W9SkDxG7SrGBq60Ii6qxCY9/ude+PV95rgT/c8gWrvNMH7pi66o0GXPmyXqpvuRA/U8ao7XddTuDaUg3VTETRq05N1XToaKUwpaED/em17oV6bXpSBz0trG76x0MqiUcvuaNjKogFRv7VFvVLg+N8IdZj3e8y7dhvqpy3bY/v+qMPntxZ1WavtJ6herzEi4xJRVHjZbszJl8DlyzJBbsbhepcwTZfpQRdLbJTD+aKr2LJtG158+hEM79kG/T5+GwOav4WBzWugT7N30Pvj2hVDi9roVSnUYTp1K4xeLW6AlvVKQV10/egd9G1bDx0avY5n7v4taj1/Pwa2b4KuzWqiR8s66NG6ths9hVZ1TNzeLRugZ8v66O6FbkKrsqFrq3pEXXzaugJgvG6tmWfrBqXCV55lha/0HPRgvr1a1kafNg3Ru9PHeOvV53DXf/8OQ/t8im4tGqAf/Qe1qUfUx8A2jTCgTRP0b9PUnAe11n0j9G8rNCbo17Yp8T7DfEB86AKv5Wb8FI7h2zXEgLaESdNBY6IJ81HavtCYaGQgWaw8DXluQPkIuTOc4pu0mL7y69f2A6IZ+rX5mGfKw7ytzJK3YujHsvRjmYS+7UqCfu08YQdQhoHMbyDlEfq3a0R/ulHOwa3fp+xNea0wLEPb+hjMOuv7UV0M6dgaLz3+CAouXTLP+wVCfTfXM0jKdFynxyYnNx19+n+C1h0aoXXH+mjZoSZadXiP53fRpnM9tJRbKWjduSHD3Ao0Ihp7oQnR9Fp0ep/4wJzbdmpKNCEae6ER2jI9C17rvpi/wjNe5w/QpHkt3P/Y/6DaW88w7Q+oE+X5Af0+RGumf110dNCU9018oDFBfV8DuSuOV1recKd789GqYxOCuu30EVq2/whPvfA4nnnxSTTjM9iha3O07UK5qTcLyso6sKDMOqusPtItC1ox7vUh2a4HX3GEJmzHjYlGpaAx65Vyt6ccDnTPum5Nv2vBcndg+Ts0INj+5WbiKQ3GKYlr4gs2jVY8q021LAW+y+MFtqOWhOeeZenEdDtRrk4N0JLvnOatGqNW3ffgt8LfjPoo4uNvXgU+jhv02ADxazfg1XdqY35wNBbHbcTCxO1YkJiM+ULCdixM2IZFQvztwnYi2Y3FvHewROe4bR4w/OL4rQznDScNDxa6sIDlE1ROB47bQqUVtxVL4rYwzhbqYTPT3sJ7uSnfFIZJwfxYm/e0RcGo1fxTNO8xFAujN2LpGoZJZN4u6NobSwTq1RtLvWDcEpmXkLCVboKXH7HYBVM/lLkYWI82b+qAWGjAcrFeLXS9jbD+FjadxRXEEgfUbWlYSv/SsChuM+ZFrsWgyV/hvSZtMfDzL7EoYj0WxCRh0VpXWagHW95t7roy5WXaqjOn3ahOlnhB946fDbfVtBVbnwLDlZDVG+425gOLiAVMS1ioNsf01HYWq224sMgB3RepTRlsNljI64Vyj2V8peWCrhVnSYyFk47cFzPs0hgbfq70EMfnIzaV+afy2U3BvPjNmBO9Bk06fIKoNetQSFJzlYaBDIWiK3YRgcofMjoE8yqxZ76JrhAaknKBZCorMx2t36+DtLgVyAz/Hjui52B37DzkR89FTvQ8ZFcY893IEmIWuKBrGybH5GHzsXDiMFz0QmKBub4WC72wwMQTcr3SKRVRTL9UUC7Klpu4BNGLp6HWM/dgct82yIxegoxIphu3EDnxzM9gIXLjFiDPYCHyYhcjJ3YRsmIptwuZdC8fFiGDSI9b7EE875lXBvOx0LUNl0F/xcmiW3bcEmJZCSz1gvyLI8sLvvyLIbY0LEa+ZIlagI2hC/FZt1Z445kHkBIfiNTIxdgRvxQ7qdMdRD7rPy9mEfW02Jx1n69ryppHGfMY1pzNvR/h7zovN275lCOfZXaQx/tchs/lWddCPmXaQex0YynvhWXmbN0WG+wwstuzhY2rfPLonsty5fA6h3nnUI6cWH+Tn+o8V/6xy3kWlrmwlOGuRTbL5Q2lKZkF1VNW/DJkEln0y4qnWzzbkslbULuiDJQ91wW1tTy2tR3U4U6jx0XmPj92AeVfgL1MIytsPrYEL0abRrX50Nvx8Jf4X2FlXyuKb9LQf0rVk6B6gw8c3IWvv5sKv4BvEb/eH+u2rMCaTcsRt34x4jYsI/xKRXySv1k1q3QwjDmvsEhaybPgui8WriQcPwdOHBeUlk+sMkjgtcWKEvD3Qkk/Gyd23QosWD4Lb9d5ESMn9OP7Xn6rma7yXok4himOFfa8weZtIVkkpwum3IKunTIvd515b8Iz/03eYDk2rnZB14qvuAqrPCjTBsmle08aFUEs6z5mnR+i165EUOQydOzWAl16tMHygB+oD4ah3Amb/AjqjTJIFiuTlcvTLvxdoE7ckL/g7SZ4h3XC+AL9jY5Lg5PGKhdWE4yXJHmWI5bt2ILX6/2KweS/nnGvh2Ly2jT1bMTz3uhf9c78SsJTPm848b11pWvn3ubpSUfXyseB7hmG5Y41ZXfpyNEDy6z2lpgUiICQxeg/qDeCw0KM/VBYRFvCmhfXHG5i435feL0wdBW3fiNeq9sIwVvSEa75CnlHzA7tWpnJrtp1GCE65xy2KzxVANqEsOLQ6k8n3AjNPY5QumkjzHCds7WDuzbHPGKWcDZL3nqhcnLbPUg0sTxQy+jm2vRCsilTtjbJPI4gTdjOOohlCcmo1643Wg+cgOhc7ZFDWfJcewDddGiFrdIRauBa2U7LAOcdNIsZaOWwYMa3YFhTt9Zfq2rZOE78qkEY8y4NEZQxLGsPRv+wHO8064TR3y9HlNpk9n6WSxtQHkS4wHrVZpSOvOGsI+1JZCb5u+pJda/NSgWtZKd7xz/AhKFOcg4w3gGGOWDaja82UBYo3SDqUMssa5EDyWrbn217nv1wdE03+ocy39Aclo0IURyGt+1XYSy0NHQo23dEloVp4648wxk2OtOWLYj1KPewTPppGXJeB2btxarkLLQZMBhxmzbT6BCZEYr40rDExr4PKnPYt4r93x4iNg4uX76CzOQt6PxRHVzatREFmlyfEQitWGU2MMwORFEFcFlxmcblLO3IHowiojA7xAXeM4xnhSit9hRAuPaAMWGDUcCwBTzb8DYNB560tNiA8lB6WuVKq0JphSibXoWQy/TyI7CPL/Nq9/0L/KcO4H28yedqDuUzCCZCAMoF5q0NGLUZqPRVQDkqhkAUajEC1sHFrFBcyLa4yDwuZgfgEqFwlxjuEmW5lEX9mMn7lJd6u5wZRj1EeCHcC/ILvQZFTN9ACzZkaInviiLITMI/lxWDKX1bou7z9+JC3jpczIiiXyic/WbsXiwBZhEGnc0yxsz7SnYkEWZ0aqHd+8ON++XsCOtHObWJqvRszioD3Qtzww2KchRfYVQvdkNPbeBJC58IZ3htjiroXu423FWTbpjxN2feq34vE4XMS22sQPkYPUlvbGvZLIfaYVakCxEE5WDaBQxn224I64xgeS6WgNp1EdMp4jNyieEvMP3zlP8C/S7lsA1lr2ZaqwjbLlTXl5j+pcwIFGSwbo1OtTocnx2jV7u/jVmWWqu2KX2GOZkShU/5bOPKTemnsYfzMikJnUig9u3fgfmLZmPdpkDk7E6EVoPK2BEJs7eHJlbvjqk4tLqYuY4l4r0Q53KTH8PsiSqBSuZbKWjhgFhEr1uCF19/EN8tmISMnYlm4YDM3ZFWtj0Mt4fyG+he7oqrcsWZ+Jnucukcjey9sS7EEFphLRzZ+4i9kdZtT7zZiDJ7r8LKTZt9alNQxmHabncTR+lanZpJ47tZV3vCbX4+y3RjaEEAu9t/AjalRqJ7v1boOaAtSctqujEfhTPl9K4fyaAyM/7ucCLMnr1XTjMLDTjQvbOKmqBwCq9r73DlgeI6aWgRg1i7KIH8KEsmZcrcE2r0k7lbq9uxbUtfbsjNy53xtAy0Z3Uy6cbqxyO/I7fCK5zCK15xXFteT1wtK25X7tOS5GEusA7lZhYxcMGEkbsnjOIp7XSThw9QB5n5idiSEmsWDwgI5nvHeexdz37Jo8zEJmhzmpmUrY0oRWi0waT2DDHGvIwxl0FVEfgmLGWDXX74BM/Cccpn4RAcSz6c8DTUjUHpkBpLRHzJVBaUSmyUb0lik3gtsfFFOm4VLJEQuRKp8SY2lNuA4VzExpKbW0Nsrgez1PhNIDbBPBui4IJpC3Rz/J26VJqhOUyXcEhIRWBWVBOxYXoiLaUTG0tujHzKO1fl2mfiWJnVtiypcfYFUvsLJ6kJJ2EJJbFx/LXkeNTPltiIKDgEpWJQfBEVh+AYUiKDSwSABpuWynUTEYfcmHhBJqwMQ0tqnDQsZAzK3YHStPm5iI1ZFrfixOYKiU1RXjj2bvDHq/f+M/ym9Od9HI1xEhqRNgPKwnwlr7O0tdUXjfYKoojpmL2DtPIVyYohOcZ45r3L30IEiHqgfxHJxBUSi6vplI3Xl7WjvwgOCU9x0M8QoOLQKnDSpyFGzPdKBaB45SM2q00Z3MRGOhe5YVmlX9W/uSZJuEJj/grJhPV36pj1y+urDKOV90Q4hMtsL4pnl5EWtJcLyQvLf5U6uUJcNdcCCQ39lYbiFHOXm6ueLVFXHbjInwmvul5JqAyOvl06ZxjbzqlXFyw5sihwQdcqv/SgOrbERfWtehVJkV6Yh7lWONU1ZWD9Ctok1G7Iei2xMXsqqc0wjIhNV62KdqVAT759AVT2cF4mJaHTjYiN9uCgoVRhGENRcAxFrdgkeBuD9DdGpQMnTom0biVcxOaF6h5io93uZZRKPmuwOoakjExr5MoAtqu6aYUxx4i1Bq2IjoWrvDK098jolsGt8rr0YvyZj/yMPpx4gtxDabArXeZHA9asoqalomn0mny8y1EOmI0qlUdpxEbhfBIAW4+mrG5S45S7pK6ce6sTG+4mExuREZEb5WPkCaVuQgie3ZvKRrrO3rK6oCWsDZi24M7HkduJ48pTYYuVqSwQqREcYiPiIrj2XXJIjYF3GBEbG0953ojYbE4msRlTgtiUcpSZ2ARuSkVoxh4aRQdpUGnDQ20+SCOQ99qw09uQKy88xKP8ELEJzNMO6yQRLpgeB2cfj1xteujKizLLQCyO20NstFeOwpbc/PNmwJA15lEa3ATHi7jciNjIP4Rk1kOKSgH1Uhk4m4j6ggjG9YiNep9MGLZHSxxtGzE9djyrvk0dueAmuC73kigWxuiVaVQAhtj4SNM3sbHtyRIg9e7s571IkSe8CI32xhFUn+4eSXd+uj7MdmeJ28+R2Bgj3xiTFYObKMhopqHlkBKnt8bu4O/AEhJrNOpLtkiL0xujuDZNna2x6TEWLfGRv8vopYFXKWKTw3Rzw7BnvR9euef/YfnkfryPRYFIhwiGgWSkAc58zFdztwHqm7SUBYovo9SCchiSY+F8ibdw3Jh/Oo13khqk2esiGrN2CeWSoJ4Y51pQZhnFrnQrCslTUWLjEFFjxLP+5G57oNQWSWpo1Ns2xfju9qI4dKNfoYiE2gnjSBa7t47OQdQjSYshfzatyzozjk3fA0MODVSnStcli+rFtFuH1Ahqu9rbhmdX+hae+LYMxWHbjYVJ16V39zLOisd7bU5qNzPVhqG6Zj4kMapfEZor6SRgpt6vQ2yYliU20eiqfWyu/jSIjcfIqyAcQ87cW4PLgnmYeyeMl4EpQuCdxm2AeiIcYvMtiU36jgRk700whrHkLLYJpDGWw6yhvMNZOUzLOkcgzW1Is2xOuUx5lY6ICEmKi5C49yhx+8uPZ2/ZXO4iMe78dti9ddJ2yHCvuO4U93rExhrvtvxWXieuU49edeiG3F3GdjHIXf4KrzR17StcWaC4ThrSnwPlQf1TX2k7Q4gwl56czVR1rfpRHar8vmHzKCmvB079+oKN4xsiJ8WJjUNq2P7cpEbgfYlwZSE2GYbYxGDEmMEIvKnEZmOqWRo5KPuA2UldpGa1SA7vby+x0UaFxw085Ma1aSGNcxl5HshgtMalBxU3WCtLbMzO81UBlwFcKqgzkb8QGsamJ8aQFsrug9iYYWjGn2nKjXF9EhoHTN9XPZUVwZS/NNyY2NihY2HZ6mmxREBpOoa/IQamDRSHJR4WvvzdkHwVQPH0JZcDm+a1xEZuapvqqTnAtsXnTPVjZLDpBLI+AghdmyFqhNJz/JS+htnp/GslNvpyflWGowxIF0GxvTUyDmm8GdCAk7FKQ1HkxIZRWEtqLNmhweY62zAukuSCDac8Gc7AQ1TKCzOcLCcUu9ctdxObgpxYXNI+LDJQiUIDa8B6G5bGgK0gZPDL+HcbsyJMRElS4wF1awxciytp1BfPl0l0PKCMxcB8DChvCXhIVXnBdIkKE5sM1j1heyhWWj2ybOqNEmw7YNhsxs8moXC1FduuSGp4FiSD5AHL58AQAqZlh8spPRv+ssnfBfqL2Ig4qOfLlol5SR62U7UrN6lhXOVt2mym6kl14A3J4NSPV72Z+rVw1znrVsSykGEF7Udj6kEbmqaJ2Ai2LThlMT1zLjlvTGyCcSo1Gt1+YsTGl7FXNni+ittr7fGi/WmcHg3BCedA995+twfahd9NbOZPNMvrZu2JpyFMQkHDsrjMuvcmGg6xkZ81fK0xK+PY20AWoRFkIEvXcS445EZ+DEddFCc9No6Tn/RpDXURG8niu0w3hOr8OsTGhDGEyjHmvevLKZd3OQXH2JbsgnPvhJceBO+w5YXSkQ51dvIRlCblNLpy6kfldMGUwdGXd0+bd9tzyqOzA0dmQWk7cNLzoHi84vAQGxeYn4fMxHihJMGx8SRXacQmUz02OxKxabuL2ITwPeN57H0e5SI2odrDhUajiM0qGkw/HWLj2qU93xt2HpCGzP2N2JQAdWaIDeXQkK0wyq05NCGG2Hjm2GiomvycYV02zjFLYEoD0/dVT2WFL0LjoDLEJlw9GobcODrwbhcWcpe/Uwbdy109JI5/ReDJg+WQno1sVj7rrzakIZWCQ25Yj6anhs8biY3m/Thx1c7U3uxcIM+QOvnr3gnrnjv0KyM2imt3i9dwoGDeW6PQ+stY1PAzF6nR7uk0Ih1iY+foKKyMSL5AjRFbHHb4Eg1UN6khjNFp864MlL8lNp4em/IQm4pCaZhd5I1B6zJqjeHvkBuW2RjhFiI1HuhLfmmkhukXQ3FCI2gDzZKkoKxQPMlWcWLD+s/wo+79WYcuYsO6NBt/ZmoImMgr5WRbuazd/tle1KNiyIghLCyr0Y3LqC8mn9yt3kRuLAliHbv1TjmMPh09ijAwnotswbQ3yqm262pfcjNtlrIjjffE1ZJQvkzH6FdtwwtuQsO0zJBCyif5DTEzZIX5p4nMKH0XXPXj6NqGE+ReGrEJMcTG9Nj8RIai3VxiIzfHcCxpQDp+Ij7O8KqS/rcOIjYx65e6iY32FdF8llQRGxqx1th1ICPTZVg7xrEIhzGKPcatHcoluIaimfkfgvw0nMs1X8acee8e8uUM4XPcmaYZiubkJ11Jvy7j3Ud5yoRKERsZ1N46cYxsh2RoaJigayes1YuFd5zyQvF9ERvHzwXJSH15SKKVtVibM+3OITjy84p/DRRfevBNagTf8SzcxIb5eMhM7HXgkBy1CaWh+vDWgweW2KwhsYnG8NGDbn6PjYiNdjLXUDR3jw1xO4mNehBkhJveGV9wG5Uew7I4rHFZEVSO2CjfqoP30LSSELERQdHwrAjeazd6zUsReXGGqYmkyE1+ChOu8jLOjYiNqROWrSpwI2Kjyf6hmugvYqOhfgY06rMoPxGhs+5ZHtt742kbklvExz2sy5Ag1S3JsYF3O6oolKclG97ES4sABLHNFCc3Ci9SYkmN2pc7nunJUS+OPWsekAPrbtu2m+z8KokNSY0XzJwGGYckLxpKJDLjwJAVxrM9Mc6wHw+xMV/HvWCMTfoXIzYGNu/KQD02ZiiaiM29HmJTQEPSDEVj3tcjNpaEVAQibNLFCqZpDesrLKuIgDWCNe9Gxn6IMfqdHg3P3AvVnQx9BzLmrdHvjeK9CSIIFo7hXF4oHaVbeWIjwiJ/EQ+WMyOc7VEINXNPCkmGC0mGi3i2hCSUULl1VtnZXiiHNfgtsTEEw11mm6fyt3NYlI5kF7ERUfT0ghhi6UVsbNu17dfMqVK7VXnSWAYSGQ+ob8FFLNULY8C8be+MRQHlv2gWDQh1LQLh6klyZGF420OjcqhubB152phTzjIQG82xufzTWDyg6ohNybAuP2NcauNFGdIyMH2Fq3p4E5tvRGzyNHk+Dqn5obbXxju8jFtj8KuMMpJVDpXRlt9jzIrUOPNReO9NUKTznQlEIrGG95r8buPYOSPxxt+Zg+NO0+hSelJeMrAdPVcAlSY2DkQaBMldAqWSG117p1EeKL5DbHTv5K9rr3SNDE6vmPRb0t0lI/VpiY/L3w25OWGcdLzCF4MTR/l7l9OB1xwb6tBNatj2SwXzs+HKRmyy2I4MsRk16GbPsdHiAZpjQyOLRtdqGmkBvA6SMSUDyhhoFYObpFQQxqAmibFDqYrjWsPSGpceUiP4lutGqDyx8Z1u5UECw/RLgwxpEZQIho3ifRQJQBTJQDjjhVE2QUQm0uUu/wgZ+4bU3JjYlOxpKQ9K1q03tDjAjYnNfhKZA9Q/26U3sclkWYhI1oeGaIn4OD0mgoiMJuA70Gp6IUQQdRXAct1sYqPeFLvKWUlywzbjJje2XTltS3HCWS71Smn+TRChoWqml8r0VGn1NDsfx8nn10lsXL01NK5Ao9PAITZM1xqHDkmRQa94misRSuM13JwtsVFaDrFxiJCuZWzSUGWYksTG5l9xaGEAO8fGLh6wfIr3HBsaqCI35sz8GN4avyyDhku5jMuKQcapeixk4Au6ljFPI5jG78WsMCLcrI5VkBnmhlbKupgZScITxrrzJjZeBEdGs5fhXJzcVB6VIjamTjVnRWRDhruM/HCWJ4rli2Z5IwgRAE2012phIpUMkxFBRDIszwyvyftX2H4tkVb7Y90QTpvz9P7ZPAVTX/QXPHHYNimXh9gorhYbcC04YOpchIz1ZXplWBY3mSExT6dsbPf2bOfPFBhQfqYtXGR+53IicTY3EhdyWKdaAMG0fz5/WoRAPVUusmb0SznUFrSwgMpfHmJjVkUruqgn3/5zXgQVPZyXSUnoVJY5Nm7jrCJwDDld0+hyG30lw8nPZTCaHeFl4PP+mnC3AtG+iQ3JRkp+iIvYeBMIb2JjSY0ZjkYdehM7a3Sy/OasfERqBF6bsrPMO9YS63hNHbhksQa0dELCo2sT30mb+Zv8Igka95WoL6VVrjk25l7yuYx5Q1pccOrSF3ySG1daFYLiO8TGScdJ33Vt5LHk0ELlkRwqr/eCFt4QCXWVy8juxHeRT9ZVJs8GuxIJEU+nx82md205BelPK5s5xEa9MCIv8UTCdUB/hWP4shCb7F1rDbEZNnIgAoL4/vM89j6PcvbY2MUDnIUD7FC0W9BjQwMwLJdEheegzIPGgNa9EJF3DMs25uCriI1YvDGb4Wkw0og0y1JTTvPV25xlVMqQtV/rHfiSp6z46RIbwZb1Wli5AzMOYU7MNny5Oh5Tl4bh+9B1mB2ciDlx27BgTSr8N+UgNHkX4ih7AvUcnn4AgekkP3knGJ/ylwKnvioEJ34p8BCbZXj7o44YQ4ITbYz6/SzXfpZpjzX6s0hu2A4idp7AgqQsTPSPwYxV8fhqdSKmL4vEvJgtiGIdxNA/gmVbtCETU1bE4ouAtfgyaD0WJaSTBKiHiASDugrOt3OOvHu9AkkyHARQR2E7jptzAO9NT5B0rXrOF0lh2dgew3YchX/KTsp2EPMStmPhujRDJsMpg+olkORqNRFAmHlOjLuKZQnbfRw/rE3BD5T788UhmLoyCnPit2BmWDwWbEjG8k3prK9MxOYfQewuypG5l88KSQ+fTQ0VDRTJoX61elowyU0Q0w/K3meITbuBnyF20yYXsSky0Baaevqv9+Io22HfKvZ/e5QkNhnbt6Djh7VxcVeSi9jIAJSRJMIhw6/8sF/OaWCmyagVaBS6hvoYP2N8MRwNs8v66m1WnQrHkfXLkBf5A85sp0Evwy2HhqqGpqX5M84KpkMDWJOqXQanyExxYiMj1UNSKgIzxybXM8dm2aS+KMiJMUPRZDy6iY3C8l5GsDFyVXaXYVkRGOM0m0Zvmh/L7kfDdiUK0ldhT9z3SAuZjU0rpmLzqplICZqNPfELcHTjChze4IcjmwJwNiMGhTnRjE8jWQsJ0FhGXhQupATwnnJKv4YweJEd1kNxWOJTUVSU2FxRz1Q6SZzaG0nlWdZ9Ttg32Lx8GrLC5iAt6GtsXz2T5DISp5NZ97vjcC4lGNvpn776S2xdPhU7o3/AuWTWRU4EtAy0JvHL8De9Hm5iw/bEvC05VhtaYWSxq6JRN6nUfwr9JKt6FCVrmggQ47Ntnt2yEjvDvjJkRT1GBamU2YRlfOq0IGU13dT+WV6SFpGTqyIt1P+FFLYRkmXkheH4hgXY7DcBSQFfIJ6yJ4d8xcdjNo5uWIJDaxfhxOYVKMqJQmF2FMNHsx2QNCov6U2kzhBoPV9CKcSGz4GIzYnkSHzCZxuXXcTGvADsqcKH8zIpCZ2uXsH+AzvdxCabhlmWjDERGxnJxnCvKBzj25sEFIeWLM7dLyM+Bjl715BMLEdEwhJsz7LGpF1OOQYpeeFIzQ83vQq61vLCvtK7WdCqaHFJy/Hi6w8ZYqPFA7SscUq+JvSXLBPvvYmNgdyd8juQWzTLEWHKop6X3P3qnYpCSOwPCIyai6WrvsLq8PkIjV2IyDXzsSF5NTby2dmYEkpypSWn15t0NKfGLiMdy7RoHGu5ZRm6bpkqBmMY04DfnBaFbv1aonv/NobYyM2Uhwa5nbPirQPF0XLViUjJVZuRUZ+A1Dz1viUYpOSKJKht8Zrvue18zkT+bO+VXdLaXacihC5IHpVRhEvXbjldsqoHTGRBhFND97RstiVnkkdLa8fxnIC0fMqSn4CcPUnYyndc5i71iildm6fqW4RbuhRRVHlU37n71jLOWrZHLQpB8rJzPbZlxmHN5lCEx/lh8YqvsDzwO0St8ScZjED27g0MvwEp/P2RzrSwg8pqZY1i2UWM7aIQZuggSXIm880mMdqSGo5t6dHYuX8T0nLikJzJ54MEP3f3euTsEtYhOYuyUrZ0LXxA/aeVUudGfhKuLSlxJDYDis2xKe1DSYWGot3qOTYiMuEkMDKczRd4l5uITRTdJy0NR3MShmkrY3lPspG5H5E7jjFtkS4Nz7Ffru1X7OIGtC95yoqfNrG5Dpi339ZdGDs/CI06D8Qfn6iOp95tinfb9MCH/UajSa/heK99b9Rp1wsjv1qMuMwDWLfrFPV6iPVw3K27W42SxGbsD36IcRGbICIi/zBiaNhH5rNeqPOVqXswI3Q9GvYejd8//RZ++9fnUbNld0yYF4AVG7IQkrYXy3geOW81arTpjTtfrIXG3Udi/IJQ+G3MQ2AaSQEJTuiOEyQoWkac6bLuBKtLSxaDRGZ4vyp9HwJZ32EmrEff8g8j6QijfNqfZl7idrQdORVDvl2KwNRd0JwgEQ8T1vTWsO0qDc0VY/pLk3dgwopI9Jj0Lf7yam3c+cLbqNd1AOr3HoyWwyegYY+BqNWhF7pNmI1Fa5IRvVPtUj1YzJdkKlC9WW5iI3l9Exu4iA0ph3n6S3lnlOOwbxX7vz1KEpv07ZuvITaGoNBokqFUERjykuYiNobcWGJjyA4NQ/N1PJukRXuP0CC+khWJs8nBWDm5N6b1/BD5kd/TiAulscZwIjc05syQJZfB6fTYOF/bDdzExmPIVgTuOTZrPcTmUjaJDQnYjebYqOzOMKjywsTN05d7GdurmJ8/Tm1ejDXzR2BSj8Zo+vKf0ejFP6PP+9UwrmMdjO1QB0Oav4VxXRoj5JsxOJS0AldEZkhsLohA8toM46J+CwXWrYfYOOTGG95+5UVliI1tZyILIo974ubA7/Pu6PjuE3jtz/+Ehs/eiaUTe2Fn3AIc37oKP6aEsNl8j9WT++GNu/4ePeo/h9XTemNv3DxDbrRAgIiGXe5Z83DYJtgebbt09cRkiCj7sa1IFldbzKacJCl2Xgvbmku2AhKeApLzqC8H4cve72Nn5He4TAKlleYc2TWfxg47sz02BalBOLFhKYlNBOs00hCbi2mrcXrLUmQGTcbq6d3R8NW/4LVH/hM9mr6CMR1rYnr3hhjX4T0Mb1UDXw74GNkRc3BBSzuTrBaqfVBfIjYFlFnP6I2ITQGfPzexuWX72HiIzdoSxEZfhm/uUDTB459KgiKSkpIXwXxikUxiOG5qX/Qe3JaG/RIab5bYaO8Xx6j1kIKqJzbxG/0ssZn3OfWR6CY2MqCLl4XlK0ZsHHfdO+UX5EZDXUa0Mdi1L00MtrEdf794HPoMaYNnXvkrnnn5QXzYuiY69miAzr0aoXn7d9G+W2N8NWcCNqeHG0Pd6kN6E8nRnjgkSO48nfzLD6UrYuImNv1aI2GTiI3SZ9qlDUWjAZ+aJ4M7Hnn7k5C7dwOvE2noryNh3cA2tZZkItHU6Y6DG7Dn6CazL5DIRBrrVOTGITnOcD2TtggOz6p3N9GhvyG8rnAiNpmuZaglV2p+mGlb6sWy6ccgb18S1m8LxcxvRmP8tAFYuyWQ4RTX5mn1qF4vxREpUY9NPEmEemLW4sCJDJKKBHz5w+do0/l9vP7u83jyhftx91//C/c8eAfr7AG8W/8VfNLrY6wI/gE7D241OlCZbT5KMwrJucHMQ8t4q+5YlyQ7GoK2YVsQFiybjgGfdUJftv/+n7XDiHFdMWZiT56746sfxmPd5iBDcsz8GZY5nSiV2LA+tHiAiM1QEpugUP5Weh57n0cF59gc8eqxuQXEhnB6aERozJAlQps2BmzbidYDJuCOJ15Hp5EzEEbjMiB5FyK04peR62/EpiRU7kgSlBXrs9Bz9Cz88dFXULd1N8xeFYXlG1IxP24T+k79Fo9Ur4NHqtXGhO/8EKchXFksZ7qGO3n0dytxI2ITkr0fq0kUgklstdyzCIXijV0chkff+wi/+bc/4633O2FJ9BYkUP9xxIY9P2Jh/Ha0HjIJb7fuhal+MQgjoUnY9SOiWH/BLHMwiYD3anCOPGqHDsJJRAIzRSaO8JrExOUugqNFGIIpZ3DWPkTtOIyBXy/EH55/E2+0+hTzYjcjJGMfSaM25GRY1kto/gm2JbUr3pOgR+89bYbXzV4Zhz+xnd/x+CsYyjS+i16L+QkbMfSbhSSlXfHXarXQbvgkBKhXyPTYHEAEid6vktiYHhsajIbUOD02lthobkJh8kqGpRFIA6wwMxJ74pegV6NX8e7Dv0f418NwKTOMxqCIjf3SXSRjM4f3NOzsUDYREZEYS2Z+CcTmYtpKXEyl0Z2tHimWMzcch9cvw5LPe+GdR36P2k/dhcAvhmNXHA3kkDlYOq43Otd5GY1fehDLJ/XG6W2rUJAVjh+TabBrg8tcbR4ZZsmNhjeZ+i1OSuwEfNubU1GIgFaU2KjXo4i6vSpiQaPqcl40dicswsy+H+Pp//r/8No9/4r1y77AxZw1KMxfiys71rKcYdiybBbqkhgEzRqIw0l+uEojBzQ6hCKRu63+KEwlYTLlE3HzJjciLgSNAvX4KZzZtJP6Vl1cVh1IPvpdJEk5mMi2We85vPfAbxE4fQCK8jQ0ke05U/KrHau+2PaYj9K6RP2HT+9FPj4Dl1IDcTGFzxLJk4Y5nty0iI/ELNR89m489oe/x/cjP6HIC0nm5yBhzliSnPr46NW/4osBrZEfPR9XciLZpkXSXO1TbcW0mesQG4bTc+XeoPOWrYp2q4iNtyFsIaNUSMuPxM7DSWZn+8Yfv4nHn7sb386f7PrizzhEjr68k+DIwJVM6sXxTutmoyqJjXoFknPt0sMqx45D67BhewBmfDMCjzx9F6rVeA7zl3+BTXwXx/JdMnHWADT86A288d6z+HzGQGzPVs9EvDXgSfJkjEteT74VR2WIzcbUEKyjgS7SoDix6/15HYTU3ARDLNRzs25bgOkJi163GDHrl2BjWqCVne8RkVxDLAzZcGDlUg+VziI9Ti+e/G34COTsYzjKZocJ2jYiUqPhYLa3Zg2J4ed47Nl7SUL+Cr+gb5GSa3t8RDC1LLfyUE+Ps+mphpxl7lpHIrEOwdGLSbg74K1aL+Cdui+jWZv6aP9pM9bJi7yvjo7dWqLxRzXxfLVHUKdxdUyZPcyUPWv3WtPro96hVBJ4Ww5LwgwhY/ly9yRiPcN+/cMEPP/Kg3j4yT/i47a10LV3M55r4p3az+PFag+jTadGiIgj4ef7Nptym/Jfj9jkVxGxCdqUVpzY0Fi7JYsHyECkUS2CoLPuZUCK5MiYnElj750Pu+Dv/vgInq3dHN8Er0EQiU0ojdtwDQHyIjUGfyM2CMg4QGJzDBt2n8b0BYH4y7NvoEX3wQjbloMI1vGGvSewad9JtOs/Cv/fv9+Nui27ISp1DzYeumiGAnrr71bihj02O9guXcQmIv+oKWfcvjOI23UaswMTcd9L75HEvYqp8wOwcQcJxJY8RKXtxaRFIWjWdzTGLwxGSOo+RGaxftIPsg3ZeTCGUEsGV1t0IF04iBCxYX6C/Fan7TPu6mmULCI1IVl74b8lC80Hjca/Pvws/kRyM3quP/PagzASG5EbzQsSiQpgXquka5Kk1el7WYaTWLEmHXc/9SbueuZ1LIpNwvr9x7F27xEk5B/AhHl++AMJzyM1GuK7iA2IISEKJGFSm//1ERtCPTMuMiO4l9PV8CAagGYIj3Z0zwjD2eRQRH03hgbdQ3j4t7/BmE4NcJDGagF/dAtkGNPoLUimsZlFY45GnB3KxmtDYlzExgVLdjxEpbyoLLExZa8AFNcOq2O5coNQlErD2xj7Cdi6+lt89NqjaPjCg9i88nsa1uuB3VtxLj0R88b0Q7W/3oE+779G2/xLGvixJBSacK/d8jUPJxSXczRnxZm3UZzUmNXUePZFWMqKyhAb2yNHeUkIzqesxAXKU5gXg20BX6F/s7fx1O//D6b1bYdL+RtxZDPLk7sGR5IC8XX/1pg/ojMukBRfprFxnuT57PbVNOhFLkRiSAZYfs8yz94Eh23bEMcQEpdVOLN5Gc5v8SehYV2ofVJeQ7gYp5BtMPb70Wjy7F146ne/wfB2dXE8ORznmM/ljJUkGnaVtquqO6avjT5FruYO/AhJ80ahkATjktIVaaLxABogZyhr+/qv4cn/+ReEfTse2LcFV2ksXSZxS1w8Ax9Uewj1n78HsXPH4QINPC3jbdq8epQok+nxLCOxubX72NxKYiPIzUJDhkwPTJ6+ksfhq7ljUP3dJ/Dv//1/0Kl7c6zdutr4b+ezbXb1p0ErQzZnnyby/3yJTfYezdWwpE76zd6jIU/rEE6jtfo7z6BGrWqISlxNMrAeefs3kMjEYDTfafc/9ic0+uhNhMUvMGloaJMMZUMI8pmXWbDAybtiMGSiAsQmlcb29G+GokWHOnjkmT/hwSf/Gx+0epdkYhwN/GBs43smdoM/Zn43HO81eBbPvHoX2n5aB98vHosNyauYLw1xkQyXwS5oKJkIrSG16rkzhMYDEV3jv09tgzJRtgzWjXrBDPFR+yWhyN+fZHoA23Rpin+/4+/xP3/5LeYsmYo0EmfVs/SYaoaH2bpQWTXPK0vDv/Zswvpt4Wjerh6eevE+tGjfAIv8v8LW9HjEbwhEqw5N0HvgJ9iwLQ4JG8JJyKeh3vtv4rlXH8D0r0cgKSUUuw5tYrqJrCcRGdtuDWFT3bFtm3ltOzcgIHQ+Hn/mXrzy+qNY5DcLSdvCiFCsCp6L+k3ewn0P/R4zvhqJbRmsb9U59V8asRHRzMhLMBt0Dh0xAME3m9h4Lx5gNgjktR3qVTkjvaQBWww0yEQOHAPSMTCjdp40535T56Jpu354psb7+O29z6L7uC8RTSIRRqPOrvRFI5Swc20Eykr5fclRXvxciU0g5QnK2I94yjp5zgr84aHn8UGn3iQ22QhP24Gla7Yi+fAZDJ78FX7zr3/ESzU/QEBSFpIOXzSGu896ugW4EbGJ2kmyyzAReTTi2T5XpOwx0OIBoal70X3MDPzv3/8FbzVth7BN2SQ3x7CAJOCTUTPwyZiZCNq+E/EkEKFqZ9RRFEmF5r8EscxaQS6S5CUiT5C79XMQmL7fIJrtMnH/OcTsOmXcTT2TsETkH0Jk7gFMXh6Cj/oOxzutuuCOJ19Gsz7DsGpTJqL4HImMB6aTjKi3iVglkqSPCGzL8bvZ3jfl4Z6n38SfSGAWRK4lAdtJEp+FNTsO4LugGNz5VDX88anXMGlpiFnNLihL8X+txMZlJNKQFDzDgQgaXmYYmozvzAgcWOuH2QPbYlCL2qj11L1o8vJfsWbpZBTxB+FCOo1ZGbuplMcYyDTcBKXhJjIlYUlKRXDbiA3jX9Yu9yJuLmJzfps/zvLHLHHJTLxf7TF89MYzSFg8G4c2hOA0f2Swexsi587A24/fiw41n8K2FZNpOMehKCfC9tSwPjUE7Wquhk5ZUmOHZnkgsqmzyIldDrl8MIsSEBUmNiQEIr7qiShIX0mCsgpXaSCcz4nBBv/ZqH7ff6D6X/4T65d/jYK8JJxNj0XC3PEY1qIGdkbPw8XMMJIMDdFi2bK0GScNfxI5ZIebvC9najEKErtiCKNbKAn1Sks49iUAO2MMEQLrXu3gAv1UplPbAjG998cY8HFNNH7pIdR86m4kBXyP81lRZmiY6qsgbTUJEonZdoLhLySHYHaPJlhH41rE5MetqwzpOpvMcJTv4MYVaFn7Vdz37/8Xq2eNZF1G4vD6lazPTchPXIVO9auh2v3/ieCvRuBMsnRDIsM2ovZuyA3r60bExlk84NbuY3OriY03IrGNz4+Mz/hNfug3tC1ad2qIx5/7Cx55+h4sXjnTGLgiNworY1XEJne/5i44RnXVoCqJjXoRDMGhUa5hadvYrjfznbki5HszDO3dum8iMkFza0LpF0XDfDNmfTcOf3n4j3i7zgtYGfYt48t4l+HuGkJFYmPmh7jzrhgqSmw0xCwlJw4zvx2FZ175C/7h336DRs3exJrNwdh7NA3p+Wtp4G9DEJ//D1rVwAet38R8v0nYlBaEXYc3GF04dSqiZnu0VK4IXoeaoWUO5GbCEqZnRpPxd4vUuIZ4sX7UG2YJH8vDupswfTBJ4bt4rcZzeOL5+zD7h3GshwSSZrtXkHp6RJREGDV0TXGydychKTkCw8b2xHPVHkT7ru8jImE5dhzYQmxmfX2D9+q/hE96tabNH4yU7HXYfywLS1d/g7dqP8s49+Gb+ePMMLz8AxtMD5GGETrLSZs6YznTc2Owc/92+K3+AX+6+9/wXt1XsHF7hCE7GXlrkb1jM3r07YA/3PUvGDG2lyE26dIB9X89YpOeF1+1xEbj9rWMsiE2LrJQpcSGcObU6FpfxvUFPXLHCcxbl4HOI2Zg1NR5GDDua/zuvufxTvOuCNySh8hsGadaLcvKKIh8aKlq7xWuKkNyfq7EJopGsnoR4mhMT5+/Cvc8+SqafdIXoVszEZe3Fxv2HsXqpBS882Fb/P3v70GL7kPoR52yzlel7WX5ivd63SrciNgEsn1qCFYIDXoRNw0Ji9nzIwnKCUSpF2VDGp6r2cSQm16jpyMudRdGfbUYn46ajrlRSbbnhPEDM/YyL0uOgklyViXvRs8ZC9CozxgDzdlx0KDXKIP3B0xA58+/xaQVsfDbsoNtT0tok9iQVAWl7yXJOYCVW7PQafQUdB41GePmLMOjNeri4TdrYxrJTmTmXkTqIwHl1uIXmqej+Toayhau4Wjq9UnKwQPPv0NyUx1LY5OQuOsA4nfuQ0RaLvpP+RJ/fOwlvNa0jSlLhNIitLHqz5XYlDS+yw7FtTBfx0ugiMarJkRrYvV5Gn5bV3yBid2bIejr8Rjfsy3e0Nekga1wPDkUF/ljfCGNxhyNTrMalIw7Gm4/SWIjsPwVgeJfSFuJM9uX4nK6vyE3yIvAZf6gbFz9PZpUexx1nnsICUu+wpVdW3F55xbsWRuIyX074eX7/4iRHethV+x3uJoXaetRhr16LLJp3Gu1LTepYTkdGOPYXhdfSKD8qPBQtNRVKKLBr3ZzJZvGf+pynMlYiQu5UTieGoGvh36Cp/7r79Di9adIdDcjI2QORrerhZBZA0kEEnCFxoRWqAOND9CwLUhegTOblmLbkrGYO7g5pnSug0ld6mLiJ/Xw+Sf1XajH+7qY1ashYr4ZgKNrF+Bi8iqc2+KHAk30p7608tp5trvN/jMwvH0DhP4wGRP7dMCjd/wjpn/WDSfTWTYaSZeVv4b95UQB+SRI+WsoTxxm926GtfMmoIA6wY41JJxrzAIPV2i0HaBx98HbL+KB//wnhP8wicRqmxlidyYjDstmDkftF/6K5u8+j7V+X+B8BtsA69O0d+rIrtx2A2JDffzaiI2G4siQzjuwFitCv8KA4R0xf/ks9BrYCXfc9a8YMqYziU8IcvfZFblEbERyZATLaPWd581B1RGbGBq46oXSMLIIGrxrkLNvDQ3ReITFLcFL1R/HWzWrY82mKBw4kUZSsN3MDenWtzXuffCPaNulKeI2rDC9XFp62upF800oG9PVfBtP/uVHZYjN1owYMw9l/NSB+Oujv0f1d59CVKI/9h1Nx+bUKGznM7bQfyYGjuhAUjOFZV/PdGNNj80WPh8iKyqLem7UO5N3IJGw84ly9qlnJs6QWp3lr7apoXhWD6oXyWWHo9mFGRKINVge+BWat62HT3u3Rfe+HfH0Sw/g8xlDqLM12Mp3hh2GZomNSKcISNaudSQda7DI/0tDahp+9CYCI+eTnG0lIbG9OtHrFqBVpzroNag96yQAm/jsKk7+/i1YxN/HR5/9E1p3qYeEjSuRt0/ERuVSXdv46mHTwgGpfMdk7diISdNH4N/+6+/xcZsG2J7OMu5Iwq4D25GdvxmdPm2JO/70zxg+phcy8tXj5yK01yE2WoBAG3TedGITvDmdhpGMWg+x0Q7n+iIcUpXERgSA0Hwa3Wv4mYb6rEzZg8/mrkanYdOwImwTloUm4dW6LXH/y7Ux6jt/hKTuZlytlnXQTWq0H4h2a9emnQa/UmIjIrqaRnwUDfgZC0hsnnoV733YBpMW+uGrkEhMWOyH2h0+xT/88V488dp7WBSaiJQjFxC985gxsn+qxEb+kZqkr+GSrp6P8B0kwjTkg1N2I2x7LsZ/vwR3PVUNT9dogH7jv0DnoZ9j1LdLEJ21DzH5DE8CYjb7ZDsJyGQaTEsk6avwJEz0i3bj8+VRBhOWUV/EiHlBmOQXg8Xrs0gqtKjFcbNEdpjm6EiW9N34MiQO7/cagnFzl2HF2q1o2rUffvfwM2g/dDxWJKUjSmVhfmbTVM0fUy+ldC1CnrYLq9em4/7n3sbv/vIUxn232NTV9JVBaDlwGB6q/h7ufe51DPtiHtbuPo7EfadMOQKZ5q+T2NDgMkvqXguzj01OsOlJOLF5JZZ+3gtfDu6EvDWBCJs/C7WevRfNazyOpJVf4EJODC7QSNMkbPM1XoadjDwDX6RG4Iu3gridxOYqfxCLckUU/KEFBK7QUD9HwzbR70s0IrF55+n7sWjyUGxe9T2CvhyDER0a4Z2n/oLGbz6P8O9H4yyNcvVEaHlh9URoXoegHgUPqaHha+ZoFIcvmcqKyhAbk7/2gNHKaJn+uJTph3M8X6D8l/dswO51gehStzoe+7f/j+1kIBaO6YbZfT/CwbWLSSKicJX1pSFhWl1Ni0xoqJeGfB1OmIvNi8dj/YLxWLvwcyQunISERZOJKQaJiyYhcf4o7Iz8msQvjGnFsP5DmU6wGbqm8hxn25wzsjO+Ht4Vu2kchi/8Gu8++yDef/sFbA76nqQ7AoUkYCe3BWBn7ALkRi4guVyG3XH+mNq9OQJnDEVG6DzkRi9CVsQ8Yi51FI1D28LRqt5buOff/g5T+7XD1oBvsHnFTMwf3wONXn8ULz98B2aO7oX89atwkYaRloHWMMzLqStwlXVpnoEbEBvt73M6LcYORfNeFa2yh/MyKQmdbiOxkVEqwzwpJQDjpvbCmMl9aQDH0pj8Fo8/ex/erf8sVkV8YQxZGbcyZvXFXoav83W/qnDziY3Lb4cM9rXIP7jWENTUYqwAAM/ISURBVBszFErLSOfGIihqIZ595RGSm+eZ5wwsWTUbU74cQuO5Hh5/7l7UqPUa5i6ZReM53hKbHZSF+rO6kZuMXSfviqEyxEbzWPYcScO6LWH4qHVt/Onef0GnHh+ZoVx7jqSaOSdjJvfG5NmDEZfkR5kTkbPX6jV3fyJ2HFpriEsy3+Wb+Y7ZlhVsiO1GPj86b+HvxCa6Gz/eK3+FNyvLeREb9drsPJxIHZO48D3Rb2h7NGtTFwuWf4shI/vhzw/cgVET+1GPdkU5EWz18Jh2la+yxJOIbGI5Qilvfzz+/J8x67vR2HFACx6sw/bsUCTnhSA4bjYaNn8ZHbo1wbbMGNMjlZQcRl2tpYyRaNmxDp544X+wwH8662kty6WhdmuZvp4xLRdN8sKyZzK/LSkx6NKtJe669/cYOa4/0rLXIiN3PbaR4Hw3bzpe4+/Fcy89jG/nTmZ4kj3Wc3mITUgYf188j73PoxRi47mKW7+JxKaxm9iYidAkNk6vh4xk7xWgKgJrKPuGSI2GP5md70kStO/H6tQ9mJuYihYkNR2GTUWYlnnekIl2/cfgvx5+CY26DIB/UgYNSw2b0n4fmhfkTWwszLA0H/KUFY7BrXS8YQhPNgmAITYyKA9iKYlNfRKbNgPHIypXczZuI7Exej2I+PxDmL5wJX7/4FN4pNrbaNZnMDqM+hxvtGiPu196Hb+7/3E0ad8NqxI2IyZzD1Yk70DkLrvc8+1AGEl1GNug9rGxxGa5i9hoAQsiaz8JwB6SE62OdpL3dmW08OyjSNh5EtEsw4Ydh9C8+2CStvvxx0deQIeBYxG4KRNrdh1j2vvY1vawTdsFJ1ZpOKNrhTX12qzabrFy2y6DFVt3uuG4B2ccZH4kzan7EJR2wJCcaD4vGhr5+eIgNO8/EgtjNiA6bQc+m/kD/vTEy3i3ZRfMDV9r9uSJYDm0x456a1am70cA6ymEhCuEskdu34FHXqmJ//tf96BV36FoPmAo6nfthYfeqok7Hn8e1Ro0w8xlwQhNziOR2oUwljWUcTVcVMRGe/MEZbG9UpfBJDarSxAbS2puNrHxfqPwTOPDgjldQ2xCjZEq46iyxEZGqy9S4950kj8o2ntlR9RcTPq0CfynDsaF/E3YlRSOdrVfxgt//hcsntSPhmAszqWF4aqW0JXRmarJ3zTeBBpzHpJj4YuslAclic3SEsTG7KMiMOzNJDbao+TH5KUkNjRcs/0piwz9QJxl2df6f4X6Lz+MJ+/8LQa3a4hpfVtgcKuaaPzyfXj67t+ie6tG2B76g93vheRU5AY02kQgNAG+kDpTHt515E1qdF9SnvJAZddkehntxYmN6kwLSFyH2GholXpI0lagIJ3lzg9EYV4Ay72KpC4cF7ITEDN3Kmo+fjfu+fvfoGPt57EzfjEK2R60c39hBo39bNvW7ET+VSRy6hEMwLmUQJzeFkjiEYIT28JwfHs4EWGg+zPJWhwgwIS9pNXPCLv3TCgupodhT8JijOpQD2FzJuBoeiKSo/3Rr01jPP3n35Fgsr2ybZ5JC8dGvymY3vt9dGvwHD6p/Sx61H8Fb9AQa1n9IXxS51l0qvkEutV7FlN7NjWyn8leg49rv4Y7//k36PXhW5g9qCXGda6FZm/8FU+zzTV44zEELJiOQ6lRuJQbY4iqVgQsSlnuWvpc9cb27v6A4BAb3av9iNiE4FRa9DXEho995Q7nZeIjHe1jY4nNF1i3KcBFbKJpPInY0MAnzHCfCsEa9hkGGjakew80FEeGXWjsHHzS533M/GYE899I+ykIH7Sojfse/R0mzeqHFLabNBLiLH1NF7GhMZdt5lDYNEuHL5nKBuUVT+P7pRLERr0DZg8Rd1gRAd2TpOlslgp2/OTuXX760T85Jwx5+xNYJpIDlkurb6XmxiEkejGee+VhPPDon9FrQCf0GdwWLdrXwYvVH8Td9/8O739cD4Hhi5GWu4ZxNWzKzklJyQ0z8moZYE/eFYSIDQ3uLSI2fC+I2CRquWcRF1MGGe4qq1MmxlGZSdhy9qw3hn3O7o1YtvpbvMxnQvNSZn07DtszE/D13IlM82OsDPnO9mCwXrUCmV0gQqvkRZDwLMZ8vwmY9nV/krq+mPpVP0yc1QvTvxlAQtQHn8/sadx+WDIGYXE/mJ4eS+6ogz2WRGruUu6+BPqFYunqmUaHoz7vi+yd2/DZyL7477v+BWMnD8AWs8JcPNugFi+wbVIyaPGAnQc3I3rNClP+F6s/jGCSTpVvawZ//w6uY/0lYmXYF/iw9dvo0a8tEpICkZG/jmVPQv6+zabnau6S6fjvu/8Bk78YgrS8OCRnR7KONH9HPU5rWGfxpt6ySXKiE1bivTqv4c/3/QFjJw5BRKwfVgbPxeQZw1CvUQ1Uf+slTPtiHAnPeqTmuOqa5bwesVE4d49NxYgND9eFTpbYNLHERvuEuCY3mw0FacBZo1PGfHEjtOyQgU+ot8MFZ+iY7Q3SPBlN4D5sDD7tHB+WedAs7fxmqx6o120Quk39Ej0mz0ajrv3xHw8/i4er18L3wXy4tucjJG03gjP3IYBG78rMvQig0RpGIzY0/4j5In8zZLfXluypJ0j3oTQiw3JP0ig+aub6LF2TgobteqGtiE3+CRIb6dCbbJQPxeUoH7RamIhiNI3bmctW478feRpt+n1GAz8DCTuO0Mg/ju/DElG7dWf85p9/h+frNMbCuCTKrJ4MOyTwdkArnYl8FCc2WgFNxIbGu4iPMeBFgNl2DKxBH0GDPlZhtmTBP3YT/vl/HsJdj72MFXGbEZW2CzFqb2wjmpdi9mYimdGcroB0EoCU3eg5cwEaaOhZKajRcQBaj5qF6cFrDQGP3nXKDJfUxp9hmYewKIH13/Uz1GjVHb0mfoPBM+ahdd9R+Ovzb1H/L2DUlwsQmbYToSQkiQd+xGqS8pWUI5DEKlAbcWbtpv8O3PNcddz15EvwS9iI6KxdWLf3KFZtTkXbwaPwXw89hXuer47P5/mR1O+hTkTMXM8O9Rfs2nA0WM8v9RiUnI2Og4chZuNGXCSxueLaoFPE5gr/rvfiKPPBRJSOTUtkSWnb9IsuXyax2URiU6sYsZHhVBliIwPLAxle1qCV8SWjtpBGcGEmjVYa7cEz+P6o8xymdP0A/pP6YxnRpe6reOx3/wcDPq6FgxtpMKdqyVwayDtjadjRcEvXl34t2+ta3cos4SvCY/eU8WV8lxVmSd2SxCYnBhermNhoA8ZLWTTsc2mgpy5m+WjA0mg5nxKG+IWz0PClh1D3pQcQt3QqzuVG4kwOf3Bi5mFsnzZ47K7fodEr9yM1+CvKHmUm4IuIXc0macgNYV1avTgonred+1RxMD3pjATqfHY0pvYTsbkHF/nDrI1DRUZt3VjSUZzYOLKwTZCkFJDkFJiNOC3RU7jz6aE4kxmHjg2q499/8xt8MbwbLu5Yj3PaH4k/utgZyna7kvHVW0U95gTj7PYV2Lx0HOYM+RhTPqlL1MfkTxoSjYqjU23Ezu6P0xsXmTJovozq+SKNlLMpkVg+sS861Xoa0/o1g9/MAZg/sTe6NK6OB/79f6Fro7dweFOEWantIuvjIo3ki1qum0ZAUV48ZjPO+kWfs07DCOqAxs7l3AhcJkk+vi0CrepUw/3/+b+wevYQFNAgLWTco8kr8cPEHnj7ubvw8iP/jR/G98RF6lRLRV9J92PdkdhkLCOBV/vXc6p61ccCtT+GIdQe1XNVSIJ2IjkCn/DZvqk9Nu7D81ZxjqtXi3Dg4E4sWGyJTc5OGnqso4z8cGRplSjqQF+HKwY7h0DkKHdvHM/RNGbDjDGfns/r7AgafDH44vvhaNL8NfQf2hafT+uP6V8Ox4ct38Of+Cw3/ugtxK3zR2Z+ggmfuzeexvMK7D6szSplYDtGdklURm4Rmzgaq/54iUT3WxIbLZ2bTbc01nmWiI0x5tWzJTCO8jS6kruTju5LgHJpiV/BzJPIo0GdT8KUE4+giIV4+fVH8XbtFxGVsIJl3sA6SEJ4zHJ079MW99z/X2Z1rKUrv0Z6nvQRxfiC5pKIcFS+3KqjTBex6U5i04OG/Rpt0Ek3K78XsTFlUjyri22ZIjU02HeuRXJmPD6fOgT3P/onvPH28/h+3gx8NqIXvp8/FVvTY6jLtQyrngcZ+yQT6iXMj0HchiX4au5wDBvXCYNGtsXgUe0wZHR7DOFZ9wOGtWI7aYnPp/dCUOS3JAsRJBwiCpHMP9DUW/auROSShGxMDkXX3h+h/aeNqU9/ZOQlof+QLnjgsT/g017NSbZUD9qbJs60q+ScQBKWaNaH2mwsNmwNxevvPIMPPq6N4IhF2JQSjs2pEdRNJDZuj8IS/+/xQfOG6NbzE0TEBBgSsTklln7RWLcxCiuDluCJZ+9DR/5ObiMh2nkwEZtS/Smvnod4ElQ+XyQokiOIhPWZFx7GHX/6N7xd81XUaVgdz/K347/v/CeSmuexeNk8pGRsRGrWBuTtSTLyqXeuNGJj2mU+86vcUDQergud4tZvRnUSmxASmwgXsTFLLstAchObysESGw+cng/bGyTiQNDIC6cxHpJxAAHbd6HnlDl4u01vfDR4HD4cPhYdx09DuxGf49G36+M/H3oWnwyfhMiUXYinYai5IeEaRrWbhibPZonqbBrEea60fchUFjiETMariIyzqIL8dB+ee4rE5pgxyJeuSUajdj3dxEZEyBdhKStKylIeaHicyh2ZtQdTF/njDhKblr0HYVVSGiIz9iMq8wAS8g5hygJ//PYvD+Ef774fg2fPQWD6XkTQWPeV5q2AJTb7SWz8fBMbQ2osihEb1kEECWYC20I0iW7g2hT86eEX8egrNRG0LhUx6XuoiwOmjYn0BTK+Wa45y/YWrk7di29jt2Ja0JpSMTNsA2aFJ2HhhiwTx4Hmg6nNjp0XiBqte6JZ//H4ZOxstBk8Ee3YFt5o1Bq/u+8pNO3UB35rtiE8YzdWpexkeQ4hcs+PWJ66xwxFC8rYhVUbU/Enkpo/PfECFketRXhaPmLz9iMycxeWJW5GzRYd8P/ufhDNeg7CCj6vkbuPIFILKlAHIjYiNQ6xCSGxCfZBbDQcjZaIIR7Xe3GU6fB6qdiT0rQbgCr9wiuXkZbsTWzCoJ3UHWJzrRFbXigND7GRoWpWmhKByonG/vglmN27OUa1eg/fD26H7wa1xZc0jMd2fh9vPvhH1HzsTkR8Ox6X89biSk6s2R9EvQ+G2BhCo6/XgiU3Muqs4V5x2W8fsaF+cliufBqn6UtxOYUGbIZ2rI9Gkv93aPrqo6jPH6f1K2ehgAbDJf7oXj6QhKSQBWjy9st49Pf/C8sn98KZ1BCzeID0rDknMnLN8sVGNx7iJ3ktWI4SspQPTC9rtRexaeEiNjT43cRGxLMksfEQKpFpzWm5lBVi0pF+1WYUvjArFFf3bMDAdg1x1z//Bt+M64fzOzbg5LbVuMR4RTQgLjJtnS/nBuNKbiiKskNwIHEeUldNRcpKYsV0YgYxk5hlkMrrrFWzcDh+HgrTKFs2iSXJZAHTvJQRhWMbgzC0RU0Mbf0eZg1shil9m2L6wOYY/WkTvPnwH1Hn6b8g+odpOJMRa4jNWcp9IS8IF0VGMyMwu+8HWLdgDHUQSKK5gjIFsW1pdbZIHNscila1X8FDv//fCPp6KC5kh+FUsh9+zAxBNtvdyJ7NcO9//P/Q9+N3sTdxGeNo09EVJPXLWads69RPcWJj9aqzQ2wK6H8iORyffkRiczP3sXEfXi8X16F3y4GDOwyxWb9pNYkNDUMax5lexCZTBm8FoKFsuw9puVwaWvkyYGUARxuCkLd3DXYe2ID4DcvRZ3ALtCFhHTq6M4aM7ISR47uj98DWuPeB39EwvBfzl8xE7u4kGvLR2HVwvf3CTvlkEBsYGX3Bt1xlgWQUsXnZJ7FRGBEA7RUSa6+NHI578bQsJI+VN3t3JI3baORrvohWN9PQorxEGrcL8EK1B1GrwctYuzHYEJucnZuxa38qjeR5eOu95/E/9/wrho3uYTZyzCAZFxnQ0r9Zu7S6XDD168hRMajORGK2lkJsMjXUi8TGlMWtY6uL3L0J1FE8ZaMf3yVh0UvRtFlN/PGu3+Ld2tUweFhPxK0NxM7928x+LNpFP0NzpqiPDJLd3D1rGD+BBCIQ67asJIkIotEfhuSscLrpOpwEMIrEKJTkIoR5ahhXLN15Tb3uOCBSJRnWIpe/jbO/G4M33n0SA4d2QkziCkTF+6Nrr5amXbVsV4/EhfoiqVQ6IkfJ2ST2e1VHKl8s4tetZvv7C353xz/g3TovoUatp/FajUcNqr35JJ589iH82+/+H+6+50688PITeO6lB81yzS9WewSvvv4MHnvqfvzbf/4dmrWuw7a0jPKph0a9ddKXHeqZR8KfnBWJL78bj6efvx+t2r1PkrQCW1JjsDpkLtp/0tSQo85dW7NNRGLnvmSSWrVDOxTwF0hsBBqSgovQuEG3ABrbMlq1GpW+fs8OXodWn03ByDkBCKChGpBF0MgL2J6NATO+x53PkCHW/hCL47YagzUwbS9W0ijXwgEaPrcyQxspHkCUGVb16yQ2EfnHsHb3MXy5IgR3Pf0yPu45ECvXpyKUhnTA1nxsO3weKxK34M/PvILf/Mcf0G38TDOxXcsX+0rzVqCyxCaKxCWeWBK5Ef961+O49+nXsTIhGXFZBxGmNqb6ZD7qiVTvRgghXQXSTz04zt40PsFwZhltEr+4vWeMnuQuuReuy0CXcV+iz/R5CE3fj7gdx/ks7Ucs2+HX/hF47r2meOz1Opi8cBWJ5R6s3pZvnzPKEZbL9kMCHrfnOEKTc3HvC2/g7mdexeLo9Ygi2QlNzUdo2g6EbstGow498L9+/2fU59l/Yzrzpl4ytTrg34hNSWJzdnsQ1s4di+8GtEJ2yA8kOmtonCbiSt4aHNwYikm92qHGg/+N8Z98gBNbRYRicIk/TuCPlxmKY4xlT4/NzSA1gk9icwuGokk/59P9aACzPDkrmK4MWA0ri8W6pV+hEX/oGr/6MNb6TafBuhqHtqxAwZ61yEhchY/eq4a7//E3+G54e5zmj/ZlGtpaseyq5mVo/x+mXTqxsSgpT9nB9CpJbATJqx6bQsqs3hozbFG61VwhGhf9+YN+J8v41eheKNyziSQoAtrNX/OdLmkIWk4QQeJAOeSu4XjaB0nDyrSkeGFGOBGBwvRIFyJwYRvLzjBm4YEc7SPkx/YVjnPJIdi8dDpGtKqF3OgFuELD+QJ/3C/RUDqWGskytsdbpm1+jANJbAs7Y3COsp+nDAV5kcDuNfiWBvaa+aNNmS6yHBe1YEYay5YRiVPbI9Ci5st4+Pd/h4DZQ0mGonGWclzIjcXxrAR8MbIH/vB3v0HXxm9gTwLJTF4s9Ud9pZH0srzuOTamPn0QG16L2JxMiUDXZrX58N/ExQPch9fLxXVUJbHR13z1Jmxl2dU7kb8/ETm742mYRdFAjTA9MN8vHIvu/T6EX+Bss4pT1g4ap0Rm/hq07dTUTJj+tEcLpPFdk57LuLk0oPckMH0Zh9eDb5nKiqolNuoRijS9WKm5EUjmM6fyhscswatvPEIj+jms2xSEjNx1SMlMxL7DGYhfH4i6javjP+743+jZvzXJg0hIgtFlzp5Yk15qXshtJDaWsGpPFvVA5OzagLzdW/DFN+PxFz53Tz77V8xbPJvtawvbVxLDJzCsSJ16rMJMW8naGU8yE4ygyO+weMUULFw+CQuIhX48L5torhf5091vMlaGzMb6rSsNsZMO1L7UtrQzf3puAknMctPrp/pr27kxPunRHF26f4waNV/Cb//zf6HRB29hM5+1/H0bmC/bPMlyCt9F0mP2Lk3mVxor8PJrT+L5lx/D4OHdMPrznhg/pQ8+n94PI8f1xKc9W7K+nsF7dd5En4GdMWJcL4ya0BsjxvYw82S69+6AP939W3Tq+oEhaiI2Ow+RRO2NopwiYyzz7gjTc9P/s/a45/5/Jwn7BCl8n4j4iaD5BX6JN997muV4DD8smMJ4MabXM28/9c529AslNtcBDcTAjINYmUyjb/se9J6+AB/0m4CFCenQxoWBWTTGU3cgJu8A5kaux4v1P8adz76Jkd8uo9G3FxGU18icR8NOZxIQkRJLan6uxMZb/vJBRDGABnZY2i6M/X4R/vTUS2jUqSeWJmwzvTWxJIABm7PRbfQU/ONd99P/ZUxYsJJ6ZLkqmXdJHZYHlSU2oWn7sI5kdkHYBvznAy/gry+8i2WxW5GYfxzhbNcaYuk2/rUABKE2LnLjkJTSoL2VBIUTwdE+NrbdHsCkFTGo1WUQpqyMQSQJpeYBBafvwZqdxxG2NReNO/fDHQ+/gJb9RmLVxgysoYz+G3Mxam4QglLsEtAxO49iScJW/M/T1fCHx17Ed4ExiMneh0itBMe2P3bOcjz+Vj3c8egL6EkSGpm1F9G7tYKgVmf7NRMbGVx2qIyMWRGbIuazL24+vuz9Ab7u2xzHNqyiQR+PS5mxOJMSjrP8AY6cOx11nrwb7794H9YtmkzjkIQmNwra4V1pWyPdGzdDXhq6Ii1exMbX4gEWNM4ZXnnfLGJTSOO6IEv7ovjhkubbMM+CzGisXfKF2YSz/vP3IWHxZFwicbmQE4VjJIervx6Ld595AO889t+InjPSDNHScsaFSpfyFKb40zAOcRnBHj3dHFIjML1KERvbRuRm5sxQHofYyGjXynBaGaxv83dw37/+BrOHfYJzOQlmpbyCdMqfTTJB0nBZiwiQFGmT00IZ/vzBvkpoSXELEiSSIW+AOtSy0OrhOLt1Ic5T59gfj70x8zCz+/v4fkg71n0sCmlwHtu+CieZ5xneh3w7DrWfuBPNXn0Ua9g2L9GYKKRxdo7pnFMvG9OdP6It1swbhfMkIxdJvLTi3SW23cL0MBzfEoKm1Z/AY3f8PfynDsAF1nEBdXd4UwBiFs1A1/ffxjN3/StmD+6E09tDKSvJkpZ8Vk+nFlpguygbsYlEt2Y3eYNO9+H1cnEdVUlsZLjtIJnJ3qUeBZGAaGPEZeTTcNwZi7Vb/DF6YleiG1Kpyx00MvP3bmAYDc2Kw4rAH/DwE3fj6Rf+Cv/A72iw6ut2BP1oDNOYdQzq0lFCnnKgKomNeptSc0MNsVEa6jXQ8K3AsHnM70FUf/tRRCUsw679W0kQkrBhazhmfDkSz750Hx5/5k58+f1Ys0eJyIb0IENcchnCobrzmX/ZUFFik0GIpO3cv55tRwSDeslbj5VBc1G9xjN4453nSNz8kb1jI9Nme5A+dztpqk1Est6jsGbTciwLmI5vF4zCV3OG4csfhpqhad/OH2muZ307GDO/GYw5i8cies0C5kmCSIKUtzeB8UmuqMetadEkIANQv2l1DBr+CUnRLHw7dxK+mTMF3Xq3xZ33/juJTQ1sSSEJML1esYbYSA4RGzNfiaQgfl0QmvB3tnb9txAWtYx1oTk0a9im11FPiVgdOgfNW9clgWmH9ZvDWHaRtnUGWfkbsTp4Ie576A4MHd3VyGb0ZeqIZDaL9UWdpeeFYVtGCFp3qIe/Pvx7TJ892hBaDTXMyE9AcORcNHz/dTz3ygOY9fUosyBA/n7WvWsRh18gsXGl5wMyLsNJBCJ3nCKx2YtxSyLxWoueeLfDICxZm202mgzLp0w05CJp6C2I3YR3WnyKf7n/Wbz2YSdM8YuG/5Yd5su3jLpVJEhKV6tOaQ6FL3nKittHbByS4Bjv5UPkTuZPo3tR4jZ8SvLyhydfQvX3W2HY14swaWkYRs1ZgY4jpuK5uh/g4ddros/ELxCSnG+GAlqd+U63bKg4uakMsQknQkkyVmzMxtAvFuG39z2L3z/8CobMWgj/pGwz4T/UtJFjCMjmmQjOOU7ozLpSW2e6pUHkR8+FempEIrQsudy/iNiIj4ZMwsO1m2Hc8nDTU6gemAAtLc3nKWBTFj7qORT/+pcn8fjbDfHZ7PnwW5eOwV8sxhPvfYxBM5cibtcpkqHdGL9gFe567g3c8djL6D52JiYuDsS4BavRafQ0tvX2eOSNuni/60C7EEG2FtwgqSFJ/fUSG8EartaIFhmgcbhlBWK/HozBTV/GN/0/xpF1/qZn4jKNjSK+bC/mrMWWgLlo9tqjeP4P/wdTaWTmhH2LKzkRZod6Oy/EpusB06e7cK0MZUdZiY1jmN8sYiNj/nz6ChI4ERFNAKc7SeChtcuwfNJA1H/mHtQjvhrUBnFzhiPm++H4bmhbfNKgGuo+9yBmDmhDw9ifRnIoLlHH2ltGK88VaRiaD2Jz88D0Kk1s5G57waQHzTe6mml7rS6mrMKumLno3uhlPPDb32BIm9rIDP8BZ0k0QIPoKolNoeKz3rS5aSFJjhYPMJu1ZoXQLZjXPFMvJQEacpCu1OPD/JDPsNnBCJrcA02f+j3mD+9Aoshngj/smgdTwPMZlinyh3Fo+MzdePlP/4CJnzZEduRXLHsQCQ7BtnMhIxSblk7Antg5ZkloDZO7kst8skNwcqMfs/wWtZ66G0/c8X8xpfsHiPl2JBK+HwP/if3wWet6+LD64xjcrhG2rP6GJDUal1KoQ7NJJwlaKmVM5TN6A2JTSIJ1KvWXQ2xktKbw2U/LDTfXMl6zdmp+RRw2pQTQQB2EOo2fw2ejOtAYDaPRFoPc3WsZPtYMs4qIW4ZXXn8c/33nP6Jn/1aIiF9oegR2HqDxyDQsibgefMtVFlQlsVGvinopdh1ai/x9a4yxvH5LIL74djSefvHPJDYP0zDvjblLJuObueMwYGgHNPzgdVR78xH0HdwGSdtCWEeJxlgWYZQxnpyt+SVKv+L1JVSmx0bkRkMMRdS2Z0QjJSuexGYOXn/7abz21pMICl9kyE5Gni2zeu2UZu5eO5xOJDhvnwx6O3fHkmGmL5lcMPNp5M5rhVUvYDaJiPLOZL479m7C8lVfmx6Znv3bInbNKkOm8vdsI5JJEMfhLw/cgVr1X0XihgASarU1tclYpieCKdKtnsFEbE6OR69+nfH08w9h6YpvSLw3UudatjqE8icgIPxb1kt1dOvdCpuSw0lGqLf0cJLzJGxLj8XIcb3xlwf/EzO+Gs42u57xgrCN70y7OAfrTc/arngEhH2HF6s9RBJ/F5atmEM5tyN310aDBctmmOGJz7/8oOmx0ZDFvL2se7ZDbc76EyQ2NO4qBRnrrjRLgnkEpB8wWLoxD31mLUbtT4biowETMXFJlFmRysyVydwL/81ZmB0QizaDJ6DaBx1Qp9MAjJizCvPXpLuM1qNYkaphaIcs0eHZtzxlgzYrvX3ExjHcyw+Ve1FSDqavjkGX0VNR7f3WqNmuG5r3H433+4wy+HjgOLQbOgGjvl+MwC1ZiKQhrNXo7LLbvtMtGyS7027Kh8oSm8DUvfgmPImkYRHJb3e88WFndJ/wNb4KXY+AtH0IYZsIZL0FZLEuCUtubLuR3r2JTEmIyBjyQN06PTfLtuRj2PxANOwzGvV7jcDIRUFYtCUHUXtOmnkzK7bl4VuSkE/GzsDbLT/BO627ovvns/F92HoMmb0U77TsgzE/BCE08xC+oFvvad8z3Kesr3Z4n2Too36j8UG/UWjcaxg+6jsS/aZ+i0Wxm5GYfwRRJDRaIEI9RL9uYmPhITZBOJw4D4tHtMG4NjWwcHh7ZAd/g9NbAnBmezAu0XDcv24l1i+bjYldP8CndZ/HzN4fInHOSBzbsISGrIxU3+TlZhGbohLEpsBFbFSGksTGGpcyKn2nV1YYw54GxSXNpcj0x8XtS3EqaRFSV87A4nG90LtxdfRoWA1j2tfGzB4NMLtPU0zqUg+TuzdD8FcTsHuNHw3wWJyl0Ws25TQLB9CATyOpYJksqbEkzFf+FQfTqyyxcRnmVre6Xkli4095V2Bf9FfYsmwCy9kE7d97EhO7N0XigrE4EP8DClJl1KveV5thd1oNTLiq4WgumLZCkuMLV9kWi1KYhhaiyF6NC9uXID90OpaPbochTV/EwhHtSKp+gDYAvUij+mJ2mCGPYTQuhrZ4B93rvYCp3Rpi/eJROLhhHs5rZTYamYUMd4bES0MuNbfmXMpyXEj1w49bliArcAYivySpb/kOOtR6ivEbY3rXRviiR1PMIIGf8ElTfDWkA9IilF4kyZeWOWe5SNC0LPbVVMqt4XPXIzYi54bYRFli8wuYYyOjVUOE1HNje200XCmWBm04QmO/x5jJXdGywzsYMb4LQkmEN6fSYNyVSAMxFhpSNGfRZLTu0AAN3n8N3fp8iO8WjKbhGGS+0JuJ7m7IUPS+rzxuPrERpMsIY0CLgMiYl5GsOSMB4d9h+pfD0PTjN/F+i9fxSc/G6NG/GUlNWxroLXhuh6/njiUBCjA9WzLi1fNlh6FFISUnyEzsv53ERqQ1LTeS9RtFgrqOBv4mrAj6juT0Ybz6xqMIjlyIvN002HdvMOQnhc+c2oSInnqwzNAsGeZqe3TPoX4MIXZDw81i3O6GIDB8Mp9zkaRckqXEpFWU+2M8/cK9mDJzqOnx0jDG3F2b2LY3Y/zkIfjzX3+HV998DP6B3zIt9b5oqepIksx4k57IRmo23XI2YNZX4/Hkc3/FoGFdsGFroCFu6Xy+d+xfa9ps0+Zvome/Nli3WXOAWKcknHsPbyVZmYP36r6Ad+o8x+sfsP/YZpaR5D0vzNSZJebxPK/B1C+G4t77/wtvvPMC4taEkpylMu/1iIzzM0Po7n/kD2jeuh6iE1cYUihypTSutyrabSY23sZreaH4HgPW24jXUtIyGrXTe9QOGoQZJBNpBxBDchCcso9Gq1azOkD/Q3aDQ028psEYlrrbzGNYtW2nXYJX4Smz9gZRuprUHazhRz7lKRt+rsRGe7uI6JlhfMl5CErORUTmboSm76V+95MA7EF45n6ShgNI3HkYcfkkcel7zBAr1b2vNMuO4nVdHlSW2MTtPo2wzANsFwcQlrIHqzbmwH9jNoLS9yGCOglyiE2mQCLAa0MG1FPFNDWPpjRobo1ZaCB9v7lXz03UzpOG4KzYrmWg92N1xl6s0gp9lDVsJ/VPcrOa7TUgZQfC0ndj5ZZsrN6ai3gNVyNhXxiTgvCUQ4jZcRr+ybtJ4vMQuC0fIYwTyfoJZ1lCKHtgym5TX1ouOo4kP5ZtUGValX7A5P83YmMNd4fcaDjahZRAnKKReJYv+IJ0zZeIoxEYhcKsSBrEMSjIXYczadE4uS0Yp7cHmZ3btdHkFRmrPtIXbiax2UNi8+qfPcSmoDRiYxYyqLyujG5yNRSLBnG6HwppCMuYPb89EOdooP64PQKXsuJJfKgfGrbSxwkaS6e2hOLqji3EWlzJi8bZZMqTG2528jeGPtOV4W5JzU+Z2DggOVBvjYvYqNdJc1NOUw8nSXxPJTOftGDTE6PyaeK/9m0xZRW50TUhomOX8CapM2fnWvNULLRanJmvRfmV15UMf1xK8cNFkh2tKlaQHsL2SP3SoD5LEnWebUvLTJ9NDWOdhOPkZrbhLStwgc/KBeq4kOSogHlcSF1lFpu4xDooYB5FKr82XM0PNUtKn9rsh4K8KBzbuoLph+PEhmUkVYE4sy0QFzKjQFaNwrwYtsMw6mq1kc/MkzLLc4vYsJw3IDZ6xk7ToOwqYnOrVkWrQmIjyAAVuZHhaHpueM7dI0NS8wzsCmmaIJ6SJaM1kXnqK7Z6IzQcKAGaV6NrTSjfzPrJ3RtrsUdf7R35HIhEuVBJuW8OsbEGvwdyk0EuvWjYk85R2HtkkyFymhuyJU2kIZa60HCucLPyWQqfUUHzUvL2qrdKvRq250v6NXnvCqcuQ026nvzLj8oMRVP9ajialS0RG7eHYMqswXjoiTvwxHN3YtbXI03PVGqOjG4RMupOhrghMpEsm4aESSfhPIvYWNKj8tlV5NRe1DMSxnxCbJx9iiPSHGvmsQwf1xVPPn8n/nz/v2LYmE9JGtnedieRLGwm6QlC9z6t8Kd7/hl/eeg/MGJcN8osWaXrUJOnyqg5XClZdN+RZFZD+7BFLbz8+kOYOKOf0YP0rjih0XPRpNmb6ELyEb9epCOOZG499bUSn43qggcf/z1GTehhenFy9yay3KEkJC6yprlBbNcRcUvQuVsz/O6//xHV3ngWs7+Zgq+/n4apM0eha6/WeLvWi2jVrhGWr/oemXlaTGKD0a0+EGj/oJ8osdEQpYrCMXgt7BAvF3gdlH3QfH0O0xdoDSGj8RhFIzSMhEXyaE+WMKYToY0IaSBGZmuC9lFjqEcyTjjllVG+Ko1Ge5YrLUNAlG9JWcoOkZrrEZuwHC33LGJzCEvWbHcTm8i8E4ZY+CYtZUHliI3IYqDqTnqjgRtNAzuCOgtIpQFOY9l+5T9EErCX/gINf5Yrgoa62Q2/ZHrlws0iNp0whsQm2pvYyP86xCZEJIQEI4JtJp5EJlbtgIQgJJsEgGE1/0p6UW9NoPZ74bVW57Mb0V5fbm0cq7N6tETENWRPREeEQu1PK6NJJi1jvpLkJpjtU21HE/yDqefIPNt+Q1kPEQwXxvDR2ZQ7nTJkHCbR0rCyI4jOZz1Q3nANNdOCBiJqeXblPy1tHkSEs17N4gW5LpmMHtRuPMQmlHoUselEYqN9bCyxEalxiM1N2MfG66ViT9cSm3RDbLSPzUYUZIRWEbHR8CIHNLoyNHwoGFezI4koGn/aVDKM5CbKDDe7wJf3ufQoXKARX8QfLu3qfpXu4Mv8UooMUMkmY9QD3/mWH2YoWrZDbP4Jyyb25b0lNuodqDJiwzQu0KguSPNnPprwz3Szg3FxuwzjKOYXQ2M7itfhNNppbBMwc0VicS6ZZIc6K6BxdyGVMtEgLqQhLr2Y3ho3sbF68+R7M/THuDeZ2Kj8ltj4UweBZjiaCAD4IyxicYGGvYabFaT447JDbERkvMpjIDLAurJwEYQsGf4E76UXpS/3y2l+DK+0JBNl0/A16vjcdtYFDVD1vJgyMu+zyZSfbVILElzJIYmUjIxfSLmLRMyUBuUpUvlMmyfpoX8ByWoB26/KfolpnWMZkBtGHYn0qI1pqWrNs2I7V14pyxlnKeUkyRVUBsoGtsWyEBvNsTGrot1CYrNfxGaRN7GhsXpTemxoZJHIyHg1PQs0xOxXa6VLI5KkRvMsNN8mnQRfBqMWFNAwH31911d9GX8y9GU4mx4fTZhm3XoIjCOjA8e94nILkiV+g58xaL+bN5GyaLUtS2xsr4gIQHmJjePH+EzD9FZQB+oF2MZ2qXkdeXvW0U1GvfJSL0UMjWUNWVtHIzyaBriWiFYa6rlgGJIJGfuWEGgSviNH+WGJi2SMw5bUSPQgsenZr0055tjIz96rFyosZh4mzxyA9z9+Ax+2qoHPp/VDWOx8bEsPoy7jaeyTuLJ9WKJoh+g59arhaYKd86JhaQxDd5VTBMQJpzgqv3pCQmO+w8DhbVCv6UskHNUxfkovktPlTNuuPLY67HsMHNYR9Zu+inpNXsb4qb0oZ7AhCRoyaevVEm/1imTtZL3w/T1/yTS8/s5jjPMiZn07FLFrl7BdxiEyfglatK1L8qfhgSRdeQkIipiD3oNaocH71fBBi7dJfuYzzXimH47k7BAjeyrrTHWYmhONpatmof+Q9nin9gto8tE76DuoEz7t2QIdP30f3Xp/zDL0R0jUAmTx3ax9aUTENJ8oneTvRkPR1J42bY/G8FEDb9Y+NmUhNjKcZFjaDTHLB4coOIaoJQvXwOUn41AyCJrwrbN1F7mRwbffCwfoL2NR/h7iZPOpqLweOBs5lkZsQrO1j8kx4iAWJ2xD4/a90HbAOBqwdLuNxEZpmEUUmI706ejOm6wpnOOus/SmOOq9KJle+XB9gnA9iNiEkoiI2LzTzEVssvexjmmkM23VcWnERgg17tpAU7DkQOULziUxYplNz4zRi2teDfPUSnra2PVGxOZ6kDwRJFWGhJt8lKYlTUbXIuTSv/arIVQPtp0zLuXWXB/N/VFZStaJ0yZUVsddcU0dM556BtX+1HMTbHqkbBlNuZNzDLGJ27zZEBsZBg6xuSkbdHq9VOzpCqG0LW0qIrHJSNmMzs3q4BKJzSX+gGjC+tV0GmSVJjYyXD3GqzVaHXKjnpVgIoRgnlq5KlMIcSEMBTSKtdeNGc5DI83TEyO5rAFnjDgDGbLeeVccIi2F/NEQsXnl7n8ye5kU8UegkIakvvp79zwp/M0iNg5subQ8Mw1qc818WC9X+AN+heTlanqIqZ+rkkdf7407CSCJYQH1pNXFpCsZ9lY3jq6sjI78Ni/pzeNXMTDuTSQ2dhNXD7GRfGpHRWwrThtRGZ09W0w5TU8GoWu6XQvlL32WhNytv3psDEkwupBs0iPhqnPTLnhtFziQntV2CeMv2bXogyWlFpZwuMvjlZ/0UJS10sCSEZEs7zxZR8ZPZGsp4yxj+ZYTTEPtzZS3dGIj6Jk5vj0Mnd9/79YNRbtKYnMgH/MXzSpGbERq1HOTZYw9a/jeXHgb+95wyAKR7zobd8nhMXzdkJvbwBZ4bdwrJ7d6TOLW833y+sP4fv4kGq0aNqSeJhnvSt9bVl4bN8WVu5OOrn3Bk4+9lxEaR2iVMKVX0t8Vxo2S6XjpphLldoiNCKXmjPTo2wq9B7RzERu7gtn1hqLJaBcBUQ9dSk642btFyzJrqeak7YE0/gOxNS0UaTkiDSK6VndaOU/LPhv5KwD18Ki3Kjk7GJvTmM/21diYHGgm5adrw02ViXKKNG9JC8PmlGCeg7E9S0PYLBnTEDi1dUuk1O51r3kw8Wb+17QvB6Nmg2fxUvX70LlHE7OU9PQvR6JB0zfRrFVdfP3D55gy6zN83LY2nn/1L2jZvg4i4hYbAmTqtlh9WZ1pLycRwM2poZQ3hPoJpuwhlE/LWYcZ4qPeOZFAtT3Tm6bncRcJ7C6Wbdf1Fw9QL2PS1iiMHDsEIT8PYuMYYxYmHUMYroU1+GTYETTWLGTQWiM81KSlL/gOLLExYYxR623wVlxeB1YupX2riY3ycEha+aH45su9Sctxt0a3N6yeZCR7x9FQtOLplR9OuykfKktsbDoiDK62465HD7GxulUZdRaZO4TAPNVzJeSmPJEansZ2aNNUL5BDbJSu3G0bDzKy2HZl40vnltiYHkzXc2DCMy1bh4JNwz47qrOyEZsOg4a6h6L98omNNcAssZERZ8mNjFYZYjJYDYybCI+Mx9JIje2FsIapjFxLbipLcGRUFmaVIDZaGasksaFMyssampXP24lvyyNi4yI3TNusiKXJ4yQ19lpujkEvcmP1ZEgNZbTpeYx8hwDI3ZHfCePtVzEw7k0hNhqCZoehWWLgkAQRAatvb6LhMeJVTgdOeygJ38TGaUP2bOWz8OjDXd+E7a3TUEorv2mXhlCIXIiMiYiQjBlS5qTvwDvfEuSH+dn6l04EpWnTQyYJTYbAa8UvE7EhaTLEJtwSm1u1eMBPjtgIjgHvTWwUR7I48E6nNIO/4ri5xMaRz5HRk4+FKx1jAOtabiXL6AuO/81B5YgN24zpVXFIAd0MMRCkIw2NUtqusuqe8dRjpV4b796a8oPy0NjXtV1dTUso2yGQIika0mZJl81bcmiejPxFiq4lNq7V0ehme7BiSEBCsMh/qpnr9V695/DGO0+iRs3n8cSz9+CZFx/AO3Ve5P2z+ODjdzB8bDczr0a9fFZv3m3YG5qXRD9CQ/McKLzm/VhoyJ56riSLyqpyhpDYBP/yiI0lIx64/Vxfr73hhDeExQ2H3Ljyz93vhk3T+nsIkGStuLzeuL3EpjKw9Wd7YGwvjDGSjeHsTW50bw1hwfZiOEb/rUfliY0lZbYdWCJsSE2e4CE26ilRWopvyAb9pQ9fMpUFhthkHkJElvK2edjeIacuPXkFMi8RKfUSaQicCWd6kI7xWvdqcw68iI2pLxEjwSmLFjS4MbGJTkr6lREbGYouQ9UQF8dgdRmt7rgOJIs1Oh3DzTGWixmwLoJxrSxlhzFgRWzWXIfYmLA0LGVgajiRi2RUlthYg1VlEamRIashSDJmbfqaPO4O44aTt8vQNulZwuLoxSEA8rMEwYb7SRAb0x5cxCZrRXE4xj/j2TbgaQeetuApZ+m4ltg4xMM7vWvh0plpryXhksVNarzqzMDpdXPaqCODh7RawuPJy5Ib1q8J74T1kZZpA6UTG82pErHRBp1dPqjJh/+XTmy8IaOvJBwD2BrB1s07vMvf6ekwZydsyfDlx80jNk4YX+XwFU7X0rmDkmEdKJwv+ApbNlSW2Jj5L9SPJQsKK7KjXocYEgsLmz7D5lmIZIgAmSFsxnAvPzQELy0/yJztUDilK+IShvQdmndEUG5LWkQmKANl17DC1NxgxrEkxhIbkRrN+bFQWdJyNeHfEpTEjSuwcPkMjOFvjObrtOmoPXJaYNionpjx5SisCv4BW1IjzLLlmgvjqdNr60e9SEbnPEsmIxuhMjjuHr1Ipxoup/1vglkeL2JDZChOMShfD7G5hUPRnK/O5YdjZIqgWGPTfo02X6SLGXHWzQnrhiEtjiHLMCJAhtiIfCg803cZu044d1iD4vKUBw4BuD3EhkY6064wHGPZdbakxalLGcyC3LzD+EinXKgcKaocsbG9F0pH4Zw2YMmAHR4mMqAwYZTTITeq36Cb0mOj4W+S0dafQxSVn22fXvIYUuORyV0/JYiNUz5TX6YtWrKt8ti6ZDsz6TM88yhtKFrsL73HxmV0WTjpyk8LAQglwvIsQ91+wVZYubkMQJOGjDmPwesYhA5snIpBRquIzV4Sm1e9iE0RScWtITbqeZAB6zGAvQmMPTuGMqF5Irz3kBOHrDhhXMYu3a1BXpLYOMa1E7+8YLxKEBt7L9kssSlyw3uollMenW0PiNOenHsnjG84YYrDScOC5XCjpJtXeYuFURoWZnlqp7fGq8emeLu1PVHWXzLIz6kXm7ZDNqUvTxjng4DN27aVshCbCHzy4a+N2PiCtzFY3CC09y4icA2xEUojEGVH1RCb68nmhNVZaQnSvTdKhnfieMNX2mVDZYmNJTN0N0a4oGsLZy6MnfzPa0IER3Ftr4WulV75YYeiuTYnpfxK0/YE0d0hNob0SGZXWV3Ex86ZchELA4fgOCRHZw0b05wYxY03+9mk58Zjw9ZgrEkKQGJSIAkESVRuIuOuZdrSlXfvmy1nSZgeK8Isgb5bC0bEGZhFFRhXvVu2h0vhWVYv3ZoyU7Z0yqbV0UpCvUBuYjOGxObnsI+NMTJdhp1J2xio1ih1iIMDucnPCWuhuDYdG0dGnzXwbBwZsSIa1sB0jF4Pgaq4wWp7OZiW8r/VxMYQBRrrlYTdq8XCMfw95ZOMLn8fcSuGipObyhMbSxBseq72wrPpFXG1adWXFhoIy7LkxvrbcCXlKSvUTiO8iI30bOQwBOoo3Y8YP4Vz2r3J09UjY+tFcdTeShIbByXbPeMpfZ6vR2w6Dxl+zRybqy5ic+Xq9V4dZTi8Xir2dOuIjekZcIiAy+hyG3nGiHbIjAPFk7uMM2+iIDdXfBdK9v74TqtiUHqlERtUObFxpUkdWDLgTW4sgbGkxjFo9RVffjKirV6tUezEt1/5jZ9LV8WJjQ3nxC0pU9nAeJUiNhr6R7cs+rlITaGBiI2tZ5XVUx5LGJxeHksWrHHvaV9lgLsNCR5yYa+9/RTeWze6VvwSebvvHVh3m54DkTd/nm19qc5VF3Z4m4a52XZu/QTlZXVl5/eobUoGtZPSiY3VTwhOpvyN2BRHcSPWusnQk8FH480QGgfexEEomVbZUXXExltGT36e8DrLgC0Bd9m9wyqdkun7SrdsuGnEZpc1vm2vh+0B0b3tzVF5RBYsmVBcM0TNS47yQ/mqrVqS4KQpd48MVo+W0IjYMJ6RQ/EcYuMMnfMQHCddrZQm/WrxhpQsxbfDxtQro7ahjTO12IB0l+6QEaZRvO6860pD8WIYV7K68iWhscP2tJgG0yEsSXLq1UlTZ8YngbkescnascZNbIJC+duh590+9j6Pm0hsrPFVXngTDmOQGqPU9RXaGHIuuNwMERLccRRf5EHp0RA1X7Udo9Aao5ZkWCPSkCCTh2MQVlR2a/T+HIlNKCFDX/KFEME5gvxsfTiwxMaGEUJNHAtf6ZYNVncVQaWJDfO35aTu3HVoDX3NHxLxUVuKyPSQG4Uxc2Fcbaki0DOjBQsscZGb0nWRGuYRkXUEkZmHeV2c3Jj27mpbOlt3S2A0l8YSdAtvYmP9pAenvZdObLxXRXOIzWVzbelHpQ6vl4o9/ZSITck4rjA0/hyjz9vP20CUAWghY1B5aEibxc0mNn4kNpdvGbHR/Bn1VFmC4mxS6RAU2zMjHVk9WV05Br9j1HqTGhvPxpHuVD6WwaUjT9jS6qQsYLxKEBszKZ/GeiFJjNNLI1KjexEeQyxYTlsWS/TsHBUZ795kwurDDVMmb6h8xaG0RZ487chVv0ZXktUSKBveq7yuPBx/T3gnjsfdkhYPcVH5ROCcNJ3yF7CsKrMtk0M21da0WIFdka3AFU4yXp/Y8J5t+G/ExoHLSHZ9oS4Ox1iUsecYiy5j0sBXeuXDTSc2DvkqJqsnP094nVXuEnAbx95hlU7J9H2lWzZUhtiImGhlsrT8UHcviRk6pbkvhAhG9m7t3WNXNbNzXmw8OyTtWnnKCsktwmLLLsJhCYNnDo2rhyPPzr0x829MnopTktg481t0trrUKn72XmkrnAhNjCmvVjjTHjqKo9X8VB9atUxLkufsoXzu9mplc9eTqSu1BZuue7ieITfyc/X6mHCu9iIZqTNDgNgWMxgng3oUMkVmikHP8Vps3BaFEaMHIzCYv0963s0zbx79a46yEZs6jRGyKR2RGXYpWX0FDpGhJQPSwDGGLYEoD2R4hWdp1SgZdt6GqSUyDhwy40BhwgUahsYINelZQ1Kkxh2PbsbAYxiFU3hLhkRIPKSk/GA8l1FpZbYGsGCNSuZBY9oalwdIbLa6iU2kjFoal97lKx8cmUWaygcZ7tKDNd5JUrJEvkRW5KeeA6tXXSsPkQERoDCGi8g8bnVNlEy37FC6xeuyrDC9Gpn7SGgssRn7wzISm71030+dWOKgMLb3ww5bVP04bcQhZY4s3uRG13JTuEjqJjLTEg7J67QnXzKVBZJLSzRLJpOOqT+1exGaI4jOOIKYjMOIMvNwVA4Hkl3Phn1GbJns/C4z14z3doU3PZNK2zNXTTpQvAjlryXOSZo0LE0ER2XW8t4hydnoMGAIojc4c2wu84m/jILCi7zWXyUPr5eKPZUkNkWG2HRqVhcXd5FcaWWtNDs8TMs+G3JSEZhFADSZ3VkQQG6WNHjgHd7xdwxEXnv5Kb75Yp0VSMPOgQy9YLMSWIFZSc2urKY8LdFxxS8PnLyywrBnjZ9Xj00cCqUXV1nMJH0a7NKTITTUlfmyXgkoLbvimRYCYPpGH9IFDVzBZQjL3RrJFsagdRvuLsPbZdxaWHdHbqdOpCO5WwOaevchU5nAdC+zPi7RkD6XE0Ni09IQmwv563AhK8rUiZXBGuSSQ3UmY10yqE4vmfqU0e6B3AQZ/bYnQ8a+JXq6dsito6PisHkVh0tWL1hCIdiVzuxqZ9IR83T1Itk8vOMpLevuqQfvtumk6WqjTFPt05xNmxWBceLaOJe0XHQ2y5xtyY3NU2EUP4R60OagIUSQCadnwQ7hVH2rvDYtI5vqlNdFbMMnUqLQ5cNafOydVdEq/UbxOq5NrzixCSCxoQEvA4pGnyU4Mh5pKN1yyCiUUS9DuiQcw9qRzTHwXfG8DO6KImdXAuLW+ZHYPGKJTa5dnUrDm2z6zE89RG7D0zGsvWXR2TFmaag6Q+aMQeuE8Ybj5pTBGyXL46RdIn2f6ZYNIhemx4PpbEqO8CI2AWwHMtoVriTJkpvN0/ZwqM4EGfTF68wO62Ic9ToUi1txmQW7GIDy1zCxNawn7YckXYg42WFwWnXN9Ay5elqc3j0RKw+xIaFhPJXVnA3BsETJDgkTASFh0FAxltUOcQsnwWHZXMRIixLIX+6W2Dj6kl6deqIuDWweIiqG2BjYPFQWWwYrgyVdjr9INuPvJrnZTVkEyeSFLIXZuY7EJhrDSWwCgvi7Yp53vlpoUvgiN25i4+uQGRK7NgnV3qmD0DWbELMtE9HJuYjYlovwbXmI2L4Dkck7EEGEJ++sMBTfG+FlhA2v+N7p7UCYNjwkPGFtGA+8/ax/+aF4+UyLejDnfISn5DNfey2EbslFdOouBGxIw3ero/Bx1/7oMmQcgjdl0n8nwrYx/DbKWgrCtzvy7jJn5avryBTeb78+wrcx/HUQsZVnYdsu5iVZdM08idAteQgTtkoOG0Zw4oRuUdkEhlUYA4UrC2wepSFCZS4FYVtzEbwxDeO+WYgGbT7FyC9+QMC6bXTPRNj2HOolD1HUv0UeIlMFXe8gdrKtMh1CZ3NNdw887lHMK0pn1nGkVxhdVwhsC1FsJ5FqGwZyo0wuRPM5MjDh8k04A117hbPubG8ueMLIXek67oRJy+Zj0jDlo463Wx3FpuQialMKWn/aA2s3b0MB3xCWypB2XLFD0Sp92ORchy70RvHg0sVzyMnYjk9bf4B9qWuxf2skTmUm4Mi2cBzdFobjqRE4kRaBk2mROJnuAq9PEMbP8Xf8CPk5/sfpp2uPvw0vHE8NN+diaRt/usuvRNonXDhOHKO/0tb1ifQoItoijdeObNek7ZJNcvmQ2ynXiYxo7NsajOToJajx5F1YOnM49m4OxcFtoSavI4wrHE2VHDYtnY+mUGfJYUQojqVQd7xXGQ14fcz4049hjL/jR8jPhNlO92R7bf0UTmmFeqB76sgN3p8gjpm0bRjdOzhuZLFyHeXZ5GXk1plQmvJT/OvIfXS7DeMugwP6n8qMweGUSOStD8C0z7qg6ZtPYc/WKOzZTBnSYxmGOnLhKMMdoe50PkYcZT5HU5luGtN1g/LS7YiQEsI8gxk2mPIEs0whPIdQ53R3+Vl/usuPkJ/ujyY7/rp36U664rWgtC2Yv9wpyzFz5r3c3WlLr95xlXew9TfXdDPxrNxHmb9Jl/keke5Nuiqny19xjGxO3gTLrXgGTNvKrbA2/hHW9RHGPyJ/ybQ9CCd4Psm0TtH/FHV7ivo8RTJzOi2WYWKRHhuAT5o35qNewMf/MsHnvrLDW92H83Jx3it6ZxXg4OFdWLj4a0THrURaZiIychKRlhWHZD47OqdeB2nZNParCjlxBHVyDeROuMMmuOAVt1KgYZu3DhExy1Dj3efx9XcTqQu5J7rLrWuLNa6zI4Pj7n2tMN7wDlMyXkn30uAdvmTavsLfGGmutLanxSNhXTD6DuyEAUM+RUzCKraDEmmzjaTnrGFbWeuCruXuqhs3StQZkZZt241tO578fdfFjeFOi/ln5EoOySZZ5Ma83PnbMB5Yf3smjAxWBx7dSi8WTjybX6xBRq6Na8uu+Pba4+cqtzvtknDSdclgUCKsk7YLtnzWPU0b2Lr9HHfKn7OObXgzEtaE47NhAxAeEcpn3fVn3ifXvlNKJTbO6yI6fg2Zfg28XbsBajb8ADUbfYR3Gn6Etxs2w7uNW+DdJq3wNs9vNGj2q8ObDT7CWw0+LBVv1KO+3m+Fd5u2YNgP8R93P4i7H30OdZu1xTvU2duNWpaKN+s3Z/xmTOdj1GjQwpzlZu4b8r7+x6XCxK1LGSuIN5UO87FQ3t742Mj1Rr3mVh4TtoWR6e2GLa2/jzTLBJXXqxzXgDqv/VErPPPGu/jtnX8x5zrNWhu3mh8w/8YfoUajD6+DZr9CNMc7fEZNO2z8Md6lW+0mH6NOYz6/9Rqj+ts1ERGbgIKiK7h8xb4g9LK4qk8hlT300jHGjNIqicu4XHgBW5LW4LnHHsCAbh3QvF4NtG38Hj6uXR0t6lTn+RW0qPsqUQ0t671GVDPXH9d5Fc3rvGLOunf8HT/jz7hl9Ve6xf3lp7y94pq8b2bajr9TLvoRLRu8jlaNa6BT8zr4029/g1rVHkfHZrXwMd1bNnwTzepVR/P61E39141bc55134zpNGd6Tpqt6gvVDWweVobS/a0MOvuO65SreNmdMnvK6ztvUzbpwstP4Wza15e7pHvrBsLrFg3fYN3oXAMd3q+JVx+7G3+94x/Rr+NHzJM6ot/10EL515NsRH3JZ69b1GM5676Mj2q9QLyIZrVfYhlfNmjOa6EZ3T+q+YI56974ufwVXvE+qsm4xt+J6/J3xXXSVrwbpe34X5t2ibxr0b+CaQs27dLKJbcX+Hw+j1Z1XkQb6qgt665d3erEG2hb5020rPUm2jaohY4fNMKzD9wHXDzPR76I7wEXubmph95Z6mnWENqLyMzajr79uqJ9x2YGbdo1Ret2TdCqbSO07/QB2nZoWipat2v8y0PbxtTDhzw3xX/xuajNZ6Jbj7Z0+4j6+AgdOzdDh06/PJjysf47dWnBMn6M5154BM89/wjadfgInT9pac7ecNqLYNLo/BHx4W3ABy68XwEonq80y4aOLHPHLqXDV5ybB6fMrjKwbdq6bE58jHbtP0aHjq3x7ns1sGTpItdzL2JDO+Kynv/ihxexsQE9sP9Hx8bjldfeQJduPdGz32D0HjQMPQcKw9FryCj0/mwsz6PRY9DwXx16SheDhpaKbv2HoMeAz9Br8HBz/cSLr+KVGu+hz2cj0aXXAHQfMKxUdOs/1Jx7DhqBXoNGGvQcOMLA+7o09GD9VBQmfeYrGLcBw9G9P+Vyg7LxLHe1A7eMg228kumVB77K4qB7f+lyGN5v1RYPP/MCGjVvZe4dfev6eujz2YhfHXoNYb3wGe0zdCx663kdPAL92P76Uh/d+/RH3YZNEBkTR2LjvCD41BtiIyPEvgcqfJhXifnPDedP11euFGLrpg149fmnMGn0UAzs3hFjBvbAmP7dMG5QL4wb3AfjhvTF+M8sdD2WbmMH9zbncUNK+jt+Hn/Hr6S/Tdvjf+O05V+xtMeXKW3598FnvbtiaL/uGE23//jH/40WTephxIBeGNC9Mz7r2w3D+/fE8AEWctf9sH49MLRvd4zoT91Rbx45iUG9jdvogb3MuaT/GPrLz+PvFdf4O369XfL2w4ShQn9ztvL3Mf4VTftG/qMG9MDI/t1d6GHuhdHUwaiBPTGkV2cM698VYz/rg0a1Xsdf7/wdZk0cQZ18St10xUi2qVIxwEm3O9O05xH9qOe+XTGsz6dGBsli6ozpC2OHeMtp60116MBx8+V3I3+3u9HFdfx9+N3Q3+Vm9Xytv+M2dpDLb7BXXLd/b+roU+qoM0YSo/t9gjH9PsVY6mwM2+foPtRfb6IP22Xf3nj9pRfIOzR3T4TGeQ/c7ENpqsemELt252H4iEHox3ocMpTP07A+GD6yH4aN6IORowfwrGvfGD6i/y8QA9Cfz8pgtt+/3Pc/aNO2GUaN+Qyf8dkdOWqwuR42nHr5BULtYATLOGz4QLz51qt4+93qGMz31WfD+mMI32NDhw1wQ2EcDB+hc3+fbeSXDbaXkaVD/r7j3Qz0dYHX0r2pQ9XDIAwbNgiDBvfH0KFD8MEH78Pff4V55GVa6PtrEW2XkkcJYuN8TXVeQkBCYiLerPEO8nftwaGjJ3Do2CkcJA4cO40Dx38kzpiz3H9dOOmCdOIbB48ddyMlIwvde/fFmAkTceDoMRw4IveT14VN31fetxJWjtLlu3UyHqRO9x8+iuWrVqPjJ10xZ8Ei7Ny7j+7H6U+dH78+Dh8/+avDweN6Ts/i4IkzvP7R3B86fgqHVW9Hj/PHfzg2b9lqSM1V8zXV9R5wX1fy8ErC+w2j68tXLyMjPRWd2rfBiUP7cPLQHpw5shfnDu/FmcP76XbwGhw7sB/H9u/D8YMHrvWn27H91v8aP0Jx5Kc0fPnfMG2X/zV+xI3SPl6GtI9S9hOHDuHogQNI3boVLzz9NOZ88425P073E4cP4+SRI6XiFHH6aCm4kd8N/E8dOYxThw/ZswsneW/KRvnlV1rcG+bty92Bk/d1cOIIdXp0P44f2YcpE8egbs0aOLRvJ9334+TRA9fFqaPFy1QMrvKpnA6c8pr6NHVNPRyi/g8TPJ84eJh+h+inOmdc+cvP+FPWg4eM+7H9lJnX3v5K67i3f8m0Xf4VSfsaf/mVkrZg4rr9nbj0N3GpN+r2NPEjcebwARcOEofwI3GKbTUnPZ3Pdns+6faZl/mhc9UcV3HlahH27d+NZcsXY+u2JBw9xmfquLCP13tx7Difs+Ms33XBMv7CcITPR0rKNjRsWA9LlizEsWOHqQ/5HSaO8Fr3vyyojE45s3MyMGLkMIwaPQKpqdupj4M4yufeV3jveEePMdyvCMfKAF/xbgr4bBocE+Tm1I/a51HW11Hs3LkLU6dMQ1RUrDUgXPD1/fUGxOYqNmzYgDp16+EIjfHCy1fcvnpJOXBC/+3wfWhoz+7du9Gpc2c+YCNx8dIlY0hevHipVBTJ0HTFv92HZcZXcZn0WLidR0FBAVatXo3WrVtj4aKF+PHMGaPfwqIi/rDdXtl+ikfJZ9X7eb3AdjZ+wufYSiP68mXqr6jQ5evgJrRAryS8UxaKWG/bU5LRtk0rFFw4h6sFF4BL53H1whmg8JJteL82UGGFhQXIzcnBo488gvnz5rndSwX9zbyoqnw2fWRrwf8MeH3bDivMFbbhcePGonr113Dy5AkUUY8esn49+Dj4vrvC3zt32dzQvQulJS13B9fzv55fVfhfz688/qW56+VSdBVnT57m9RUcP3Yc7Tt08Hi5zopSFYeegb179yAoKAC79+ykCAX8rT3H99xZXCo4x/tCFBUVlAq7eIpTmF8KrLYzMzNRo0YNrOZv56/tOHToEEbS7hoxYgTy8/PZTmjH0L4qos1gYUcrOFA7sod3I/8bqhbXttmSx+lTZzBr5mxEREQXj+rjuM5QNItNGzeS6TfA6dOn+S53BpEUhz18+fwNFldw9MghDOzfD9OmTDbDfK6qe14/uteDz7RuB346ckl30VGR6NGtGwJWr8LFC+etn5Ht2vB/Q2mu5A40/MaPH48NG9bjskhNybo195U8nMx4KDX9ZDgoZH1tTU5Gm7ZtGY4B+YNzVXLoh6WUd82vAVrG4diJY3j6maexeOli3pX1z3d6vxYUkYxMmjwV79WqLbta3MScS4YrC9RWBV9+f4MHvhwLL+m3zX446dSli3nWRWqcdRcVrCoO2SeHDx1GSEgw9uzZzfqXoaq5N4QZDsdnRO+VUvBLPvJy81GvXgPExsa7XH49x4njJzFhwkTic+zbt59tgW9YvRdY5abafeFvx0/uOHXqR0yfNhMhwWEul9KPEosHXFvDG5OS0JjE5uiRw7z926u+QuDTs3//PvTr2xeTJk2kEVmES5cuorCgoFTYrwY+0rrF0Av/ir5iuGC/CvsOW/XgD2TRZYSFhqFzp85Ytmw5fjx9BkWFRZTL+t/4KJnmrxOqxzM/nsbECeOxccMGS2wcP9b5Tfux90pCl2o9atmCJTYpaN+xk/XjD87FCxdRVFBo2j8l+BX+WQ3t3bcL99x7N2bOmu6lMd+Quaiv0ZevanPVX9ufp4ldvnwVQ4YMxcsvv0rSTr3QQ+frHTb+tX+X+VtXqF5ML7dr/5z4v26YgxcyD67w/Vxw4RLfyYU4cvgwWrduRS+1as9fVR2Xi64YA16/C/n5O1yuahdX+HtbYHr7CylXafglk5u8vHzUrVsXERGRpq7Ua/HLP2wLPXr0CEaPGW16c/fRDisoVDuwbaGIv3uCIcBuXP+d8bfjdhxXcer0KUybNg0BATfudSxBbK49HGJz8sRx3ulhsI3FXjv45b4QbsYh7Rw8eBDdu3fnAzaGRgh/LvkS1culNPyC37GVOqgahIaGo227DvDzW4EL/BGVQSP8TWe+jpLPqvO8XsX5c2cw6fMJWLd2DS5evGhe6GqXMgRuymGzcR/OrSOFhqIlp6Wjddt2/LHR11X66h+hoY82/K/rz9HO4cMH8MwzT2L58iVut7LAO61fx5/nuML2M2niZLz55ls0YkXUeXgHKOXwTq38fzaLXzPch3Hgf/YBxinaDJ907khHp23KYNR11RzK9ujR4wgJDsXePfvMb4Xzu+DpfDZCloJf7qEhWG+99RYCAwNdLr/0Q/Vp293Ro4cxYsQw2l4jsW/fHrYHpx2Whl9+e/h5HbYuf/zxFL755iuz3PO19VX8cBMbpypLIonEplGjhjh65AgbhBLRIR9e6940kqp9wSvXInUferlpaVq5aTWngsIiXLhUgEs8y032kdxcdtJthyTff+AAevbuhc8nTbzG/3bADtPgTw3hNA2jN5c+de+cz52/YMKfv3jJHf92obDoCoJDw9CxUxcsJ7E5e+6CLQM9S4a9ldAXXudaV5cK1B41btvlxl9X7bTv3N8q2P9Vww6sq46zZ89i4uefY/369dSrRzbp07mu1OEYOYI7RWsO6q+IOktJS0Obdu2YJ7VGbxkiMlBNlFtwyPgpKNB4a5unYNqSV/7epLnK5VL+fIcdOXQYD97/IJYuJrFRnmVBJQ5FL+1DpaOXwkK+bwuKjM4E55DuvO9v+eEq/1XqberkKXj15Vfc945fqbiNh3nOXDJIr7pUz4JzyM8haLp2PjhI1zft40OFD+VfArIF9B7ke09C/njiBLp07GDcPOEqq3TF9wVleZWG6z6sWLECe/fuM27XHr7iVh6yjUrO5zK9zi43+yvrCaPhcR59VDWAnTt34t1330VUVJS5v5nH+fMaDu770Eda9YzocEYBeKPqDqVtdX7q1AmMGj0SY8eOxt4yERvBW38/HahHSe2qsPAS3w20x1z2d8n2VLIt/vThHL78hCs4ffokZs6ahtCwIN6r3A5U1uLHDYnNhqSNaNioEY4cPWqMM8/hCmEU6Alf1VBuMsD1o+AQGRkiMsh17bgprIw1Y6R4xb8dkDT7D1piM3HyT4PYXA/SrxaKkC51/1PQoYNCWl+hYWFmIYblfv4kNueNUXy7Zbx46SIJ4DnqjsSwqNBFavjC4f0lvYDMn++4VQlfLs5x9uw5fD5xItat31CC2PgKXYFD7wsDPbXXQi/o1LRUtG3X1tShgt4KYlPE34ALFzT0xEtEQoZ7YaF+PCzZuXhRE0tJwBheblUpk/tgHleY5+FDR0hsHiKxWWbcyowqOhwdSQ9nzpynMaNFTjSEx9bbLdFNaYfylgxsuD8nYqPD/FZRDkccM/7fOfPC/fvmIj5y0/3tPSSADClvuIwMvu+uuIjNaUNsOlqhTQNxUJlD8Uu+S2y6MuY0MiIgIAAHDhygm6/DW46bBy1cI0NTQ8x11vAmyeOQm8uus+59xa9aALt27cZ779VEdHS0ua+qoyThdsiLRgOItGuyvhZHEuGp+sOWX0OYRo8eRWIzhsR3L128dfPzg0OSPddefl5tztv9pw/vw5f/VRexmY7Q0JLERv7FjxsSm/WG2DTG4aPHihmP9pAiPXe34tBXmQIzNtIaYiJbFy5coFF53qyMpdXEztHY1XXVH442rg81vgMH96N3n16YRGLj8bs9hxnuRr1JAr2InKFxur5w4aL5wiI3HWaFNupaOi8k0XG+vtyuQ18swsJD0blLJ/j5LWddn3X/aHjr/Hbg5KkTPEufMoipryKtyqPeLq20ovboO17Vw3N4u545ex4TJk4isUmirNagEvTb5FxX+tD7wbwjVD8O7Avp6pVCpKUmo13bNiQzdGMwMwRNQXg4MlQVikigLl5SPdEoKRQBZfvmtdz1ruOlvWZYuXu//6oKOkTsRGweeOAhLBGxKcfhK83ywlc5pSf1jkonjr50LqSs5y9cMueScW4VnEN6mzJ5Kl555VXjofuyHJK84n/FZSkP1K6ca/Pbpfcwr81vGH/Tzl+8aHp59S4+c+4cLlyinhlOfpdd7+/bA8kpomVRjNjQzy5EQoPy5Cl06tiZbjfzkATSXElQH3xxHDp0AIGBAeZsw966o0jPhD4GMlt9oNGcnzM/niXRsb+d+h3V76l5Hd7iY/fuvahZsxaio2JcLjf/KFkumRAaKi69qOyFfL+6hwa6cCuOU6dOk9iMxbhx47F/f2mE9+dxyP45f/6csS90feHCeerZruamexFH7zlCt9o+r8rjNAnqzJkzSGxCeKdyObj2KGOPjSU2+p0o6X+r9aZJz4V8UajyNC9g165dSN6+HduJ5ORks961qVwRH/1CV+mh9Eu+YH3jIF+0IjaTDbGRm1uDtw0iKXoohGPHjiEtLc0MS0pMTER6erpd4MB8ebLh9cNhH5pr07pV0CTp8IhQdOnSEX7+y0hoz9AQ0w+s/VG9XdCP/dmzP1I/hcjJyeJzs45Yj6SN60lq91HXl3zGq3pIb/YoqU0PsSnZY+Mxmip9mESc1ByZVFessysFSE/djvZtW+Oq2hXbmXlmXRk7saoCGjpYYIzJyzh5+jTSMzOwje+PDRuTsJXvkuMnT7rCaFK+Rx+ORqsKOvSB4dChwyQ2D2LJkqUu1xsfvtIrD2zteMrquMnglp5O/Sg9ZWLNunWIS4g3ejp28sRtNrItdMhommyITTXzu6T7Gx2SXO+OisFqq6J/F/lO4NvXpHL2/FlzdYbn7SnbqdutSNqUZK7lV3SFpJug+YKiq8r7dv5J4uK6cFqPNKrfX/1mnDx5Gh2rhNj4hj4g7d+/F6sDVuHgwf0+wlTdIRJ9ju/T8+cv4McfzyArMxvbtm5H0oaNZv8Nh9CYD7JVK4rPY8+efSQ2tRF1C4mN7n8ksUtOTsVW6mLD+iSkpqaT8J5GwaVC0wt5K45Tp86Q2IzD+HGf48D+Qy7Xn++h3wfT40X9Ssdqc6mpadi2bRs2bdpk7GB97NehBTN+KYdWZp45cxaJTblXRbv22JCUZIailUZsinGHkp5VAA0vuMIXZwFfFJs3bsKwz4Zi8MCBZq5At0+74rtvvjXj0yXYZfUuOIZSVcD857zQr4+Dh9Rj09OL2DgomeitAH+YaLTJ2FZPwqFDBzFr1gwMHjwQs7/8AiNHDke7dm0RFx9LcnPBfB1w5L29PSN6oAsREUli80lH+K9YhvMXztCn5FfD0uCt95uLIhIanfXDOnz4UIwZM8rodMDA/hgwoB92795pSE/JeFUNX1p0IGKjoWgiszJGnKNqhgk4uSpt1UVxYkPLoLhw/K+k8XQzQYpucOL0caxY5YdBnw3E1OmT8fnkCRg4uD+W+S+l0X4UFwvO05AsNGEVz/v65sPWmXr8Dh0+SGJzP4nNYi+lXB++DM7yQOViCd3X3uU8x+csNDwEQ4YNxrSZUzF52iR8NnwIdeePE6eOucPdenjauFnuecpUvExiI03qvriGfEHxtRBxRWB1VVlI5xcL+Z69WoAf5n6HLl0745vvvsIXX81Cj17dMG/hXKPjy8xTYfi2MfCV1q2BbacOLNnx6NqsJkeL68Sp0+jQqbPb3UFVHXpv7ROxWb3SRWwcGas+d32QUf7nzp1DeHgE3/9jMH36dEyYMAEdOnQwc1vkd7u+oO/etRfvvVsTkZFVMxTNV7EuXihAdHQs+vUbYDZWnDRxCoYOHY6goBCcOXPOFaoKD1eVnzp1lsRmPMaNFbHR6r4eP5/4CR/Ss6DVHkWmT58+A7/l/hjQfyC++GI2xo0bZ9rbypUrXTF+OcfpUz+S2HxREWLjXbsWSUkbDLGxc2yK+3q/Nszh7VkF0MvDLAVbdAV5ObkYMmgIPhs8BLt27sLJEycx54c5+KTLJ2Y54AtksQrr/gJcFTCnsv0dOHgAvXprKNokL9fb86cvWxomZYZM0dgODglGixYf48uvZhuDKn9HPj759BN06Ngex0/IaLE/XhrypXielG71n4w+22PT2dVjc/7CWeNeNlTdn8ZYn79wng/eTDR9vykSEhOou+OIiIhAq1atSBhnm/Hf3nFuzd+1zdbBGc2x+dwhNiJd1kd7Bdnryh3eeTnwvDVoILEuSyc2OpywNxdOeyggsV+zNgE9e/XAtOlTjFH045lTmPD5OLRt1wZbtm7m82GfE4V34pZM7+bBpaHLl81+HA8+8ACJjVZFK+uh+L7SLRtUNr0bnGun3Dpv3bbF9DiPnzDOTMCVriZPmWSGhCZt3GDClEzvVsC7jWvI1uQpU0hsXnHfO36lQ/+rzBWBb5nKCmeIqnQs7NiZj6ZNG2PosM/Me1c9vWPHjUH7Du1MD7B0XFikzZtJcG7DRxIPSmrR+46Uj7KpRCdOnSKxsUu5e6OqDr2Dta2CloPVxzqb241kvznQqAe9QzdsWIcePbqT2IxGfn6ukWfEyOEYOLA/1tPv4sXzCu0zjaqDXTzgnXfeQQRJV1UejuEtAqeV2D799FMSinFmuWmNAhk7dix69uyJdevWUWdWtqo+Tp38EaNGjWHeE7B/H9tFmbNVwFuN6x8a0qihjfr2KD3HxyeQyHQyq0EePHjIbATft28fvE8b5Nixowxj25qdd1Myr58DPEcFe2yUiPPwO7DEppGL2DhfG5wsPaFuwcFMVJkar3nh/EUy0tV4680aZuykuoA17GD79hQ0qN+QL5aerOA9VS6Yo4cbQTrad+AgevTqjYmTJvsMc6uhYTb68Tl05DC6du+G6m+8jnUb1uNiwSXjt3DxIvzHf/4O/itXGDf700tiqQfER3q3Cso/LCIMnbp0xnJ/P5wjmfAV7lZDdZyekYlq1V9Hk/c/MIsaaFW5Q4ePYMDAQahZqzY2bNzkM+6thnNoVbTPXaui2X1s7BN91W2keocu/2FT86Rkof+dfAqRluKD2OjwRKgyHD96HNOmTOM7owFW831SpDHgfL/4LfNDjbdq4NtvvsXZH8/6KkSV4irVf+TgUTx4/8NYunj5Nf5VCe8PQVf5ThX00ejrL79GzXdrYoXfChReKjR60vUb1d/A7Fmzceb0GXe8Ww7XhQx/ka1XXnmZd5aQFQ/oC16XtxhqbwUXC6hzmPNY/pY9/ODDCA8LN/7Sc+DqQDz/3POYOGGi0bnqo2Q6txVeh55t6d0Sm8skNidIbDq43T29PVVzqMdk//79ZvEA7TZvBXQeXgclyenNQhHf+acxY+ZUvPXW65gz9zv8+ONJkq1CM7LgzTerY/r0yTh67BDl1LvWVxpVhSuGZNWo8SbCwkrOT6gcnFW5bL3SPmDd6/rHM6cxd94cPPTQA1i2bIkxsM+fPwt//+V49923zciVs2f5zmDoqoM9Tp48iZEjR5JsjjWr5rnM2BscClSy7dwKXF84tXE7hcDuzfTZZ5/h+eefZ72GmeFnIjBLly7GnXf+yYy+uXBBvYS0mXm+HSNGyo6SbdaB/Gx92jk2M0lstNzz9Y8SxOZauImNWe5Zbr5CVf3hbow8Hzt2HOPHT8ATTzyJr7762owx1KT3M2fOok2btqhXrz5JTjIruWolc8p+I0iMvfv2o0fPnj8ZYqPhAvqimZySjLferoGGjRthF9n+eT4cWqp4/4H9+Pt/+Hv07tPHrCqi8Iqnn6eSad1KSOawcLsqmv8KfyOvr3C3A6sDAnH3n+9B/wEDzcTf0z+eMQTnhzlz8Ohjjxt/X/FuNZzjWmJjQ3h6bLxDl/9QbM9ryTtFeyUClcr2p8UDjHVX8igZ8SZCBuLO/J34tMuneKfGO4iOjMali5eMgblp42a8+fqbpvd37569RjQjno90qgKyFY4cIrF5QMSmnKuiVRYlyinjOyc7B7169ibZexvxsfHmw5J0tSlpE2q9Vws9u/fEvj37isW7ZXAfNKe8iI0KUrYFO7wubwM0+kDnI4ePokmjJnjt1ddw7Mgx46Y2mp6WjhdfeAmtWrbC6VOnrfstbIulwsehXwb9WWJzxRCbjm5ioz/n16NqDofYrF692mtVNG+hpbiqgYzHnbvy0blzRxKINxAVFWHmXF68dB6ZmemoVu1l9OzVnb+rfJ8YMmCJ3q2YHypSkZcnYvMWjcJgunnrpHLwHpqu+tUEdkH5denSGS+99CK2bt1i3DSsfc2aRLxNe0O9kLt27SyW1s0H/6fh6BAb9RapfZTt8JXercL1D82b0Vxn9c40bdqU+nyb+s4zv+fafDQ3LwdPPvkEPv30E9NzqXqxIzI8dfXTQ/E264EnTAWJje/D7mNjiY1zOATndh1i3V27dsPDDz8CPz8/U8nO+NbONHifeOIJxMfHG7efwiF9SeYePXpg4kTNsbm9h+QxK59Rb1oo4KmnnjKyaa8duQny/6d/+ie88MILOHXqlJmDoXi3W6fKPyw83NTzipXaoNNOkrvdh3Q2atRo/Md//A5ff/ONeZlKX3rZLF68GPfddx8mTZ7sCn37Du9nV8+L2uOtmWNz7aF8UlNS0LZtW5fLrTmcdrxl8xazG3etWrWwdu1aaP8Y6UGTL+X+7rvvmUVJFN55x9yKQ/kdOXwEDz6oxQPKMxTt5hzebUQ9OCmso8aNGuPNN9+kYbLG6MHUXWoq6tevb4a4OHryjnurD32tnDxlMonNK7xTHctg/GkfWgBHOtZQIX15rV27tvsjotpiZmam+VD38ssvIyMj47bruCyH81uhd2DHTtqg89YcapMiNOqx2bt3r8v11h0bNmwgeahhnonNWzabFTv1O6reI9Vrvfr1TH067xGRAvlX9aH60LCw9957D6FhNzYKy3N4P2POe0HvyuzsbPNeeO+9d8212oPcNcFd+pH7+vXrvNpz1bRp5Sn7ZfTo0Rg/frwZDv5zP1Sf0nNMTAyeffZZtGzZErm5ue7fqKNHj+DVV19FzZo1DfnRIdr5U39v3OiwQ9F+wcRGPwIyhp555hlTSFWmZJIR2a2bCM/DZvLUT8XolWz6UqCxpT8FYuM8AJIrMjISDz30kOnSVB3ra8ClS3ad+X/4h3/AAw88YFZMUxw9ULf7kFzhDrFZ8dMhNmfOnEHv3r3xj//4j5g3b56bOGrzsmXLluHOO+80X4xu97Pjnf9PgdjIaL7VxEb5yqBUufVj36BBA/OD67RxGZByr169OjZv3mzCO3q7FfWnPPQs3g5iU7J8KvuWLVuMYSYCqGu5CRozL9299tprRk+Keyv0U9ohmSZPdojNrWvHFT0cfQkbN240H+REqPW+1aH2KINFv78iPTKcnTLdTj3f6NAzJPlEbDp16uRyrfpDurmdxCY2NhYvvfQSPvjgA/MOUf3p9/TEiRPmfaINMvUBQO7OIZmrui6V344dO4wMGrJUFYfKoLI4yMrKwltvvYWGDRsae83xV/kbN7YfSfTxWe5VWX6V/ZdEbKQrlUm6DAoKMr8RIjayL/Xc6XdNdvAbb7xhIEKrw7vN/VyPXzyxUWVpQra+Yom1yohUpcpQ6969uzHU1ZNzvR1xb+UhfemF26tXL0yaNMnlevsO6UoNXdCGXY888ghGjRqF48ePGz/HKBexueeee9y9Dz8FEqEH+qdIbPTQ9e3b1+hs/vz5Rl9qfyI8Mk7//Oc/GxIh+W/n4f3s/lqJjXSgNq5yqxu/Xr16Rg4Rehki+sKoL68ykLdu3VpMZ7dCN8rvp0JsdK8lRGUUyegWAdQh/YnYyHDR18G/EZvyH46udFaP4WOPPWZ0rOdSh3SsL64ijyI2aq8qk8L/lMumd4lk/LURG/2Wqp6aNWtmCKkOvf9FVPX81KlTx7xnHMPUMTa9371VcSgvbYuhL/j67bzZh+raG8pP74bXX38dH374oWnDKqvKqXdJkyZNjNEtIujEqapD+f6SiI3TdqSzwMBA3H///YbYOB+l9e7Q75iIY7Vq1Uy9K6z8fu7HL57Y6EGRYauXiArpGCRiqnqRPvnkk2Z5Rf0w/FQOh9joh/d2H86DoYdEP5ZPP/00Bg4c6P5S+P9v776Db6vK+/H/42S+OkImk8zoJEQTRbEAItKL9BZp0nsTBUOzABcuHTQmgihFekcEQxEYiFF68edIk6ZUExkzEY0l5q/8t395rXufy7qbUz7t7L3OOfs988w5Z6999lr7Wc961nqvCkjO29/+9tSLqLC4vyM2/cFpIwkrrrhideGFF6Z0skcV2zXXXFOtvPLK1WWXXbb07vaQl91pJTYBvYdGIkyZ0GPOX9CD85z0NuphVUE3DXnUFrHpBXmkcU1PbAX4W3oK/blHunP7ahrsaZyIDUQa6dIMBESbbl33+dprryVb1EgxjYl+2Wibeh6GSN+0ERsjahqU2kvhN/Sgm4omX/fcc880kiGd9BPtk9z3jgLi0sA14joKYlMvZ36z5+g0Ejdb1t7QnlwyzddUtP8vpW2UtjypxAYQQ2035JGN0TGbUu50+uucizVF/jfumHhiIy1GGNZZZ51l034Io8VeFWCNFtfaTmugpBGbAN1okHDGGpcKQehLz8o73vGOap999kkjD66HI24TCnWJxAZMOXvve99bnXTSSUlXKizE5vzzz0+jiP/8z/+89M72kJeHaSc2FlwedthhqeFoSibnTz8PPfRQqniFqZTjeq67UUI8JREbU0mUNz2w9CTf6MRoFt/x6U9/elnPYFM66gXpGjdiozFCZ+ouDb71118/5T398iHWe6nnLBKO6zrySsa0EpuXXnqp2n///VOD3tpV6aEHozeI6aGHHpqmhIVdRn3ahJ2OktjUy7z3MatGW0xZRPLU0+xCXaMj5IADDkj68t/6/xcSysukTUULQR75DCOBCHPU4epUnftskc9owr6awEQTG3FraGvUanxomGmgyVSNcQ1xDUuOrTRiU8oamxw2NTB9z5QSZDBY/xVXXJEKx9VXX72skU6XbRcS8ZdIbDhQ03T0YB988MGpvNCXfGePnE/0dreJvDxMO7HR8PrmN7+ZFrPa4IFfoYcbbrghlYdLLrkk3cPGpLUpXyIe9lMKsaEDo5Bsm57YDT9x9913p+ktdKjxIN1N6agX5NG4ERt+g7A9jS+LgR944IFlBMZaUVP9HPToN/sUVjKirpgmYuN9zXLgTxEbnVjKiDSpr7RVNKx/85vfLPO1QWyaKDOIjbI6qjU2OdinvHdAqc2H+Ak+g43fddddqS6kJ/eM2mdIyyQRmwAbor8TTjgh2VvMUKJLHaz8yDe+8Y1Udxk1hCbsbJSYaGLDUXAYduTRuF28eHFyYqb9aATst99+abtHPeWlVAD0VRqxoRu6ZPQIgkZL6I3zPfbYY1ODT7qln2Py2bZOo6IojdhIl4LHHmMqAt0qP9aDaZi8/vrrS+9uD3nZnXZi450N5xtx0Djn49g/nehRtO7BPX/84x+X08+oIY9KIjbeXQ+0fDLibMoqW1dxIvEO23OPdOf21TTY0zgRm2iIICzSyt5MIaFXYconfRutoWO+l09xb5P2OFuELUwbsZFnDmS2OF6niPxTTuShssPXyGt56H7tmKYQxEajcFRllH0S78UGYnSGP0Vq+A1kh2+1cUATPkN6Jo3YsHN25N3MWDISp8NJW0g72CZFpqHFukf1l88g0uOKiSc2CoSdRuwKYX9yZ3FwJDL04osvToU4KosSQF+lbfesUNCjT1PQNAhOP/306qqrrkrfjTLE1Cn3B+tvW6fSq9epxKlo9GQ7XL0oX/nKV5JNss0zzjgjDbuX4FjysjvtxAaUS6OTp556apoyaGRCnt10003J50mjSrlJu5dHJREb0ChRiS5atCjp6NJLL02NBenTEZLbVVuQR+NEbDQA6U1d5ROp1gjWqcR3qMvUaUYQNc68j//wgSU3UqLBOm3EhvAnOknUpVdeeWV1+eWXp90yjbwpQ5F37vW9CYjLWi2jRoiX36MA/ZN4L++LpGv3mPmhbcHP+h6+ddSQlkmbihY69t26O+922mmnpZEatmeZhvW82sjuic6QJvQ9SkwksYk484w19KtRZnhTgdWryLFwHJHxJUA6SiI2QWjoMfTJ8TEYlYJP27pi/1BSoZDuIDa33HJLanSWBETLaA3STY/Wa+R7zLdtk3n8HbFZUhbYvt0V+RH5xudprIcPadr2xVkasaEDHSB6nenIjjxGEUJPJUAax4nYRFnM02kRsHVMpu/Qs7IZDZSwxfheKqaR2ID4EU/raPgSO7MiNHZL08hvq10iXdofRk9MWWoK3lU+yA8jCnTBf8ijpvQgnkkjNjnC3uiYvV1//fWpHcxnRJ3uP03b3Cgw0SM24o6K1Cc2SvR6xShN3FNKZkqHRoGpaCVsHhA6CvjuGpLACdBjXihC3yVAWkomNkCXMbc1bFK663pvA3n8HbFZgtyPRL71yq+m8k48pREb+ggfS0dsJ2xbg60pmxkEaRgnYtMPdBu2SNgDGZf3mVZio4wQ5cHom/dH/OWna/QivCk/EqCXNogNiJsuEHa6YM+uhU2PGvQ9aVPR6qBHndDamDr76Tjg/fO6fZwx8SM2uZPw6XdUrk0WmplCWjjc0nZFC9AjvQE9arDoCQiUpEtprRObktIXoE961EAJWw3bbBN5/NNObOhCvkTehO33yi+fTeWdeEokNvQSevIb/Pa9Kd0MgrSMM7GhR/YX4jddB0rQ8UzATqR1GkdsiHeP7/y/upROovw0DXG2QWzoIXypz/CtEdaEPYt70olN2BY7k9ehb+J7E3puAhNNbCAKRYjMzH+XiCA2Kt7SQGdRGKJgtOGAZwJps3nA3//93xdNbIAOcykhnXkauhGbJfqIvPEZtu93rqv8+6ghrtKITegj/EToo0m9DIN8G3diI80hofNxQ9jHtK2xiTyTj3lHq9+5X2ka4m1zxCbswSdy06QO6H3SiU3YVejVp/fOr00CJpbY9MqoKDjEdxkaBakklDpiEw7XZ4wucMql6S8gnb2ITWnplU4iXaHPEtKYp6EjNm9ukMT3gO/136OGOEojNvQSPlb62HTYdVxvG9IwzsQmT6/eV/odR0T9O20jNt5ZGojv4Dt9RF3QBqShLWIT/iHeP5cmIN5JJja5HsNfhM01peOmMLFrbGRY7iB85pJfKw0cbonn2OROOHRXov4C0jsOxEY6CQzSa9PpzuPrpqItyRPpCL3Ed59BdEgg/z4qiL80YgOho9BP6CKutw3pmYQ1NsoiYlOKXmeLaFRNK7Gp55vfIW1Amtqciib+vN3mN2kCk05scnsLvbZpa6PERBEbcTHOYXBfnsklQZpi84BSiE1dTyXqrRfkccnEJicIkaZ+dhnpbjLteVzTTGxyvfuMd86v98KgsIWCOEokNkBPegbDJ/ez7TYgLeNKbPK0zkSnpei8F6aV2AS8u7REPoa0Beloa8Qmh3TkBKcJTDKxmY0u27bBhcCCE5tPfvKTabvCDnMDg7KlrO2e7eveYW4Ix2j7TJsHOGcHsWnaWU4KTD3UEERs8s0ioAl9ys+f/OQn6YBM3zu8AQ20VVddNZ0d02Fm4Ac0XpzU39lTe5APYIemI444In1vAnyWhqutyDXkOyyBsvDCCy+kDmp15zSBTWi7OlfOmVCdXYwvEBtnqNlKfRiGEpsf//jH1S677JL2xe4wd3C4DurqiM38wFE55yEO6NQ457g7YjN7WMhpzZcyno/YNAX5FiM247qeYKERDfLXX3+9WnPNNdPhjB1mBg1qRH3LLbfs/EGLsPUs/WszHHnkkUuvjh7iVG6c/xMjNp0dLMGzzz6bDuh0lsy0AbHR4YHYtDmS12F+QGwcor1gIzY77bRTGlbuMDdwrkZsnCh97rnnLr3aYS7QAHd43WGHHZZO2o1DRDvMHkihnqzHHnts2fSRJhsCGvEOMzWtsMPyMGLz4Q9/OJ0+32FmQGycur3pppu+aQSyQ/Nwbgk/3RTkv8MKb7/99lR+OrwBetltt91S3TltMK0Xqfmnf/qntCSgw3giiI2Oi2EYSmycLv13f/d3yUlpCHUye3Fg0quvvlqdfvrpaSjN7173dTJcHPZlKPLYL34xrbExEobc9Lq3k8FCbyeddFIq422N2Lz44otpxEZPK8dlFKlXWqdJ2PgvfvGL6uMf/3h19dVXdzqZoZiWasTG1Ok//vGPyZ563dfJaEU+sOFXXnmlUWIDpr9p+Lz88stvSpdyNI3Ctxqx2WeffZJu8vbHqNsivdLTpFhHqu315S9/Oa0nZReu9UprJ2ULUmrG0/3337+0tPfHUGLz0EMPpaH9Aw88MC0ENLSsh9X3XEwN6mR5Mb/4qKOOqo455pikt/e+973V6quvXp1wwgnpOqffT+r67eTwZHfWKSHaf/VXf1Vtt912Sa/C6Pszn/lMWq/RT3rpedKFTnzSUXyP8qtMq+yU8baIzdNPP1197GMfS4s7jz766LTBhk9lJ/J9moQds1X+4S1veUu1ww47VIsXL06/e92fS+57pkn4AJ/8qo0DVlxxxeqUU05JhHmY3vxPeehk5kJnvXQZwn6V30WLFlXrrrvu0tI+evAnyJSZEWEbbCDSza9MqrDzQaKM/Mmf/ElaVnDiiSem/FGX+q96YRSirhFPG+Kdtbu8o0/Tetdee+1kB3QR9WMvkfaDDz64r7CpXv8rQQ455JCeaZ6JHHrooT2f2bbID2lTns0e++53v7u0xC8p87GmL8eMiM1WW21Vff3rX68uu+yy6sorr6wuv/zy6tJLL10mpkvkv+tyySWXTKXQi6EzOzmYgrbFFlukjLniiiuqb37zmz11FULX9NzJGxI6dR7QJptskpzyRRddlEbB6NN34STPh9BphE2b0AF7it++0wfb5DAefvjh1oiNnsTNNtssLZKXnsiryOt6Hkp7vIs8n0ShB/5ihRVWSDbufV0TFnroJaGbaRO2oCfP93333bf667/+6+qaa66pzjvvvOVsp5eEnXUycxmmU/fwxe7TCdUUTKP9t3/7t+q0005LJPfkk09O5IpY30rUHdMmxx13XOow+rM/+7Nqv/32q84444xE/ozW09GoxPPlQ1viHeW5/N9ggw2q9ddffxnhcf3444/vKzqT+oln9/pPCYK09krzTKTU92K/CCpb1n62aZSyrv3QDzOeivarX/0qDTEb3ouhId/NZfaJNXWyvIBF0fTG4Z566qmpsvWb3jQmB0mvZ06z0KWhczu7cFZ2vzHlJLafpTPfc90x/lg3kut2WiR0Qw++K6vxabqI6ZFtbh7w0ksvpZ4Y0+KkybXIu/Av0lvP10kV709Mn9hwww2rb3/720k33p8dhy46eUPohW3QE4LziU98Itl22FKUhV6S67yTmckwnRLtAwu19ZA3BXZgarIF8tbumXIU9azPXu+SS/0dxknCf/QSdSR9GKG33XO02byz79GeW2iJuqYN8d70or1gGYXOZW0va53DJup6ysU9/SSeX6L0Su9MpeT3AptA6OCzeVSU2X4YSmx+9KMfJZZkAZaXzwsScCbRcBwVRv38USHS7ZOT12tisTY9dpgbFD5rbEx3uOmmm1LlBexxXO2kLah4zDt+6qmnlpVnaEqPHJPtng3tR/w+lY9haRA+icK3+vz3f//36kMf+lB13XXXpd+Q51E/5M8alci3Xtfbktx2LBBGCHUeSSd/Mc7wfoH8+zhAg9q0n6Ygv23nq37QgI38j0ab32ykn8wXJefPT3/600T4dQZOGzSIzzzzzDRSxS4mHePmJ2YK5xGZOWY3XGVamfWuvd53KLFxxoXFmBagqXTDWXio72TU6BWHl3E9f7H4XQoi3dLE4SI2ttctGaHPfvnapn7FzQYd0GnepV3RNGBKwCC9zDVsFMjLTBzQWR+xye12lBDPc889l6bDRYM+Ghl5OkeRjnjmTJ8/ijQMgsr4/e9/fyLvEPHTS66bpiCuiDfyJ66XAmlS8dl0AaLiKxXD0iY8yqXvofPSEe+F2DQ9YmM3NCM2OhLpi/6I78Q9/WQ+8OywNxLxRZxtQhrMGLEmVd3ZJEIXdYSeRoV4PrGJiN0SreMc913RZqIzdljHKHXdFOSjUTfkfFi5mjWx8bDcUfQy2lFB3PEyPiP+vKItEdLK4ZrXadeeEiGNoceoDHqhV6FpCtIoXSUSm36QZlIK8rTQ3bQSmxx5PBFvoB53U/aP2KyyyirLiI105RLpbRK5fnxGPpUCaRknYlPXXeg2BELX+e/SEWlsi9hYXIzYhO5Cz34PkoWA57A7/iz3Y21C/EaALSlomtgEch3TSZO+gx3aFc2Wz+NObIbZk/C6Xt3frz03TkBs4oDOQTqAWRGbqCjiM2TUEEcUhkCkQ4aZUhMNo1JhjVLJxCZ02U+Hcb1NHYtbGsdlxMY1eo3yUgLydNDdV7/61XRWVe74wjGOOs3iaZvYeLa4wr/EaHQ/5HoaJWxbmxObXC+5bpqCuLw7EX9M8fG9FEjLOBGbHKHfSHPo1Wdpeh6G0HnTxIaONFwRm34NWGnrJ/OB/+d5tBDPXEggNqaitUls6rbdFKy9swTAIZ2Tfr5RTLvMbc/3puqtUQKxsSnJTM5imjWxgbrSRg0FgURcPqVFJkZF20Q65oMgNqVORaNDOqVPugwdQ/69TUiH9JU+YhP6klbieyk2mqfDVDRrEqyjk86Ae2DU6RVPm8RGHBFP/tkv7vz7qFEnNrkd5elrCuJSYebTkJuMfyaQpnElNgHpDf3K88jvOkp+r0hbm8Sm6QasuMPe4ntJ9udcrDaITegjvoc0iajnyCQSm7qO4zu0oe9RIYjNgo/Y5AprE+E4OP6QUtLWD3ZrsV1dacQmCgJ9Ri9sOOTYOQXqn21AmuR16cSGjqSTLqMHhU5db9PJRF77JBy+XixlXHrze+L7KCGetoiN58euPb5HnHnc8T3gd1MojdiAeIPcRH6VBOkbd2IjzZHX0XFHAuPwPpHGtojN7bffnurbNuDdI89KyivEpo2paHQQ5TB8l99NwoiNem4SR2zC3kKn8TtsL3QOcW1cgdg48sAhs95p0PuMHbHxMpEOmalxogKIE3RLzUQFyuYB1jSUhNBnfGrsGl3yXQGh37rO24J0SNM4EBt6VLGzSTqT7tBzW8jzGqTREH0/YjNqiKdNYpMTTvlEHypBNuV6Pe6m9AL1NTaRzpBR6aUfxBXx0hV/26Q+ZgLpGWdiEzombFBF7ho7DYzD+0Qa2yI2d9xxR+PEJvINvD9/pl0S19qGqWg2D/iXf/mXpVeaBRvmX+mjl28dJWz9bn2Num7SiE1ud+yN3/Cbbuu215S+R4UgNgu+eUAJipEGonDo1XzkkUfSWQ8O+NNT4/yHaLCUlJGljtgAPTGaJ554YtkBrL///e9TGF0Kj0LSpk7FXTqxkR6HTrJJB9TdcsstaUtj6Y7Gads6DEgrZ++sqmkiNvk7itcWoCp8hzpeffXVaZ98DSRh7pMeWOh0DEKvXdEi3blumoI4NUxeeOGFlCaHpJXWSJDGcSI2vdKGNDpzhI4dOMovg3cbF8R7tUVsNHx0zjUJcYfv0lbSLrnxxhuT/7///vvTVrVtInZFsz6hqTIhHvb885//PE0PtE1v6EFYU+lgh3ZEs4EA+xhn5Hpjc77rfH7llVfSboCmatmBF/IOkUkAX2jzgCA2gzB2xMYLaXA4dOnmm29O+5M76dh5D7b0MyIik6OhVAKkQyMAsSlx8wANXA0WbHjNNdesDj744NSwKg30KF8RG+fYlEZspO++++5LJ/jS5Q033JAOBvP7ySefLMomQUNVT1Y+YgNNpVFZRmziHBvx+gyHPSp4djhGpAYB5TuQGoRUBcinKLPuY2Nxf1NQ/t73vvctIzYBaW8qf3LoDdQ4kp6dd945nWD+zDPPLA0tA/IoJzZt6Gk2qKfPb/WaBopT0nfcccdlDfTS3yVHpHUap6LJryuuuCJNe9JRQpyarq3yu9/9LummaV8Cyu62226biE1T8WtYa4tdf/31aX3P/vvv3yixoGuCTPHvk0Bs5J13Uk/yyWYY0DESvcEGGyT52c9+lu6ZRGKTT0UbhLEjNpGhTz/9dHXYYYdVixcvTvNHNT70CBxwwAGpQWnEoYT0gnQoUKUSG4xfA0+jzqGATihWYEqE/P/e975XJLFRkbPHXXbZJfW6slOjYBrup556alFOlU3GEH19V7Smyg3nZHSLfnKH3UT84mD3RmeMGOkJ4uPkoTKqDDz44IPLKo8gXE0BsVl55ZWTjZcAlSSiR1/qgz333DMd+lcS5M83vvGNapNNNll6ZbwQZfLhhx9Oea8halbCuCHKb1vEpo3NA8Kf6NjSBtGh5VBz+WfnycMPPzyN3BjBaNKPBHJi04R/BXWK0QOkbquttkpEnT6ail88dB3ERl1X2ijzbBG6817qJFOCTTO85557qlVXXbVab731UhlwX16nTwLqxGaQHY3lVDQ9zSr8zTbbLI3QcCigouVUONMXX3yxFQfSC9KsQJW83bMG3KOPPpoaBUZsOmIzO7A1U8623HLLpD+VunxXbkz3cl1DuRRI27QTG72rpobyb6ZWxTo9drXrrrumRjKCwb9IlzLSlG5KIzYQPbA6lPS+6hksCWxonIkNsC96NWLTEZvZQf63RWzELa+0R7bZZps0BY0/4Vf5/a233jqNGBi1aRryI6aiNb3Gxvsb2VUn7rbbbklHrtHXqOG9xTNJxMb7kLye5Jed27TDDjukEZvoQI3wScFEExuQltNPP71affXV05oQBYVwGnpfER5b2DZReGYKQ+PHHntsde655y69Ug4iX02X6ojN3KDRKz0rrbRSdfzxxy9zPtJ31VVXpd6U+rSiNiHPp53YmH4pbo2Oe++9N1UQ9MB3mDqhHJgfHnlJmkKJxAb4sWOOOSZNRTMqWRLk06QQGz2vHbGZHeR/W8QGzBzR/th8882rBx54IPkTunj55ZerjTbaqDrooIPSGmDpbBLS0Cax8f7WxJrCqjMp9DJqiIOuJ23EhqiLcjviJ7TTdYgEsZk0TDyx4UAM7X70ox9N85H1sspojXHXP/KRj6TGrwJUChTo4447rkhiE41JPSsdsZkbpIPjfPvb356mNSl4rrHNb33rW6mR6nqTjeNBkN/TSmw83/s+/vjjicDoYf3xj3+c8srojNFe10yfiMb7MEe60CiV2KgHjj766GrvvffuiM0IwMYQ7nXWWacjNrOE/G+T2OgYRB522mmn6qmnnkq+TJp0BvAn2lGmJue+tgnID8TGds/qzqYgXm0wxAbhM6LQZDtSPPQ/ScQmR65Hnfrbb7998htGbyYREz8VzXQIvR/YqYKqQQIcqWkSH/jABxLhiSlqJQCxKXXEhvNhKBqZFt7SbUdsZgfTDo466qjqbW97W7I9+qRD143UvOtd70qOtelKrR+Uo2kmNkbYrGXYdNNNU4WL1PMjrr/00ktpFGfjjTdO0wvdH2mSziZQKrHhx4488shEbLo1NqMB+1trrbU6YjNLyP82iY11DmuvvXYazdRGoQd+1XpfHShIjw6UNuoA6zCaJjYgT4x6IzaxxqYp0L/4J3HEpg71hTrL5k86/icRE09s9D5o2K677rqpoGqMQBCb1VZbLW0JF9dLQExFK3GNTRAbjTtksSM2s4d0maKzwgorJGLjtwqMHq3feM973pNOPi6hDIF0TDOxYfPWlG2xxRaphxWBkQbxS1OM2NikxP2RJvc0gVKJjYbBZz/72WqvvfbqiM2IYMTGbISO2MwO8r9tYmMKoXW+Rimkh+hN50sQG76Fj2kaiA1ype4ctX/N4V1NvzvkkEOSn41jJJqA96T/SR2xycFP8BdmKyGSk4iJn4rGeWlE6tWyy4dGmQJkUwGO1HCc3Xs0ektJM2JT2uYBYRzxaWrJhhtu2BGbOcLi0He+851p3ZdCSK8cua3Ibd0bo3V03bZdin+aiY34TAvRi2gI31k+4nY9pqipiKPx7nqTKH3EZt999+02DxgR9Pbr+e+Izewg/9skNnwI8oL0m4pmxog02RnM5jE2JNEp25R/zRHExhqbJn2ZuDS0+fiO2CwMvFfdhmwTz/Z06sdo4aRh4okNQ0UQ9GppRHKgGuIqXb0lttvV06qhUgLojcMtabtnaYr85ICNbjlTxPQbvSuMqESUTGxUGu9+97vTuQVGBNgpPTo0y0YX0l0K5P20bx6gkaGRbrHv97///VQGlAU+zwYkRlh1SLQBFZUptbZKLQlBbGLEpilbmQnY0CQQG3ap5xWxUUbHDWET6mWje01B/rdJbOSbKVdGge2ExpcQHYaIqjW2ynUbkDb2dNdddyU9NQF2oF5Bqqzb1YnU5K5w4veu0zBio51hSjViY40ou5s0TDSx8UIas0Zq9II4oJPzd12PibSeeOKJycGVAnorjdhANCKjp9pUNCM2SANnkKMUklgyseFQzHPdZ5990noNOtUQPPGEE9K5H3rxSoF8n3Zio/cQ6VThsiVk1HUjbMiOAzt1mLgmfU0iiI1pjCWADoh6AOHT+WHKVEmQR5NAbDQEddqp35rs4V4osBOYNmLDV5x33nlpnaqDOdVN0uTAUPUCX9NWhyFio0e/yXNs+HJ1jDPybOq0xx57dCM2I0JsHrDGGmukqX9N5XGTmGhio1eVA1FQTznllLS1rvmsDsPiOAx9P/TQQ2laWjQuS0CJU9HqkNf2Qbf4sV44NPqgbYJTMrFhm+eff36acuCgNtNI7rjjjqRPjWU2Wgrk7TQTGxAPMq8jxPkTGpT8nK3kjzjiiDQiQS/S1LQfYSurrLJKMcQmwO/KL40kHUml+FeQlkkgNuozazWMno/jfPkovxoiGrRNQf63RWz4Cf6fL+U71PM6texQdfLJJ1eLFi1KGwe4pyn/FhBfEJumt3uWJzpAnGGDqOv8a9K/i38aiI26yzouIzal7Va5UJhoYsOB2GnKUNtjjz2WyA2nwXCtu7n++uvT/PRYEF8KOLlStnuuN9QQQDvxIIaGzO2eYgqMxhU95o3etlEqsQnip2JdvHhxahxfeuml1UknnVSdcMIJ6XoJ5ScgLdNObEAPIjsymmpzB36ET7EQWAcKXyNNTYO/RWykrQTQg84OjUbE3YjWDTfckDpswvbbBhsad2JjR6Nbb7017W70sY99LOU/3+HdSvLDgxDld5qITUDPuU4sdYDt/XWY2NDISElbdZX8QGzU600SG/mhLaZzzzQ4Z/n4Lm+034SPEt5bHJNObJBnfsL0VTo2DdJo6aRhoolNDr0fhjk1jgjWGls/M2aVcSlpLonY9AK9KfR2h9KLXZ+KVgpKJTb0Z5RQgWOHFqbrqfK93vArwSaloSM2S0APFsJLC/s3UiMvIYiN9DUJ/vb9739/UYe6smMNFed12FHOomjkz/USbFoejTuxoUs2p97lQxDvcSE0dUzbVDR5p02C3Jh2rIzYiCQa8soIqfuSUfsWcQaxaXKdp3jZsjxRx5hJoxHeVJ0dup50YqN+YnMOhUWgdUiX2n6bD6aC2EhLpCccShjysJduA4hNqds9Q11n9BmNzLhegk5LJTag0UdHdMkmiQZy6DCkBEhHR2zeQMSZxy3/omex6XSpnBCbG2+8McXfNrw/8h4NtEBb+dUL9DTuxKbuz+iWHY4j+Jdp2hWNr0f0QbmQb/yqPIwyoqHfRn7qYIvtnpuE9879F73QSehmlIi4J53Y9AI9TxqmhtjIvCg0fisoKl+FJn6XkuaSz7EBugoyA76XCOkrldiotEhuk/SosvM5akc+G0hbR2ze6CEPuxd3iLDIy6Zh8wDE5tvf/vayvGlSL70QOolGic+w67bTBvJq3ImNMkmf3oUgkvWyGbZaOjT0rTdpCvTVJrGRT0SZIOHLfEqbz7x+aBI5sWmyrIqLDRPvz2c0BXHT9TQQm/DBdMz2YuZSk3k9aiw4sdl5552LJDYgI0l8D6fRZqOkF2LzgHPOOWfplbLRK6/ptG0bUIA5Z9tqIjYqihIQNhiQTtfoKxqAJdmjdJVIbKSjaT2JL+KUhkhLLzSlmyA21rHklVZbED+RlsijXGclQHq+/vWvV5tuuunSK+OHfnlMx6HzvKyWDJ1OtgZvCnTTFrERt7wjeXl1PS8ffgeaLDdBbKyxaTLeiMsnvUQ9mOthVBCneKaB2ITfqOftuPiKmQCxsW5tQYjNj370o3SwkqlU/Zxuh97IFU9/zjexQLnD3IEk3HnnnWlf/FtuuWVZz0TJCAc7qCA2DWWZo/jKV76SdusJ0up6lPNRVz6ebz0XkgriV/FNkjOeK1TGiI0tp8NuOr0MBrv9x3/8x7S1bof2YcSm6alo1n3ZXtlnhyXgP+yupx33r//6r0uvTj74A/WaDjyHZxPEt8N4QnvFduo2oFDW5W+/NtVQYqM3V4EwYhMNng6zA+UbsbF5gB7FDnMDPWrc6XXSGLYVbikjNuMGujRFDrGxu2A0ml1HLqAJYmOhvrwM39LPUU0bbBX+oQ99KI1K0smo82ISwIa++tWvdsSmEBixaXLzAOVEB6Ie3Y7YvAF6sXmAdlzTU9HahPckNrFAanR6aId1GE8gNnbujZ395G2/enHGxMbUiH4FYloKylxBP7bxtKXsuExFKxEaLkZo7Pxh+pJpOrFYs8PsQJd0x+Er43q2Ak3Nz+WUnnvuuZSXiFXE53PafYoGmgM6jUrSTX3Rfoc3g00bEd9ss82WXunQJjQobXXcFJQPU41MRTP1qsMSKBeOc7ArGtKX+/pJBVvw3t7Vpj6nnXZaqusmdSraNCAfsRlWF854Khrj6MWORDCbCjfur/8nvz5OMgh5uIaKgwAtbu0wd7BBw+mf+cxnlhuxGZYXHZYHPdKdERtlPJ/S11TFJw22WQ5i47fKqMvLJbuiffCDH6xuu+225Uhfh/5gOzZnccZOp6/2wb80ORVNnqtn9eh2U47eAL04g0o77vvf//5y7bhJLSd5XWJa75e+9KXU6dGN2IwvYo2NpQjD7HZGmwfssMMOySBiikqO3ID6SQ73hwTivjzMM4nv9bD5hkcYmU/c8V/SC+4F4XqQPv/5z6epEh3mDjbIsDWGnfER541EfnQYDnqKucecvXNJ6DX015QelQ8jNoccckiKX5pi95xph/MeVl555XTgMBsPX9KhP9iNBcIOqQty3vmE9mBEuMkDOuW/evauu+7qiE0GvkMHks0DjNjwsaBsjMLXem5IL8wkbL7h3is6hHTKOzDbBgLdFMXxBWJjVzQzdtg06WcLQ4nND3/4w2r77bdPPSHR+ImHxoPz37ORSNSkShQuveEcrlPojdiodPVmmYNcF9dD/G+aJH/3XHL9aIzrkUMSLRJl7L10t9CSp2Eu0uuZpJceFlpUZD7rcdPlGWeckYgNW2WzOeq/Fxp8wPPPP5+mq+Tp65XWaRJExsHDa621Vlpj4/C1yMte90+j5GWLvoipT0ZsNODYtob1oLLXyWgk7FSDso1zbHR8GaHg94h2i0/1ru/TJt795Zdfrnbfffc020HZ0C6hjxgpzyVvw4TkiGvuzZFfDwlEWB7ue6BXeI56WB7e67/qs2h/Wa949tlnp2UAOoxci/D8eb2ek1/LZT7h8/kvGRQ+n/+SQeERNiy8VxiZyX/7hcsr+WjExjoxeci2hfXCUGLj9FwVxc0335wKxX333Vfdc8896fsPfvCD9J3ce++9fUW4e0PiP73+m1+Pe+cTPijM53zC6xJhcb9hX5nA0Zo2tddee6XFlHRo7nzIrbfeukxMPZlmMT86/53rhq5cM1fWFuQ+zbfspceFFs9XBoZJno74T7+09XvPhRTPRgDpNa75Hr/tLvfwww8vq+A4Cp/Qz2ksFMSD2Og4UV6kR1rlaaR92kS+sBf+wq5oehl9j+t1e5sGCbv1/iH1exxkagTXCME666yTeu2dATStOmtb5JdyzE+P2o8ExKNH/vLLL0/xP/jgg+k09vjk55x+P23ivbVBNtxww+qSSy6pHnnkkTQTR9uOWGNJ7I5JbCYTkl97/PHHl0mExfc8rC7DwgfJXJ/tfbyjjnl5f9RRR1VHH3106u13PcQ07F7vHr/r1z27Hh5hEZ6HzSZ8Js8eFp6H1cNJv7D5PrseXg/zOSg8D+sVLq/uv//+NDgQIzaI+ZyJjUKw3XbbVQcccEDqWXXglsa5NQ5+q0iI766F+J1fi9+zkWH/HRY23/Be10n8t5/EfaEXn3qu3v3ud1errrpqdcIJJ6SdoPr9j/jtEMqQ+r152KSI96rbUlwP4aA0hFdaaaU0RdLIjfvrz2pL8rTm1+V3XQaFLaTk8Zj25Ts9S+OOO+6YOik4iTqxGTXE8/TTT1errbZamiogPXyLsuJ7Xh6mRby7vGHXb3nLW9K8eDYvz+QdImoaZkhc8zmpkr9vvHMu9OW6umm99darVlhhhWrRokXpWoR1MjrhV/LfBx10ULJXa0rXXHPNxoiNXl1TrhYvXpzqWI2g448/PtmCtPjtcxLFO/eTk08+OenhrW99a/IVfK1rvf5LR0Q48T0Pi2vjINJ6yimnVKeeemrq7Fh33XWTHlyr6y7/zzi947SI8mwDiD322CN19A1rpwwlNtj+tttum+Z664ExDQhjMlczF9f0ktWv6ymYVon31wutN/GTn/xkIogaknRJX4OETkPoPcQoUB42iZLbju/0Eb8tBLTDi2lU7s3DOlleQo/xGSMDMSqCSOgJQWyaBuf04osvprw0umlUIvI6z/9pEu8eozPvete7ko27HnkWn675dC/Jr02a8J+9RJh3Zit++47IrL766slPuiZsmPhfJ7OTXH95eY08CT+DmDcF/sSIjekqRuvytEbdWa9nRin00us6ERZ6I73umanEs/oJ/3DttddWH/nIR9KWx+EvQnI9kV7PqMtM425TvIv30xDeb7/9qgMPPDCN7LoW/iN//1wH+bVO2he+xLRsnXzyTlnXkdGv02TGU9HMlzWnzZQVEvNVfRKRxPVOlkjMAzTf2HbPegrOPffcZXN/Q5f9hE57Caba6/okSa6H0CedmTeP2Nk6m4GbV0/HuS120l/C9kKXpjoZ+qXnQD9nsdBgx7Yh1bsbayHqPmYahS74i7XXXjuRT/lEN5Fvua1Pg+3HO+aSh9OJdR305JwwI7lhT8LyeztZGIkyWi+rkTd074iII488cmlpHz34E2tsNIKc2yIdUZdE+ur1zKgk9NIrLCTuGXbfMMmf00vkBT9rjY0OJOWkXoZI/p9+z47rdE3q4aWI9/GO/IKNr2zaZP2dtYu5H+2lh07KE/llnb816mxYG0U+z5nYmINousrvf//7ZNDgYWHY/R7setzX755JR7w3vdk84Itf/GLatUdhCv3NVEKfIb3umRSpv2s4WJ+MXE+RKTsafZx2h5kj9EmPsSuaOazhJEKagLy2K5rpEeL3W9p8TjsscnVAp55nTl2eRPno0Btsx2jupptumnQGnb6aBTuN+k2nU5PERtzOKdHhZeQmykz4lFGKuELi9yDk98d/5ir1Z9UFjIybeWPUiu/3P/mknNT1k//Xb+FxTzxvnIBg8wvW5MauaPFu+bvm71a/3km7gqDG5gFmPNXzqI6hxMbCKgsA7czDEAL9HhjIIx103zSA3jhc8zs1JMNJhMPoJb0KXQj0uj5JEvCdLoLYEIZtPr0KjMF3mDlyfSI2pibovAhi0ySkw+YB5uSrbCNtTaejRBgh//CHP5yITeRNp5vB4Bt0HH384x9PjTbo9NU8wl6NDDRNbPTq5sQmJMKblGHo9Z9RCLzyyitprbTNjcKPyKcgObnk//W73iYZN2gQIzV8QxCb+nuF5O/dSTnCTg2uIDbIeSDyqo6hxMY0FWtDVLTR+GAMCoUH5oYekdQNJr9n2hA6MUR+7LHHJmJDj+H8+0mH5UEnbAqRMWJjcbndd7oRm9khyif706PKHoPYBJqyQ2l59tln04JjacoxrWUg3lsv4yqrrJLWNupVpavwuR16gw3Z1tWIDR/boVmEbwnwL9bwNQVlB7ExFS0asAHpqvuYaQG/8fOf/zyN2Ni9VdmIUbWZYNx9sbarERuHUcf5Rt6plwR6hXXSnoCjPc4777zUcZHbboTnmPWITUQU3+vIw0KmHXRgxCaIDf0Mk05vbwadcNJGbOwgZYF1N2IzO0SZZGPWIWgI1tfYNGV/4nnmmWdSXubxRfqmGSpjxMaIjQZZ6KSJfBlX5MQmt+cOzYBt5vapIdI0sXn99dd7Ept62qYJ/Ib2R2zSomwgNtOiDz39ZiZoe3UHt44v+JPzzz8/be4wzHZntMbGziaG8xQID1RQorLNEWHT3ijJEXriWKyxUbhCb6GrXlLXbYcl9pUTG2tsOmIzHPRWtye/TRVhj/aIzxuCTTUK2flPfvKTtF1s/I64p93+jdg4x8YuPnRCYsS8wxLQRd4L7zt7NhUt/G4e3mG0oG/CVn0asXF2SFMQp3pWveCzwxLID/owYqPu5GeVC5/TMLL5hz/8IRGbfI1Nh/FDndiw4X7+fUbExoiNHsS80UF6YVDYQiBeKKBwkvgei+FGmYbZQDqky84cQWzaRji1yKuoiCIsR+g25qy3iUgr52wqmm0cjTqUgNAf5N/pL3SaX28b0uS0dg6/TmyaSifdGLExFQ3E26SO6CCmhfr0u27/beHXv/519cEPfvBNIzajRj/90xEfkOvIb+Uv/EfT+Qd5fNIVxCZ01XR6ZoNeaav7M++hnLo3133JiMZyW5sH2M64DWIjr7y7PIwREaJ8CIvfTUOcdlm0xibWJ0RaFsKn5DYZ3z3Xd7Ybv8NPhM+FSMeoIF4N4tg8YBJGbMKWfOZ6zRF6nyQgqHZFs0U3DLKdGU1FizU2JTjVyFCf0iNTY2tJmelahLmvBEiHub+lEJsoEJwv3UXBMCpHOMFYuxKO2u+2yY00SmsQG/ual0JswGJ8oFuF0LQIw+B+l1B2ckgP3eWbBzQNesmJTdOIfGFXxHRblWAJQGxiVzTpbBtR9vhYNq0+CH8b28eGHtuCtNjWNSc244awR/WZnfF8j2vhp0tHTmzsXtkU6KYtYsPeosHuO1EHqE/zstFG/onT9temojkqYaERZS10IL74pA9tB3Uhn2GGhet00oTPkKYgNjYPmARik9tYrj/25oBa1/mMSYP3s52/NTbDMHbEBmRkVLJOLveyTiWV1nCqJYGhlUhsQo8+H3rooVT46dJ5Oxq8nJGwegFqC5HeEomNdCkfPh0OxolarOiU56uuuipV8iVBWqed2NCBylVD/ZFHHkk9ehYnOuugbZRGbNjHk08+mXrMzjnnnHRw6AUXXJAqUjoswUfIz3EnNhphpmfGielG+qPBXGLd1guRzmkiNhB5JA8fe+yxVE6UF2fICGurfIhzlMQmoMx5zxDl8eWXX04+NepDU4ls8S9NTfgMcUwSsaEruvVeIRr8fIb3W7RoUSLTIGyS4D3zEZtBGBtiE8YfBUJl6kU1ch3IttFGG6VhVmmMjC8F0lISsYG8cBih0QDXsNPItSXkAQccUF166aXpPojGS5uVaxTqEokNvdCPXWc+97nPVVdeeWX105/+NJEaC2h/+MMfJh2WAuWE7tijMh753CToq21iQwfOmJJPm2yySTrETpraRmnEhv+67LLLUoObjd93332J3Jx55pmp8aJshrQF+TnuxAaRuemmm6p3vetd1ZZbbpl8c123Pkt+v2kmNvyJPLv66qurjTfeOLVNdL7W87BJiBOxcdC6unMUYI/xfmGbRsBtz3vSSSelNsW9996bviM3fG7cT0YFaZk0YsPPhd6UNbq87rrrqve85z3VOuuss+wdx9UH9kMQmzvvvHPplf4YW2JDOBH7s5944onV9ttvXz3wwAMpXAMyMr8ESGtpxCZ0ZMoDY9lss81ShUCnHLTeQhWrHbPo0XSTtiEdpRIbUEb22muvav/99092Sb9668wz//znP58OSSsF0kZ300xsQBqM/CKee+65Z3X44YdXr7766tLQ9lACsQn/ad2iBdnWWup9NZLLXqTNvH3brrvH/W36XDY97sRGup3ttOaaa6YedqOJ4fe83zhgWomNvJNHhE/ddddd08ZLfFyUjTbKhzg1fhEbu6KNAlF/xDtqX+j82HDDDdOJ/xql6kedI+pHeURfo9aJOCZtKlroLPRnep8RwnXXXbf66Ec/mvQ8iWBD6p+JIja9IGM5TwUneiNKdP7SWdpUNI7Ip3ncdqVCDO11T3/C9K6stNJKqVcWNFzAf9qCQixtJRIb6UICP/CBD6QRG41l6eVUzz333Gq99dZLPd2lQD7T3TRPRQvIJ9PPkJqDDz64euGFF5aGtIe2iU2UNdD5YWRGQ5sNW0vGvo2Q6/xgQ6Y/+A9pC2x63IkNKJf0utVWWy0jkRov3q9N/c4U005swAiJDq099tijeuqpp1JYW+VDnIiNOn5UxCby3CcdGHlEJDS2dThrP7Br6yM233zztHSAfYxaJ/Q+acQGwp4CRsfMNtAhok2Xw31t1O8LDfk4FcQGsDgGaytD80dLTCMjLG3EJgqFxvjaa6+dpp6pDFSgelss+PvTP/3TNJxeCnmIAlrqiI3pTCuuuGKa1hegx2uvvTbtcGWKSSlQToLY1HdFawrKRQnEBpRPxMaojR7zttEmsVHOxKkx4pM+jESaqvfoo48mu2HX1teoTPfZZ59EBv0v/EobYNPjTGxCf0jiGmuskYhkzJfPEflTKqaV2Ijfu/OlRuyPOOKINDqh/ETekjZgehxiM6qpaFF/hM8wO2G33XZLU6McwhxA8rQnie+j1om0TNpUtF7QAaIj5GMf+1jS/SQQmTomjtjUMzN+M1pMVWVmyNc8znD4MnaUBWY2kKbSiE3AounVV1+9+sIXvrBsswCQ1//v//2/dJYGg3I9nFZbkAb5WiKxQQgXL15c/fmf/3lam0RPerWlTzrf+973prnFGoQlIIiNBZ2mYbXhCOmoFGKjwvv0pz9dHXjggWn6YNtoi9iwC+VMnMq7hhofoZG99dZbV/fff3/q+BCmwWIqmvWNTzzxRPpf+I82MO7EJtLMl2ywwQZJ53xyNJZDv23reRimkdiIO7c501nVUTpKYrF8m/k2KmIT7xP1h7ynB2TOyIzpeNaagnv5CVNat9hiizRVbdQ6kZZJHLGpQwe//DViwy9HGQQ6oOM26viFxMiITdvIC4DvMkyGmopmkZ5C2xb5GgTpLInY0JE0EWRwtdVWS0PDSKICEXpGbDSuGBS4rlHTJqTdFBjT55xjUwpRoDdpWmGFFdJwu3TG6JeK1mJgCyfb1l9A3tMde5z2qWhg6oSGiNGH2DIz9zdNow1ik7+vOMN+TSVBajRI5JdrwnxXmRrxNfLbNqTZro5GmccByGHdxvgNU4JNXa2P2Lg3pCmbmAumkdiAvFM2fJqKZlrr3nvvnRr29XxuGrErWpxjs5DI3837s00juKZTajsiE+oX9Q3Cg+whPXZiDXseFaRlkohNP33xEzqZjPSqvyYR2vrWgzugcxjGitjUIYM1xvU6K7SITe7wR1lgZgNpKnXEhqNTGOx2FCM2nJA0v/Wtb01TqCxghRL0mRObkkZspAtxedvb3lZdc8016Rp9capXXHFF9Td/8zdprU0pkL8dsVkC+cT2TUXbd999uzU2/wdxanhrqJh+hsCoOC1SFUaMbJmKZsTm8ccfX/rP9iBNiI30jAvYXt67Sud2mTOKbmoJO/Be/EsJ/ncmmEZiI+48f4LYWGOTj9i0AfEGsRnlds8QvgGZQ2z222+/Zf7UdX5Ce9K0Vuv1Rq0XcU7DiI12MB9t8wBT0dqytVEiNg+YeGIDnOfZZ59d7bjjjm8a2lRJMOy2IQ0lERvpiYpSr4keTtOoLBJ2TbgegL/4i79IzknjBvIKuC1IN+ds2lBJxIZu7PhiKhoCE3aoZzumollrUwrkMd2ZuqOMT/uIDdvXCLPWbJqnokH4ADbNLmxXq4Fi+giSw68Sc+StbbRxi8Zb25BmxMZOTOMC+q2XPXWFufJ0q8EiP/i9gN8lYxqJTQ7pMPXLNv86SoxSsM228k28TRCbsFHvyodaHmCUN19/Z2SXvxCmkySujwrSMmnEppctafRrp08ysZGPiI1zAodh7Eds7NDjICyFxbQqlYRKVyGLxnvbYIiljdjQjXQZtkQK9SzpKdQQpzOjX+985zur4447Lt1HSiI2pa2xoR/rD6xJsl7JaAg7lO8OMlxrrbVGMg1grqBHa4CmndiwdSKfDjnkkGUjNtIWYW2g7REb7628i/uXv/xl2v49fCy7FqYjyRQ1jYYS6gdpRWysTxlHhK0hM4iNTiUjicoqP9dGGZ0LppXYhL8gdqZCbDTsdQBEfRt53CTEidjEzrGjQvgp8bFb7R1rPnSMsAl+48EHH0x2fdRRR6Xpv6GvUUGaJnnEhu68I10irmbfGC0bF18xG8hH65QnmtjIUIVFJaCH3DDc3XffnTLUCIOwURaY2YDhlTpiE4We/jTMERtn1hgF00PLEUHMnW0T0ivdnDNiY5exkqaiqUwRROs0VGyu6blCdA477LDldodpG8qJfO6moi2BxrtRQCM2Rh/oo03/UQKxCZtQxpQ1C4FNq9RgRdyNQG6zzTYpjX63DXqaBGLDJ5tOZ+qfBgvIiyAMpWNaiU1erxqxMbVV20nD3nXSVlke9Tk2OdgqEnPLLbektWL8Ax9iVMHBpfzI9ddfv6yNFnY/CtD3JBObAD+BRNuFrqTz8hYSQWwmeioag9XjbJjX2gaVgLUNGgQKFmnDifSCdJREbJCUaLSAhq09940saHzrlZVWZ1fECE4Qm1E6oWEQt3TnxIYNlAC6IRw3YsOZGwGzwQFSc9tttyUSXgpUKkFspnW7Z/aksWHU17QIpGaXXXZJ9m9dGZ24pw27b5vYQLyz+FWW/IFNRtgL8fv4449PPrgESKepCjEVrek8Wwgok+pcG7oYtdHZ5Bo7DcLgvUp+t2kkNuJmf4Q/sZOgTi6zIWy+ESNuQXyahPhGfY4NiIfo5PBpEwztCrM+nnzyyTQNjb84+eST00yRuJ+MCvJj0okNfbM3nSHWRMvjEjqaFhq9Ng/oZztjS2w4CY0P0yH0iJtComGud0RjN5xMCZCO0qai5U6FwRjeu+iii6qLL744rRUhGnug98V93qOfITUBcefE5sYbbyyG2ADyp6fu8ssvTwWQLi+55JLUsx0bM5QCjQ8V8LSeYxO2hLjbmtW0RlNHkBsk1AiOMGmMBkmTaIvY0EsvO1XOjN4iDvwEX8u2Vaj8R5Np7AdpkL5x2jwAcn07/8SUVbtpqdM00tknG2yjjM4F00hswk94dyRCGrw7n6KeUp6FtUFsYNTbPYP385vfBIRc+8xSASO9Ov34DH5E3RO6GKU+5MukExuzQzT2nZnEZ/Af6q9JQxCb2O6Z3cjfXvYzK2IzSgOcLRQKhcOiXz0DGkjmkXp5DiYcTQlplgZDhSURmzCI+NQoV4E+/PDDadQmNhKAYP9t61L88lSPhFEQIzacZ9vpCmj8SQvCbZ6r82HoFDHsB/e3kX56pDs7CrZNbKxtaRq5f5BvKjzTBuWX7/IwyIx7SZNQ/hCbG264odG46aNffPTEx1ozoANJY42O2Hfoqk1It4ovtntuo1zNBbm+1V/y/ic/+UkSHWIIArTlK2aL8CXTNmITeaOcqO9NaTUyIS3qUGVEXjedh+KLqWgLTWxy2w1iE37VJ99gzaI628gV3+qa/4UuRqkPcQSxUdeJf5TxtQHtYPbmjCCire7apEE+6rhaUGKjEps0g2gSDM/IksXaHeYG9sd5cpJGbG6++eZUieTOtcNgRBmmM7ozYtPmGhsNZNuidlgeKifE5lvf+lZn3zMEPVlj44DO+N2heYQv0RBpmthouLZBbEqGchC7oo1ixGaQiLufCB81xIFgn3XWWalT2UhGE/F2WHjwJ2YKLOjmAR2xmR86YjN/sD/EhnO20Nv6FY3zzi5njtCViqUEYtPWiE3pQGzMl+6IzcxBTx2xaR9tERv5HcRGfdthCfj8UY3YePYgkSf9RHgTQGyM2Gh7TeKIzbSgIzYFoiM28wf7M2XOds8O6ERsLMrs7HLmCF2pWDpiUy5MR/rABz6QiE1n3zMDe+qITfvoiE15iDU2o9w8oBf4rn7SFILY2OnVSF6TcXdYOHTEpkB0xGb+YH9GbCyO64jN3BC6CmJjeF4Zb4vYWM+F2HR5uDz4247YzA4dsSkDbROb22+/vSM2NbRFbNoG39kRm8kAf3LhhRd2xKYkdMRmYaDSNGJjJ604oLOzy5kjdJUTG9twtklsrLHpGqHLwy56iI1d0TrMDGyoIzbtoy1iw7d1xKY3EJump6KVAOlgh9bYaHt1xGZ8EcRmQc+x6YjN/NARm4WBnWVyYqNx3jVgZo4ow3QWxMa23m0RG1PRDjrooCJ21SoJdsOyxsZWsR1mho7YlIE2iY2Gq6loCE6HJaAXa2xsHqDuXEh4tnLWT4SPSmYCabDToDO31HXdGpvxBX/igM7YFW0QOmLTEDpiszDgqPQ6BbGxZbFrHWaGKMN0VhKxyeOfTcU1qeAvEBs2HujsfDDopyM27aNNYqPcIDb5OR7T7ku8f+yKZhr3QupDGdMpNVfx/7nKTOA+W/efccYZaT1ptyva+CLOsTEiG+hnC0OJjWkqiI1dehjifMGo6hLoFUYCvcJIYLZhJNArjAQGhfWD9SDgXj0Fn/vc59IhUXG9w+xh8wAHKGoM2+45TjnuMDsoy4gNom3v+zZskkNyVseBBx64XFlpg2SVgvCxGmgf/vCHq6uuuir9phe23+HNCJ35PPfcc6vNN9882ROd5XWW3yG9EGFRWdbvi/BccgwKg0Hh9bBh4XUMCq+HDQuvY1B4PYzEAY3O0jjqqKPS91Ei4pVn6llTVaIB26vRU0f8v2QJm+wlwvP3CMT/IIgN3eT3zBcRx1wl0jwXGYT8Pp3yp59++rJzbDqMJ/IRm9x2fK9jKLFxeN8OO+yQdulRseYGmSMiySNTqWik1BNRl0FhZCb/HRbeK4zMJ9y75eJ9Iyz+4xpH7xDRE088MVW8fsf9IfG//P8dlge9GKFh2Mccc0z61Dinv8inkLo+yaAwMp/wCBsW3iuMzCd8WFgvsD+6+/KXv1w9+eST6XfTkL4XX3wxHbZqrVTko89pBZ1olJtS46BJmwfwu+EvOrwZYTN6ZvlXDTh+IsJyiTIREsjD83t6heX39AuPa4PC+4UNC49rg8L7hc03PMKgX7i88N10yiOPPHLp3aNDpEO8CI16wZqSCJsJZnpfW4h37CX9EOF8h4OHd95552V1Zo78WXUJ+C5P6Zh4JsnzfqEljyfi7XdfXVyPNCM2SI1OPKf05+/VYXyQExt1onzuh6HExkn0W2+9dXXxxRdX1157bapor7/++uq6665b9um6z7gWEmG++18uTtQOmU3YfMMHhc02PN4x3jcPt+iXeH+9rhY9bbfddtXee++drrtWf3YuuV7j+RFf/dokSbz3Nddc8ya58sork94WLVqUbHLx4sXpP8KuvvrqgXqh017XJ13CXkKv8Z0elWkL950IrfJoGiodJ3Nvu+22acqV/I30TUJ+xbsQuu8l+T3+Y00NPVxxxRXVO97xjurYY49N/oKN33TTTcs9y3d6Cn8TPmnSJN4x96vxrvTgO/2waSO573vf+9KOifF/vqGfhG+pS+jY917/CxkUHs/qFUaGPXtcJfLj8ssvT3XeqBGNcIJMXXrppamsmLJM+Lf7779/qLhvHEXa77vvviT5e/h+7733Jh3ceuut1frrr58ahnZGc/2ee+6pfvCDHyx7/34SzyIRj//HM0Ylnh/vFOnIJdKS3xPimvf07nbR+uxnP5umRZrlkT83/h/vE/Lggw8OFPH3uh4yKDzS3yuMlPrsNsXasLvvvjvVh6ai5cS1F8EZSmw8dMstt6z23HPP6oADDkgVh8/99tsvyb777psa63vttdcy8Ttkn332Sdf22GOP9AyS3+u3sAjPw2YT7rMePtP/ziU8D4vw/B7vHjqiL9NtVlpppVTpOlzSf+rPq0s8J/ToM+6th+US9w0K7xdGBv13WHhcn8t/SdiU772eRY+mmmj0bbXVVtVnPvOZdC3uCZ3vv//+b5IIGxY+KGy+4YPC5hveKyxsLxdlWBg70vAw7/p///d/l5b45sApmYq26qqrpvVnbCN8S6R9HIWO43ueFyTyKpcIc7+1Y/IF4XzLW95SbbHFFqlSViYi3/L/RX5GmPtI/vyQCBsW3iuMzOS/w8J7hZFB4bl+vCfdEO/uepR7elp33XWrFVdcMVWAnhf/jf/3ype4FuUjl373xO9IXx4e3+O//cJ7/Xehnl0Pq4cPe/ZM4o7f9XDlmO4PP/zwao011lha2keHIDUaOC+88EJ19NFHp/TvvvvuaScwU+l32mmnascdd0yzT+riOnHPOIp3sJWzT7+NzBDv5Dqhg7e//e2p7qSXCOP/dSzNVNyf/yeePwrx/G222SZJPf5IQ3w3SptLnre77bZb2mGS0MOuu+6a9BT5TkKH7MX/I96IO/+dS6Qrl5mGDwqbb/igsPmGDwobRbhr2nr8PPvVWRWIsl/HUGLzyCOPpAcbudEIsT3r008/vUxce+qpp9Kn3xYDE/eR5557Lv2OsLhO4nr+37mE9wqL8FE+26f36yfxX2sY9AocccQRaTqa36T+/+eff36Z5PGHSKtpQ/7rM9d7hLsmbFh4r7Bh4RE2qmeTXs+K+4l31xOogXPRRRel3/RFfz/96U/TCIDKzRQn4nvIoHDX62GzCR/ls3uFDwrLw6Ur7CvszTXf6deUvh/+8IetjNhwSC+99FJqyDsklMT7SGNeHsZFwg58huTheT6E5OHyzGYOOpTWXnvtNLVKmaiXD+J7+CHfQ/r5qwgfFDYsfC7PHhYeYYOenb9v6Eq4a+zYdZ9GczfbbLMUFr4hnpvrPJ4dEuHuj/BcIiykfs+gsGH/LfXZw8L7PTvy89FHH00EaNSIxg2xTbpRI9NV+DVinbB2DIlruZhuX7r0SndI3MN/elf+g9j4SThfovMKAVB3aotoz8Vz4//9pFdcIZ4zKok8Y0cheVriWp6euB6fDz30UHp3ZJdv0PPv2XFP/b/iq4dH3VS/p562uB4ym/D5/HdYuO95+Gz+O9vw+fy3X7g8NLIo77SffSrrpmzHNO06ZrTGBouNNTYxhzEXEZi3aZ689SN6f93r0+/8WsyZ9B/XLP6OMNci3G//6xUe/60/ux4+12dH+KBnC/M7hsLy/wonuX7McT3++OOrc845Z9l/8+e6z7Nyif/PVuJ5c5Fh/51P+Fz+W78mz1RaemdNN3D4VuiLLnN9xv8jP3uFuRb51e+/wup5lYd7doTnYcOePSy8/uw8PP477L18hn5cj/tcV17NPdYIca2OXtcWEtKEhCH8kbZIK4n3GTfJ36HXu/QKz4UebM+65pprpoaI/Pe/yLteEvqL3/nz8vv6hc/nv8PC+z07wnMZFBaSh+fvzd4tEkZsYu1d3JP/r9d/6+GuKyO9wkj8v1d4hEV4HpaH9/rvsPAIG4dn23DI+rlRI0iNOK2tsbmMNa3xLoSfZB/5tUmT0HsuEfbyyy+nkQnTeNSZcT3qiX5Cb7nUw+M5o5B+8fKHeZ1I4l3jffJw665OO+20tJ7UJgqu1/8fEmHaGeKN+4jnuiYswiMun65FO7ge7rvrwvv9d1j4XJ4907hn8myfo3y28H7Ppn8cxK6XphfKb9ei7NcxI2JjiE5PiIgjkxlBXoD6RdDrWo75hI/y2cPQ77+uh5OPzHXttddeqz7/+c8nYiO8w9zA7vTAmIJmHj3DD5sclJ/zyethaPPZc42bfXIctsB8/PHH0/emIQ3iPuSQQ1JZkbfh0ITljaZxEnkSkl+vv1Pc0wsaaKboWauQP6dDf9CvBcKmTrMlevPZoVmEzm3P2uTmAcqHTTesqbBI3G82EfdMK+gBsTGt54477ljmS7RNQj9zRTxrFLJQeWZTER14cY4NjMoewhZ7YVAYzCd8Pv+FQeHz+S8MCo+wYeFg84BvfvObidi4Fjbis46hxMbQmxEbxtHrAR3ejFzpQWz0GhgORWzing6zB71Z3Gf+dhzQqSLtbHN2UKHpqNAQRC7YaaApXYrH9Kq8V1f+zreynQQgNh/5yEfSZgJ00jXQh4PdaLxssskmiSB3aAfhP373u9+lOm/UUD7Cb+hAtKVxEJsguKQO19zjfyTuK1HmA76dXnbZZZdlB3R6X3VnyZjve0eHp5HDs846a9l2z5HXHcYL+Tk2wzqyhxKbOKDzt7/97dIr8ze4UYCDCocKJTV26YujdY5N6Qd05jorNZ/tdhIjNqUc0CkN/fTlei4lgHN3zgRnb1S2jYYznZmXbzONQfobBSIu8Yb9lJQ/tii12NUOYKUg101JugqwaSOQpqL5DqWlsY6ZNLLcEzY6TtDDqgOqKdCRhqsdwNS3TUP8YXcBeet6lJc27FGaTIU3YmO2Q9Pw/joafA4imqOAeHTKn3nmmWkq2iScY9PLZ9BtIP8+SYgRGx0XUab6YayIjXhlKrYWxCVPi9+RqcNevElIhxEbU9FKJzagh4eOS4R8LZHY5GCbeQUn/3MpAdIXxMbCyGkjNsDGjVrleVUKSic2dBaNlFIgTeNGbHJIq3SHbuMdxhXWcrRFbNS3bUAa5F1eNsK3hTQN8VtzZPOApomN9w2dxGeTehDPJBEbPoEeA+EvchsLEjlpmDhiMyiTNE5iWCoymQT5aTqtvSANClTJxEYaQ8/0VyqksURiE1NfcnsLnRLfQ0qAPEZsNASnldiIkx7E65MO5GMbuqjDmsbSiA0dhb7ayK9hkLZxIja96id6Bdd1MLHHkt9hEPhmm7w0BXqyxua73/1u+mwS4T9AOuRjiOtRXtrIS3FaNG8b45iK1hTEzYa1x+ggymVTEP+kjdjkyG1KefOdnvOp5ZOCiR2xAS+kkCggdVIT6fLZZhp74T//8z/TWR0lEptwOKG3Ehp2/SCtJRKb0JuF72wSpIuEXkNKgPxGbKxJUMbbyHO6aZPYhA/JG5Al2BKURmzoJUZy6Y2UBmka5xEbOjaCqCxKf8l+eCawsYtDEZuCvG6L2ITvkGd8ifyLaz5zaQN2WbRWukli413Dln2nCxJlswmId9KITdgUaG/kO8OGbqNtPEmY6KloeYZ5ORlr2Nl5GBYXxT0yWHgpCGKjISmNbemwF6SFA7KYUIXgzAjOuUTI01KnorE5emR/nOkrr7ySbNO1yPNS8l1ap5nYiEuc4Sc0wizY1wBoY4e4OkodsaEnvb+ktF5B6RtHYpP7L+mOOs027OPcOJkmYpNDfiKoppNatK9BJl+lry175NuaJjZAF+xZ+8e6p2i/5TY/StD3pBGbsKNoV/DDNurQ3nB8gvfNfXNbNrfQmOgRGxA/R+FFHeJzyimnJNLgMB8NchnuxSPjS4CCbSqaindYpjQNhYDTMTfZ1AE7iPzqV78qKo0Buit18wCgSyT7/PPPT7q0q1WMBoSUAOVnmqeiRV54b7ZuC0nl89RTT00LbduGNJU2YoNsaRh98YtfTD4CCSwJbHqciE2kLXyHT2c1OFCRLdpspjQdzwY6ypqcikZ/Gq5tjdgQadCwvOeee6qTTjopNag1NksgNqaiWWPTVBq8M3t+4IEH0uGY//AP/5B2KKOjaKONGt51UkdstCu0Nxxg6SBnnZT88gUXXJA2BAL3RedIW7a3UJhIYhNx+lQooufQlr96ItZdd93qlltuSb0D8dJtpLMfONqc2DRRqGcKFZAT0s8444zqL//yL9Np0YhYiaC3UkdspEPh0zDZe++9q/e9730pvyHssRSbDGJj8wBbuk8bsQFxGuU1QnnJJZdUG2ywQbXrrrumNLWN0oiNClQD7eKLL056UicYUSgJ40Zs6tDLrwF6xRVXVO985zurbbbZZqyJDd/c9OYBRrraGrFha/LQmTFf+9rXqo9+9KNpJzLlJHx/W/bIjmwecPfddyc9NQE+gy/lM1ZbbbUUP/umg6b8vTgmjdhA6M+mEEZFEZsXXnghdfSfcMIJ1cknn5ymqLkHsfEZPnFcMRJig2kHBj1wVIg4fcZ3TsTwm17WHXbYofrBD36QMi/muDZVgIdBeksjNrkegS4dbLbRRhtVBx10UCoUkN9TAuit1BEb5IC+FMBLL700nadh3/XQdUm6VD4QG71o07jdcyD08Oyzz1YHHnhgdfDBB6cRt7ahY+GDH/xgMcRG3ug00kj71Kc+lXzEz372s6WhZUBejjOxCWigrLXWWqnDLu9QHDe0RWxuu+22VohN1AHKiQbmPvvskzq4+Ljw/23Yozh1AiNZTRIb8WhHmBGw0047VbvttltqR9JRU/WNd58kYuN9+DZtXG02BzhvuummabYNIknnfODaa6+dOvrdn3f2jzNyYuNdBr3PjImN+aIlKSZejNEagtt+++1Tg7epQjsbSKcCZWpBEJuSdBl45plnqo9//ONpxKbUw7sUatOGNIYRG+ksQZfSwNnIWz0kpiIYRVQQ2yANw0CPKp1pJzZAFxpE0rHffvulkYm2oWH2oQ99qLrhhhuKsG/5Q08Il+lFe+21VxrlLQnSNwnERoNFw0QP9zgTm2maihZgd8QIic43denzzz+f7DCkaUiPnv02zrHxvkZpDj300GrnnXdOxEZ6mtKFOCZtxCY67i0f4Iflq2UY2h3CdD4ZLTziiCPStSaJ5CiB2Fx44YWJ2AxDR2wagHRytIhNiZsHBDpiM3dIQwz5+jR6qHGiIPpdGugRsZnmc2xAnNEgCmJTwohNacQm9NQRm9GjIzZzQ5TjtomNdCA2/Mm+++6bfFz4tzbsUdxGbNhTG9s9d8Rm4eB91NXy9Mknn6y22GKLpFfkOQgP2+M/2J53d2/Y3zhjaomNBm8UmtIQmwfY7rlUAwtic8ABB3TEZg6QNuB4OmIzHJxtCSM24tYQih7Wjtj0hnTwY+Z0d8RmdLB+1FS0jtjMDspx28SGvZEgNqajmeYa/q0Ne4z0tHWOTUdsFg6hM/YkL9dYY41EYNi7qWjCrRvdcMMNl1vTRMInjiumnti02UjqBw2CUs+xCXDA1oV0xGZuiHQgCffee28iNqailehQpAmx0RCcdmIjXuXzsMMO64jNEHTEZvToiM3cwIe0TWwCGpT8WozYsMOQNiA9bWz37H07YrPwUF9bS2Yd5iGHHJJ2nzNiA/zHxhtvXG2++ebL6jJ6aKOOX0jU19gMwtgTG+wUWUBsFFqFpsmCM1N0xGZhIG9LJTYBDuS+++6r1llnneqiiy5KFW5poMduxOYN2IXMQueO2AwGPXXEZrTopqLNDaURGyPAiE3ba2ygIzaTQ2y8U7SD1lxzzVRnsfeYCu9MGyM28tvaqvjPpBCbO++8c6jtTByxkXkymJOLAlQCgtgYXWq7EdcPHbFZGOTExlaX8rs00GO3ecAbcEZLR2yGoyM2o4ddjDpiM3vwIaWN2JiKVgqxafocGxBXR2wWFupqtu6YAhsH7LLLLsnGtHuF2W7cxkXacUZygB7CJ44rEBsdxXVi08uOJorYKLQ5sfG9lDQjNtbYBLEhpQGxsXWgxl1HbOYOdofYaJwoiCU6FGkKYjOt59jk4N86YjMciI3ddmxj2233PBqYK69TpCM2swMfUhKx0ZhXTkogNtbYsKcmt3sG79sRm4UF/6C+5osdUYCwPvzww6ndK0yb3UiO9qZOktBziW3O2aAXsfHZ672GEhvTVBhkacTGy8hcw26IjcPMzL1zjQgvKSM52tKJjQJh8wA7Q0WFKp258bRtA9JhZK40YpPrx1zXO+64Iw0Hn3feeUWVm0BObKZxxKYel60zVb5s3zkibYIudISYP/2tb31r6dUyYFtsa5F233331BFSEiaF2GiIrbfeemn0nF2OK6aR2LA3otfc2gcH/tqUJ663YY/iDGLT5IiNeNQrdmTTANeO5D+UzSA3o4Y4gtio69omvPNF6JQgLc6x2Wqrrarrr78+/aZXbUy7pWmDKBPR0U/GGfkam3gX+uhlRzMiNg5XKo3YyEANSA7kuOOOq7bccsvquuuuSz0CFk9FxVYKFKhSp6LRlUauxWga4w7SspUgPSpA/YynDdAdYhMHdEpjCQj9SI/KFaGhy9NOO60oZxrppMduKtqSNDhI8PHHH0/z4R30Sx+xdWYbaRKv3riSiA09Ocj0scceS6Na9GSDjFIOyAV6G2diQ496XOnYiM3666+fDnqk9zbK53wxTcSGnYlfI9J7GwXnT7Sd7JAZPedt2KM4kYumd0WjD/5BG3LHHXdMi9mNLCAasYPXKBH6DmJjPem4Ext+jV7j3XR8xMHvTzzxRKrHlDmH1ntv96jL4v5xRp3YDHqfsSU2XkyGWRyFtZ599tnpUEQ9nRqXwoe9fJPIiU1pRqawmNInrxV+utTL5Fo0EOiyBNBbEJubb765GGITepIevVJOAj7rrLPSp9+lIOxOfiI20755gHwzOmn04ZJLLqm+9rWvJdvXmGyi8u0FaSqR2Bgd1+GhcqEnI7wqm1J8A72NM7GRVhsHWLt0xhlnpHdhlxoo8T7jhGkkNvJJY14jUz1K+Ff1gnvasEdxtkFsxEsXfIZ2j8a2gyStZ2yivgl9Kz/K06SM2JAAPer80Kmvwa+z96qrrkp+w33sUTt5EjAVxEZaZCqHYYGUhgAD9jsKjUwtJc0lExtGohHHCSGGr732WqqU8oadnqgSID3W2JgOUxKxyW2O3jQC5TmbpMtSEPkpz6ed2IgvGiLyix9R6dKLHlY6aTpNIE2lERugE50d6gJ68l2lGVMd2ga9jftUNLqkZ76Djvk3/iPKR7zXOGDaiE0Iv8Hv63SVHg2y8CWkaYizDWID/IOOI/6MLvhZ/rYJXUQc4kRsrLEZd2IDdd3pDKFbs5deffXV5J+jvRb1GIxa36PG1BAbTl7BiYzzOyrYYS/eNBSoWGMjXSXqksR3CF1CKemVjhKJTeiHQ6G/qMjokHMpBZFO6dKA1xCcVmIjTu8tz6IicC3KQaQn/94ExF8asfH+dCVtkVcIfNh7k/rpB+kYd2KT12fgO//hPcI2xwXTRGxA/JF/uR9RTuJ7G/YozraIDV0EMQd6CD/ShC179xixmRRi0wu57XlnfjnssA2bGwWmgthAOI8oNAHXVAb1622iZGIDkSY6q+stT2vb6RY/YhNrbEoaDQndSSOnkjeWS0HknzRN+4iNOKMi8D0k0uEzD2sK/FdpxEaaoqLUUFOJBqkpBdIy7sRGeiPt9YZJ2OO4YNqITeRd5Jn88zvPxzbyT5xtEZvQA8kb3k3qwsjypGwe0Auhx9CpERxlL9dvU7oeJaaG2EgP8ZIcSKTPd4XI9VJQJzalIBxx/j3SF3otCdLGOWsMf+c731k2rN02OOwc0kRKskHI8xaxmebNA8SpcR7Sz9YjL5uCdJRIbIKohz5ChDWpn36QjnElNtLJHkPPviOQPsNO453GBdNEbKIcSANf6nuIsFyahjjbWmOjHRbfQzc+m9SDBrH1rpOwecBMQL8k0IbNjQJTQ2wCeUZKY0hJKJnYzDQ9eWFpC9Jgy0pb8950001pkXcJ+szTEM4cXC9Bb4FIpzQFsZnGc2wiX3yGxPX4XsegsIWEMlniGpsm3n0+oLdxH7GB8BfxDjCO7zFtxCbPt/juet6YbyMfxdnmiE180ktu001Bg/hLX/pS8g3WEE8ScnsKQp2jrv9xxoISGzvf2KrPAqx8KLHDcORGZVu+448/PhWuTn9zB4NGbKyxMRWNsc+00phP+Lg+O+Ce3Bkox0ghoq2Mt0Vsnn766dT4KWkdUtvQUy9vVl555XRAZw4669AbdPONb3wjHTIMbH3cK/NxBhs+5phjlv4aPeS/jW9K24mybWi3aX/Yot3W09MGm8KYiqaum4YRm0mFKYX8u/N5wq9Hu6aOocRGby5iowHZVRJzhx1uFi1alA4T7TA/cM4aw7fffnvXIJ4jlGU9qoh2m2tsnMqNpHJQQbo6LGkUrrLKKmm6ZYeZgT19/etfT4cMd2gf5voffvjhS3+NHvyHmSV6dLsG7BswjdEObdtuu23qFJw2ONsQsVHXdXYxvsBBLrzwwuquu+5K7ZdB7YWhxObHP/5xOmXaiE0bjZ9JgAzQg3TkkUemeZ4d5gfD6QcffHBq9GmcIzcd6R6O3BGo7GLEpu2paE77l7ZYw9FhydTVv/3bv01ndHWYGfgA9rzRRhslew7p0A74ZYe5NgX+xAn76gVTrzq8AXoxFe3uu+9eemV6YFe0008/fWI3D5gG8O2mzl966aVp8yhQ3vsRnBkTG2xpEEPqMBgK1Oc+97nq3HPPXXqlw1zBsD/1qU+lKQem7bDLzjZnB05Bj6oD5NqciuYwwgMOOGDplQ6BX/ziF9Uaa6zREZtZQCWn8bL11lt3HR0FALFpsmyrA6yhuPPOO7upaDUYGd9uu+2q2267bemV6YGpaIsXL65OO+20NCWvH/gM9aAOtk7KEtMpzXpyMLQ1dNoOgzCU2Dz44IPVJz7xidQwtwOVhmQnMxOO3TkrGpAvvvhiddxxx1XnnHNOOrDKtV7/6aS/0JmRQ4TmiCOOqG655ZbUG8MuhRE67/VfMijc9UHhw54/n2cPC5/vf9lg3BditIYdnnLKKW8asQmiOMx5zBeeb8TGVLRIY693mDahh6eeeio10C+//PJk35F/RihJ+BXXI8y1+vVcZhLeLyyeP59nk15hM3l2/b3jeTFi61Pn20knnZTWEpiS5D7Xe+m4k9GKPLGQX9luCvyJhqt64Wc/+1nPBtIkikYf8T1GKesN9GeeeSaNnhmxiXunRRAbSwA0iq3Bci3XUy999QrvpD2RJ4jN+eefn6aaujYIQ4nNI488Uh100EHVZZddVl177bVpl55vf/vbSW688ca0MxWxyLWT5eWqq66qrrzyyur6669Puznsu+++ydFfffXV6Rr9kdBn/I+O8+f0EvdMm9AZ3Wm8GEXUA3Pdddel62zT907eLLn+/KYrerziiivSTn3KOMehYRBOpAmIz+YBRt+kTXlRDqSxl81Pg8gbohLeeOON0+Jrv43c0I98C3Et7qezuCfu85vE/YPChoVH2LDw+L2Qz45r8a65Pgjy5zcbOvDAA6stt9xymU6Ex/M6aUbkg89LLrkkTRluajQ9RmyUIxvLPPDAA0nuv//+9KmTNj57yaAwMuy/o3o2GRZOHnrooeXENf+77777kk522223tPjaOhth1qoKc8+kiTz3bgSZO/bYY9PmTdqq9957b+rMs7bUUQePPvroMn35fPjhh1Od2EkZIj/Yqk0DTDWWpzEirw3Ra3R+KLExUqOHnJMi5rjlolIhEd7JG6JS1XhEClXOnMoFF1yQGpl+Iz3CCR26j079t67nTi5NetJg8V3Dj87o0bXQZ0joNZeZhvcKIzP577DwXmFkJv8dFt4vLBqAfrOx3NZUeOZfR68fcBZNQEOEf5E2ZYLdX3zxxakTwGdelqZFIt/Ys9OyLZbUQI/8jbIg/yIvI5/z/A2J+/L/1cMjbFh4PWxYeB42LLwelof7Hjaev2f8l62EDV100UVpeqXvcd8wied0MjPppcNc5JE8Y7fs18gZjNqveD5iY6qy/GcT0iHNbKT+HpMk9TxwjT/x3oimDlQdgaETecPHRL0waeLdorPMu5opo7ffb3UeGw3dhZ7CRkJ/nZQj8jQ6PU1fR2YG+ZOhxAbqhyDGNJX6tU6Wl9ALxx6/ge6a6hWfJBhN0PjOdWnaw7BhyQ79oWyzR46CLgO5jkcJ8dTzNL77nDaRD0Ewc7DxXj1THZb407pPrdtzh2YR9sy/xO+m/HT4s668LEHkQfhZ7RG6iXIzqeIdY6qqd2d/RFiH8QPblZcgH01Flpeu1zEjYtOhQ4cOHTp06NChQ4cOJaMjNh06dOjQoUOHDh06dBh7dMSmQ4cOHTp06NChQ4cOY4+O2HTo0KFDhw4dOnTo0GHs0RGbDh06dOjQoUOHDh06jD06YtOhQ4cOHTp06NChQ4exR0dsOnTo0KFDhw4dOnToMPboiM1SxD779j73PT7tk+16r72yXYt77K8d38GZCrGPfjwrTncPxP3xGWHuJ35H3PHf+vk3va7lEB7xE8+LZwrLnz1TxH8DEUcg0g4Rbz8Ii//m7zHoP54dcca7+F7/HfeC3/Ed3Bfxue57xJk/p0OHDh06dOjQocN4oCM2/wcNWIe5OQXdqaZPP/109dJLL1X/8z//kxq5DndyyNUvf/nLFPb8889Xv/vd75YjCEFsfvOb31R//OMflzWchcX31157LT3/ueeeq/7jP/5j2eGIwv/whz9Ur7zySvXkk09WL774YorLifBPPfVUis/1n//850l+/etfLzvNWZz+X4c0e8YzzzyTnufZL7zwQvXyyy+ndyOe+4tf/CIdYjXbRnxOEnynJ8/w6eAkehCXd/3tb3+73P11xH//67/+K/1HWr3nq6++mn77JN7DO3h2xOndCf3H53//93+neJ999tmkg9BREBm/6d7znnjiiaTnyL94B/f73qFDhw4dOnTo0GE80BGb/4MGrMY40nLBBRdUe++9d3XQQQdV1113XSIpGrq/+tWvqu9///vVl770peqyyy5LjWHkASGK3n5E6NZbb62+973vpYaxxneIxvYDDzxQfeUrX6l222236thjj63uvvvudN3/NcC/853vVCeffHJ14403pob5Qw89VJ122mnVwQcfXO2///7V1772tercc8+tzjrrrJS2H/3oR6lB3gue594vfOEL6X+nnnpqtc8++1Sf+tSn0vevfvWr1aJFi9LzkQdpHNSQjzCf0egndAN0gXAhfEgDwnDmmWdWhx9+eHX77bcve8/4Xx2Imvf99Kc/XZ1xxhnV2WefXR199NHV7rvvXh122GHpWd77uOOOS3qTBroXr+cS7+Aa0ubeQw89tLrqqqsScXOdiNu9r7/+etLhfvvtl3Tht3ehT8/slcYOHTp06NChQ4cOpaKq/n/IkPkfvsyv9gAAAABJRU5ErkJggg==)"
      ],
      "metadata": {
        "id": "H4-SbY3wLtlN"
      }
    },
    {
      "cell_type": "markdown",
      "source": [
        "Operadores Relacionais"
      ],
      "metadata": {
        "id": "oeiCJJT2NDjF"
      }
    },
    {
      "cell_type": "code",
      "source": [
        "10 > 10"
      ],
      "metadata": {
        "colab": {
          "base_uri": "https://localhost:8080/"
        },
        "id": "fyvsJB2VNMDe",
        "outputId": "911fc67e-be04-46bb-8d9f-07fa3b144606"
      },
      "execution_count": 18,
      "outputs": [
        {
          "output_type": "execute_result",
          "data": {
            "text/plain": [
              "False"
            ]
          },
          "metadata": {},
          "execution_count": 18
        }
      ]
    },
    {
      "cell_type": "code",
      "source": [
        "10 == 10"
      ],
      "metadata": {
        "colab": {
          "base_uri": "https://localhost:8080/"
        },
        "id": "H2khphzcNcBd",
        "outputId": "56fa183e-876b-481d-af77-f3bceb428ec5"
      },
      "execution_count": 19,
      "outputs": [
        {
          "output_type": "execute_result",
          "data": {
            "text/plain": [
              "True"
            ]
          },
          "metadata": {},
          "execution_count": 19
        }
      ]
    },
    {
      "cell_type": "code",
      "source": [
        "'A' == 'a'"
      ],
      "metadata": {
        "colab": {
          "base_uri": "https://localhost:8080/"
        },
        "id": "dfQaRuGvNeTt",
        "outputId": "2b45b550-4f7a-4159-ea57-0f61b376741c"
      },
      "execution_count": 22,
      "outputs": [
        {
          "output_type": "execute_result",
          "data": {
            "text/plain": [
              "False"
            ]
          },
          "metadata": {},
          "execution_count": 22
        }
      ]
    },
    {
      "cell_type": "code",
      "source": [
        "t1 = 10\n",
        "t2  = '10'\n",
        "t1 == t2"
      ],
      "metadata": {
        "colab": {
          "base_uri": "https://localhost:8080/"
        },
        "id": "uQ96fFZlOhe9",
        "outputId": "9821f291-6547-43e0-fed8-ac64e83efa9a"
      },
      "execution_count": 23,
      "outputs": [
        {
          "output_type": "execute_result",
          "data": {
            "text/plain": [
              "False"
            ]
          },
          "metadata": {},
          "execution_count": 23
        }
      ]
    },
    {
      "cell_type": "code",
      "source": [
        "type(t1)"
      ],
      "metadata": {
        "colab": {
          "base_uri": "https://localhost:8080/"
        },
        "id": "kT757Ga2O6YN",
        "outputId": "796f1d79-fdc0-4889-873f-17e6f94169d2"
      },
      "execution_count": 24,
      "outputs": [
        {
          "output_type": "execute_result",
          "data": {
            "text/plain": [
              "int"
            ]
          },
          "metadata": {},
          "execution_count": 24
        }
      ]
    },
    {
      "cell_type": "code",
      "source": [
        "type(t2)"
      ],
      "metadata": {
        "colab": {
          "base_uri": "https://localhost:8080/"
        },
        "id": "d3idrvA1O9cF",
        "outputId": "67ccff67-c149-4700-b6be-3fa1038ff3f2"
      },
      "execution_count": 25,
      "outputs": [
        {
          "output_type": "execute_result",
          "data": {
            "text/plain": [
              "str"
            ]
          },
          "metadata": {},
          "execution_count": 25
        }
      ]
    },
    {
      "cell_type": "markdown",
      "source": [
        "Conversão de tipos"
      ],
      "metadata": {
        "id": "kN2KzkUqPG9G"
      }
    },
    {
      "cell_type": "code",
      "source": [
        "novo_t2 = int(t2)\n",
        "novo_t2"
      ],
      "metadata": {
        "colab": {
          "base_uri": "https://localhost:8080/"
        },
        "id": "nc6eraupPLzV",
        "outputId": "9d4aa1a1-46ba-41ba-e257-a0588b7bee3a"
      },
      "execution_count": 26,
      "outputs": [
        {
          "output_type": "execute_result",
          "data": {
            "text/plain": [
              "10"
            ]
          },
          "metadata": {},
          "execution_count": 26
        }
      ]
    },
    {
      "cell_type": "code",
      "source": [
        "type(novo_t2)"
      ],
      "metadata": {
        "colab": {
          "base_uri": "https://localhost:8080/"
        },
        "id": "-wZfmPLvPlJN",
        "outputId": "5aac493e-e753-42ea-d6a2-2a27fc342baa"
      },
      "execution_count": 27,
      "outputs": [
        {
          "output_type": "execute_result",
          "data": {
            "text/plain": [
              "int"
            ]
          },
          "metadata": {},
          "execution_count": 27
        }
      ]
    },
    {
      "cell_type": "code",
      "source": [
        "t1 == novo_t2"
      ],
      "metadata": {
        "colab": {
          "base_uri": "https://localhost:8080/"
        },
        "id": "Rj5I2k7FPrPB",
        "outputId": "be18c3c6-7259-4ca8-c147-4a6960984255"
      },
      "execution_count": 28,
      "outputs": [
        {
          "output_type": "execute_result",
          "data": {
            "text/plain": [
              "True"
            ]
          },
          "metadata": {},
          "execution_count": 28
        }
      ]
    },
    {
      "cell_type": "markdown",
      "source": [
        "Recebendo dados via input"
      ],
      "metadata": {
        "id": "0rZUIktEP231"
      }
    },
    {
      "cell_type": "code",
      "source": [
        "nome = input('Digite seu nome')"
      ],
      "metadata": {
        "colab": {
          "base_uri": "https://localhost:8080/"
        },
        "id": "L1HBQKTIP6sZ",
        "outputId": "3cc49511-88d1-4934-93f9-14b777725261"
      },
      "execution_count": 30,
      "outputs": [
        {
          "name": "stdout",
          "output_type": "stream",
          "text": [
            "Digite seu nome Mariana\n"
          ]
        }
      ]
    },
    {
      "cell_type": "code",
      "source": [
        "nome"
      ],
      "metadata": {
        "colab": {
          "base_uri": "https://localhost:8080/",
          "height": 35
        },
        "id": "RUHTKa1GQT_F",
        "outputId": "e1670fbd-d65d-47f7-e13c-bc1faae8bd88"
      },
      "execution_count": 31,
      "outputs": [
        {
          "output_type": "execute_result",
          "data": {
            "text/plain": [
              "' Mariana'"
            ],
            "application/vnd.google.colaboratory.intrinsic+json": {
              "type": "string"
            }
          },
          "metadata": {},
          "execution_count": 31
        }
      ]
    },
    {
      "cell_type": "code",
      "source": [
        "idade = int(input('Digite sua idade:'))"
      ],
      "metadata": {
        "colab": {
          "base_uri": "https://localhost:8080/"
        },
        "id": "vMvbDx7JQVy9",
        "outputId": "8a871bfc-bd3d-47b0-b77f-09a5c8f976a4"
      },
      "execution_count": 39,
      "outputs": [
        {
          "name": "stdout",
          "output_type": "stream",
          "text": [
            "Digite sua idade: 16\n"
          ]
        }
      ]
    },
    {
      "cell_type": "code",
      "source": [
        "idade"
      ],
      "metadata": {
        "colab": {
          "base_uri": "https://localhost:8080/"
        },
        "id": "anjv0OBBQqcU",
        "outputId": "bbdb19f8-0130-4f8f-832c-a0515c77fc9d"
      },
      "execution_count": 40,
      "outputs": [
        {
          "output_type": "execute_result",
          "data": {
            "text/plain": [
              "16"
            ]
          },
          "metadata": {},
          "execution_count": 40
        }
      ]
    },
    {
      "cell_type": "code",
      "source": [
        "type(idade)"
      ],
      "metadata": {
        "colab": {
          "base_uri": "https://localhost:8080/"
        },
        "id": "3bi-8L-YQgZE",
        "outputId": "7b04d149-39bf-4fe7-cbc6-9616261f8ed2"
      },
      "execution_count": 41,
      "outputs": [
        {
          "output_type": "execute_result",
          "data": {
            "text/plain": [
              "int"
            ]
          },
          "metadata": {},
          "execution_count": 41
        }
      ]
    },
    {
      "cell_type": "code",
      "source": [
        "nascimento = 2023 - idade\n",
        "nascimento"
      ],
      "metadata": {
        "colab": {
          "base_uri": "https://localhost:8080/"
        },
        "id": "xPvPZPmgRQk9",
        "outputId": "31253fd9-c90a-482c-90cc-f01766a4887d"
      },
      "execution_count": 42,
      "outputs": [
        {
          "output_type": "execute_result",
          "data": {
            "text/plain": [
              "2007"
            ]
          },
          "metadata": {},
          "execution_count": 42
        }
      ]
    },
    {
      "cell_type": "code",
      "source": [
        "print(\"Olá {}, você tem {} e nasceu em {}\".format(nome,idade,nascimento))"
      ],
      "metadata": {
        "colab": {
          "base_uri": "https://localhost:8080/"
        },
        "id": "q4rC7HCHRvL0",
        "outputId": "0b4ee3b0-e7da-4eb7-df06-107de6de5a5b"
      },
      "execution_count": 44,
      "outputs": [
        {
          "output_type": "stream",
          "name": "stdout",
          "text": [
            "Olá  Mariana, você tem 16 e nasceu em 2007\n"
          ]
        }
      ]
    },
    {
      "cell_type": "markdown",
      "source": [
        "**exercício 01**\n",
        "receba 3 valores digitados e calcule a média destes valores. Exiba na 'A média dos valores digitados é XXX'"
      ],
      "metadata": {
        "id": "8poYwvf3TqIV"
      }
    },
    {
      "cell_type": "code",
      "source": [
        "N1 = float(input('Digite um valor '))\n",
        "N2 = float(input('Digite um valor '))\n",
        "N3 = float(input('Digite um valor '))"
      ],
      "metadata": {
        "colab": {
          "base_uri": "https://localhost:8080/"
        },
        "id": "udhbdDcLUC2z",
        "outputId": "1ebea699-7137-4d40-abbb-4275072be16e"
      },
      "execution_count": 61,
      "outputs": [
        {
          "name": "stdout",
          "output_type": "stream",
          "text": [
            "Digite um valor 5\n",
            "Digite um valor 11\n",
            "Digite um valor 63\n"
          ]
        }
      ]
    },
    {
      "cell_type": "code",
      "source": [
        "media = (N1 + N2 + N3)/3\n",
        "media"
      ],
      "metadata": {
        "colab": {
          "base_uri": "https://localhost:8080/"
        },
        "id": "UJ7RxcjgVrrs",
        "outputId": "0d550bbb-dcc3-4797-9cff-a485bc1e9e0f"
      },
      "execution_count": 62,
      "outputs": [
        {
          "output_type": "execute_result",
          "data": {
            "text/plain": [
              "26.333333333333332"
            ]
          },
          "metadata": {},
          "execution_count": 62
        }
      ]
    },
    {
      "cell_type": "code",
      "source": [
        "print(\"A média dos valores digitados é: \",media)"
      ],
      "metadata": {
        "colab": {
          "base_uri": "https://localhost:8080/"
        },
        "id": "s8yIU7nPURll",
        "outputId": "b9d3353d-cfa1-428c-cb00-7248adb74a86"
      },
      "execution_count": 63,
      "outputs": [
        {
          "output_type": "stream",
          "name": "stdout",
          "text": [
            "A média dos valores digitados é:  26.333333333333332\n"
          ]
        }
      ]
    },
    {
      "cell_type": "markdown",
      "source": [
        "# NOTA\n",
        "\n",
        "\n",
        "\n",
        "*   Podemos converter para inteiro utilizando: int()\n",
        "*   Podemos converter para decimal utilizando: float()\n",
        "*   Podemos converter para String utilizando: str()\n",
        "\n"
      ],
      "metadata": {
        "id": "ye-7suNVWK_9"
      }
    },
    {
      "cell_type": "code",
      "source": [
        "print('A média dos valores digitados é {}'.format(round(media,2)))"
      ],
      "metadata": {
        "colab": {
          "base_uri": "https://localhost:8080/"
        },
        "id": "j3vncYyBXT4v",
        "outputId": "d3cdadb4-7e81-4b65-e3cc-591816bde8c5"
      },
      "execution_count": 64,
      "outputs": [
        {
          "output_type": "stream",
          "name": "stdout",
          "text": [
            "A média dos valores digitados é 26.33\n"
          ]
        }
      ]
    },
    {
      "cell_type": "markdown",
      "source": [
        "# Exercício 2\n",
        "Solicite a largura e altura de uma parede. Sabendo que 1 litro de tinta pinta 2m² de parede, informe quantos litros de tinta serão necessários para pintar a parede informada."
      ],
      "metadata": {
        "id": "mFcwuEcJepst"
      }
    },
    {
      "cell_type": "code",
      "source": [
        "altura = float(input('Digite a altura da parede '))\n",
        "largura = float(input('Digite a largura da parede '))"
      ],
      "metadata": {
        "colab": {
          "base_uri": "https://localhost:8080/"
        },
        "id": "Qcwa8dSOfNvV",
        "outputId": "e5f2cc7f-96a0-45a7-8061-4239f57b3d86"
      },
      "execution_count": 71,
      "outputs": [
        {
          "name": "stdout",
          "output_type": "stream",
          "text": [
            "Digite a altura da parede 1.8\n",
            "Digite a largura da parede 5.5\n"
          ]
        }
      ]
    },
    {
      "cell_type": "code",
      "source": [
        "area = altura * largura\n",
        "area"
      ],
      "metadata": {
        "colab": {
          "base_uri": "https://localhost:8080/"
        },
        "id": "FhxVzU6zgKv1",
        "outputId": "e555bf9a-d506-440e-f5d5-8d1627a09b31"
      },
      "execution_count": 72,
      "outputs": [
        {
          "output_type": "execute_result",
          "data": {
            "text/plain": [
              "9.9"
            ]
          },
          "metadata": {},
          "execution_count": 72
        }
      ]
    },
    {
      "cell_type": "code",
      "source": [
        "litros = area/2\n",
        "litros"
      ],
      "metadata": {
        "colab": {
          "base_uri": "https://localhost:8080/"
        },
        "id": "nvhwnahRgaHG",
        "outputId": "61e4c7dd-53c9-4d9d-fe4f-5b99f3893aa7"
      },
      "execution_count": 73,
      "outputs": [
        {
          "output_type": "execute_result",
          "data": {
            "text/plain": [
              "4.95"
            ]
          },
          "metadata": {},
          "execution_count": 73
        }
      ]
    },
    {
      "cell_type": "code",
      "source": [
        "print(\"Será necessário {} litros de tinta\".format(litros))"
      ],
      "metadata": {
        "colab": {
          "base_uri": "https://localhost:8080/"
        },
        "id": "7BApkITCghVG",
        "outputId": "ec09061d-c0e5-4890-d33f-aee0f12b7295"
      },
      "execution_count": 70,
      "outputs": [
        {
          "output_type": "stream",
          "name": "stdout",
          "text": [
            "Será necessário 12.0 litros de tinta\n"
          ]
        }
      ]
    }
  ]
}